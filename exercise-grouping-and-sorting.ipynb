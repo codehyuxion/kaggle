{
 "cells": [
  {
   "cell_type": "markdown",
   "id": "aea84320",
   "metadata": {
    "papermill": {
     "duration": 0.029477,
     "end_time": "2022-03-02T23:45:36.207554",
     "exception": false,
     "start_time": "2022-03-02T23:45:36.178077",
     "status": "completed"
    },
    "tags": []
   },
   "source": [
    "**This notebook is an exercise in the [Pandas](https://www.kaggle.com/learn/pandas) course.  You can reference the tutorial at [this link](https://www.kaggle.com/residentmario/grouping-and-sorting).**\n",
    "\n",
    "---\n"
   ]
  },
  {
   "cell_type": "markdown",
   "id": "30fc91fd",
   "metadata": {
    "papermill": {
     "duration": 0.029826,
     "end_time": "2022-03-02T23:45:36.265723",
     "exception": false,
     "start_time": "2022-03-02T23:45:36.235897",
     "status": "completed"
    },
    "tags": []
   },
   "source": [
    "# Introduction\n",
    "\n",
    "In these exercises we'll apply groupwise analysis to our dataset.\n",
    "\n",
    "Run the code cell below to load the data before running the exercises."
   ]
  },
  {
   "cell_type": "code",
   "execution_count": 1,
   "id": "4af1d1fb",
   "metadata": {
    "execution": {
     "iopub.execute_input": "2022-03-02T23:45:36.336710Z",
     "iopub.status.busy": "2022-03-02T23:45:36.335750Z",
     "iopub.status.idle": "2022-03-02T23:45:39.570047Z",
     "shell.execute_reply": "2022-03-02T23:45:39.569273Z",
     "shell.execute_reply.started": "2022-02-10T18:45:31.311237Z"
    },
    "papermill": {
     "duration": 3.276194,
     "end_time": "2022-03-02T23:45:39.570223",
     "exception": false,
     "start_time": "2022-03-02T23:45:36.294029",
     "status": "completed"
    },
    "tags": []
   },
   "outputs": [
    {
     "name": "stdout",
     "output_type": "stream",
     "text": [
      "Setup complete.\n"
     ]
    }
   ],
   "source": [
    "import pandas as pd\n",
    "\n",
    "reviews = pd.read_csv(\"../input/wine-reviews/winemag-data-130k-v2.csv\", index_col=0)\n",
    "#pd.set_option(\"display.max_rows\", 5)\n",
    "\n",
    "from learntools.core import binder; binder.bind(globals())\n",
    "from learntools.pandas.grouping_and_sorting import *\n",
    "print(\"Setup complete.\")"
   ]
  },
  {
   "cell_type": "code",
   "execution_count": 2,
   "id": "52bd300f",
   "metadata": {
    "execution": {
     "iopub.execute_input": "2022-03-02T23:45:39.635012Z",
     "iopub.status.busy": "2022-03-02T23:45:39.634274Z",
     "iopub.status.idle": "2022-03-02T23:45:39.656427Z",
     "shell.execute_reply": "2022-03-02T23:45:39.656953Z",
     "shell.execute_reply.started": "2022-02-10T18:45:34.585571Z"
    },
    "papermill": {
     "duration": 0.058246,
     "end_time": "2022-03-02T23:45:39.657130",
     "exception": false,
     "start_time": "2022-03-02T23:45:39.598884",
     "status": "completed"
    },
    "tags": []
   },
   "outputs": [
    {
     "data": {
      "text/html": [
       "<div>\n",
       "<style scoped>\n",
       "    .dataframe tbody tr th:only-of-type {\n",
       "        vertical-align: middle;\n",
       "    }\n",
       "\n",
       "    .dataframe tbody tr th {\n",
       "        vertical-align: top;\n",
       "    }\n",
       "\n",
       "    .dataframe thead th {\n",
       "        text-align: right;\n",
       "    }\n",
       "</style>\n",
       "<table border=\"1\" class=\"dataframe\">\n",
       "  <thead>\n",
       "    <tr style=\"text-align: right;\">\n",
       "      <th></th>\n",
       "      <th>country</th>\n",
       "      <th>description</th>\n",
       "      <th>designation</th>\n",
       "      <th>points</th>\n",
       "      <th>price</th>\n",
       "      <th>province</th>\n",
       "      <th>region_1</th>\n",
       "      <th>region_2</th>\n",
       "      <th>taster_name</th>\n",
       "      <th>taster_twitter_handle</th>\n",
       "      <th>title</th>\n",
       "      <th>variety</th>\n",
       "      <th>winery</th>\n",
       "    </tr>\n",
       "  </thead>\n",
       "  <tbody>\n",
       "    <tr>\n",
       "      <th>0</th>\n",
       "      <td>Italy</td>\n",
       "      <td>Aromas include tropical fruit, broom, brimston...</td>\n",
       "      <td>Vulkà Bianco</td>\n",
       "      <td>87</td>\n",
       "      <td>NaN</td>\n",
       "      <td>Sicily &amp; Sardinia</td>\n",
       "      <td>Etna</td>\n",
       "      <td>NaN</td>\n",
       "      <td>Kerin O’Keefe</td>\n",
       "      <td>@kerinokeefe</td>\n",
       "      <td>Nicosia 2013 Vulkà Bianco  (Etna)</td>\n",
       "      <td>White Blend</td>\n",
       "      <td>Nicosia</td>\n",
       "    </tr>\n",
       "    <tr>\n",
       "      <th>1</th>\n",
       "      <td>Portugal</td>\n",
       "      <td>This is ripe and fruity, a wine that is smooth...</td>\n",
       "      <td>Avidagos</td>\n",
       "      <td>87</td>\n",
       "      <td>15.0</td>\n",
       "      <td>Douro</td>\n",
       "      <td>NaN</td>\n",
       "      <td>NaN</td>\n",
       "      <td>Roger Voss</td>\n",
       "      <td>@vossroger</td>\n",
       "      <td>Quinta dos Avidagos 2011 Avidagos Red (Douro)</td>\n",
       "      <td>Portuguese Red</td>\n",
       "      <td>Quinta dos Avidagos</td>\n",
       "    </tr>\n",
       "    <tr>\n",
       "      <th>2</th>\n",
       "      <td>US</td>\n",
       "      <td>Tart and snappy, the flavors of lime flesh and...</td>\n",
       "      <td>NaN</td>\n",
       "      <td>87</td>\n",
       "      <td>14.0</td>\n",
       "      <td>Oregon</td>\n",
       "      <td>Willamette Valley</td>\n",
       "      <td>Willamette Valley</td>\n",
       "      <td>Paul Gregutt</td>\n",
       "      <td>@paulgwine</td>\n",
       "      <td>Rainstorm 2013 Pinot Gris (Willamette Valley)</td>\n",
       "      <td>Pinot Gris</td>\n",
       "      <td>Rainstorm</td>\n",
       "    </tr>\n",
       "    <tr>\n",
       "      <th>3</th>\n",
       "      <td>US</td>\n",
       "      <td>Pineapple rind, lemon pith and orange blossom ...</td>\n",
       "      <td>Reserve Late Harvest</td>\n",
       "      <td>87</td>\n",
       "      <td>13.0</td>\n",
       "      <td>Michigan</td>\n",
       "      <td>Lake Michigan Shore</td>\n",
       "      <td>NaN</td>\n",
       "      <td>Alexander Peartree</td>\n",
       "      <td>NaN</td>\n",
       "      <td>St. Julian 2013 Reserve Late Harvest Riesling ...</td>\n",
       "      <td>Riesling</td>\n",
       "      <td>St. Julian</td>\n",
       "    </tr>\n",
       "    <tr>\n",
       "      <th>4</th>\n",
       "      <td>US</td>\n",
       "      <td>Much like the regular bottling from 2012, this...</td>\n",
       "      <td>Vintner's Reserve Wild Child Block</td>\n",
       "      <td>87</td>\n",
       "      <td>65.0</td>\n",
       "      <td>Oregon</td>\n",
       "      <td>Willamette Valley</td>\n",
       "      <td>Willamette Valley</td>\n",
       "      <td>Paul Gregutt</td>\n",
       "      <td>@paulgwine</td>\n",
       "      <td>Sweet Cheeks 2012 Vintner's Reserve Wild Child...</td>\n",
       "      <td>Pinot Noir</td>\n",
       "      <td>Sweet Cheeks</td>\n",
       "    </tr>\n",
       "  </tbody>\n",
       "</table>\n",
       "</div>"
      ],
      "text/plain": [
       "    country                                        description  \\\n",
       "0     Italy  Aromas include tropical fruit, broom, brimston...   \n",
       "1  Portugal  This is ripe and fruity, a wine that is smooth...   \n",
       "2        US  Tart and snappy, the flavors of lime flesh and...   \n",
       "3        US  Pineapple rind, lemon pith and orange blossom ...   \n",
       "4        US  Much like the regular bottling from 2012, this...   \n",
       "\n",
       "                          designation  points  price           province  \\\n",
       "0                        Vulkà Bianco      87    NaN  Sicily & Sardinia   \n",
       "1                            Avidagos      87   15.0              Douro   \n",
       "2                                 NaN      87   14.0             Oregon   \n",
       "3                Reserve Late Harvest      87   13.0           Michigan   \n",
       "4  Vintner's Reserve Wild Child Block      87   65.0             Oregon   \n",
       "\n",
       "              region_1           region_2         taster_name  \\\n",
       "0                 Etna                NaN       Kerin O’Keefe   \n",
       "1                  NaN                NaN          Roger Voss   \n",
       "2    Willamette Valley  Willamette Valley        Paul Gregutt   \n",
       "3  Lake Michigan Shore                NaN  Alexander Peartree   \n",
       "4    Willamette Valley  Willamette Valley        Paul Gregutt   \n",
       "\n",
       "  taster_twitter_handle                                              title  \\\n",
       "0          @kerinokeefe                  Nicosia 2013 Vulkà Bianco  (Etna)   \n",
       "1            @vossroger      Quinta dos Avidagos 2011 Avidagos Red (Douro)   \n",
       "2           @paulgwine       Rainstorm 2013 Pinot Gris (Willamette Valley)   \n",
       "3                   NaN  St. Julian 2013 Reserve Late Harvest Riesling ...   \n",
       "4           @paulgwine   Sweet Cheeks 2012 Vintner's Reserve Wild Child...   \n",
       "\n",
       "          variety               winery  \n",
       "0     White Blend              Nicosia  \n",
       "1  Portuguese Red  Quinta dos Avidagos  \n",
       "2      Pinot Gris            Rainstorm  \n",
       "3        Riesling           St. Julian  \n",
       "4      Pinot Noir         Sweet Cheeks  "
      ]
     },
     "execution_count": 2,
     "metadata": {},
     "output_type": "execute_result"
    }
   ],
   "source": [
    "reviews.head()"
   ]
  },
  {
   "cell_type": "markdown",
   "id": "92e5f8f1",
   "metadata": {
    "papermill": {
     "duration": 0.02917,
     "end_time": "2022-03-02T23:45:39.715734",
     "exception": false,
     "start_time": "2022-03-02T23:45:39.686564",
     "status": "completed"
    },
    "tags": []
   },
   "source": [
    "# Exercises"
   ]
  },
  {
   "cell_type": "markdown",
   "id": "27190bd5",
   "metadata": {
    "papermill": {
     "duration": 0.029464,
     "end_time": "2022-03-02T23:45:39.775401",
     "exception": false,
     "start_time": "2022-03-02T23:45:39.745937",
     "status": "completed"
    },
    "tags": []
   },
   "source": [
    "## 1.\n",
    "Who are the most common wine reviewers in the dataset? Create a `Series` whose index is the `taster_twitter_handle` category from the dataset, and whose values count how many reviews each person wrote."
   ]
  },
  {
   "cell_type": "code",
   "execution_count": 3,
   "id": "de1dcb33",
   "metadata": {
    "execution": {
     "iopub.execute_input": "2022-03-02T23:45:39.857329Z",
     "iopub.status.busy": "2022-03-02T23:45:39.856595Z",
     "iopub.status.idle": "2022-03-02T23:45:39.878757Z",
     "shell.execute_reply": "2022-03-02T23:45:39.878197Z",
     "shell.execute_reply.started": "2022-02-10T18:45:34.612203Z"
    },
    "papermill": {
     "duration": 0.071723,
     "end_time": "2022-03-02T23:45:39.878905",
     "exception": false,
     "start_time": "2022-03-02T23:45:39.807182",
     "status": "completed"
    },
    "tags": []
   },
   "outputs": [
    {
     "data": {
      "application/javascript": [
       "parent.postMessage({\"jupyterEvent\": \"custom.exercise_interaction\", \"data\": {\"outcomeType\": 1, \"valueTowardsCompletion\": 0.16666666666666666, \"interactionType\": 1, \"questionType\": 1, \"questionId\": \"1_ReviewsWritten\", \"learnToolsVersion\": \"0.3.4\", \"failureMessage\": \"\", \"exceptionClass\": \"\", \"trace\": \"\"}}, \"*\")"
      ],
      "text/plain": [
       "<IPython.core.display.Javascript object>"
      ]
     },
     "metadata": {},
     "output_type": "display_data"
    },
    {
     "data": {
      "text/markdown": [
       "<span style=\"color:#33cc33\">Correct:</span> \n",
       "\n",
       "\n",
       "```python\n",
       "reviews_written = reviews.groupby('taster_twitter_handle').size()\n",
       "```\n",
       "or\n",
       "```python\n",
       "reviews_written = reviews.groupby('taster_twitter_handle').taster_twitter_handle.count()\n",
       "```\n"
      ],
      "text/plain": [
       "Correct: \n",
       "\n",
       "\n",
       "```python\n",
       "reviews_written = reviews.groupby('taster_twitter_handle').size()\n",
       "```\n",
       "or\n",
       "```python\n",
       "reviews_written = reviews.groupby('taster_twitter_handle').taster_twitter_handle.count()\n",
       "```"
      ]
     },
     "metadata": {},
     "output_type": "display_data"
    }
   ],
   "source": [
    "# Your code here\n",
    "reviews_written = reviews.groupby('taster_twitter_handle').taster_twitter_handle.count()\n",
    "\n",
    "# Check your answer\n",
    "q1.check()"
   ]
  },
  {
   "cell_type": "code",
   "execution_count": 4,
   "id": "f979a770",
   "metadata": {
    "execution": {
     "iopub.execute_input": "2022-03-02T23:45:39.943140Z",
     "iopub.status.busy": "2022-03-02T23:45:39.942426Z",
     "iopub.status.idle": "2022-03-02T23:45:39.945283Z",
     "shell.execute_reply": "2022-03-02T23:45:39.945856Z",
     "shell.execute_reply.started": "2022-02-10T18:45:34.654649Z"
    },
    "papermill": {
     "duration": 0.036809,
     "end_time": "2022-03-02T23:45:39.946026",
     "exception": false,
     "start_time": "2022-03-02T23:45:39.909217",
     "status": "completed"
    },
    "tags": []
   },
   "outputs": [],
   "source": [
    "#q1.hint()\n",
    "#q1.solution()"
   ]
  },
  {
   "cell_type": "code",
   "execution_count": 5,
   "id": "ee0e3868",
   "metadata": {
    "execution": {
     "iopub.execute_input": "2022-03-02T23:45:40.027117Z",
     "iopub.status.busy": "2022-03-02T23:45:40.015510Z",
     "iopub.status.idle": "2022-03-02T23:45:40.035585Z",
     "shell.execute_reply": "2022-03-02T23:45:40.034890Z",
     "shell.execute_reply.started": "2022-02-10T18:45:34.659544Z"
    },
    "papermill": {
     "duration": 0.059407,
     "end_time": "2022-03-02T23:45:40.035765",
     "exception": false,
     "start_time": "2022-03-02T23:45:39.976358",
     "status": "completed"
    },
    "tags": []
   },
   "outputs": [
    {
     "data": {
      "text/plain": [
       "taster_twitter_handle\n",
       "@AnneInVino          3685\n",
       "@JoeCz               5147\n",
       "@bkfiona               27\n",
       "@gordone_cellars     4177\n",
       "@kerinokeefe        10776\n",
       "dtype: int64"
      ]
     },
     "execution_count": 5,
     "metadata": {},
     "output_type": "execute_result"
    }
   ],
   "source": [
    "reviews_written = reviews.groupby('taster_twitter_handle').size()\n",
    "reviews_written.head()"
   ]
  },
  {
   "cell_type": "markdown",
   "id": "b8bcc28d",
   "metadata": {
    "papermill": {
     "duration": 0.030221,
     "end_time": "2022-03-02T23:45:40.097244",
     "exception": false,
     "start_time": "2022-03-02T23:45:40.067023",
     "status": "completed"
    },
    "tags": []
   },
   "source": [
    "## 2.\n",
    "What is the best wine I can buy for a given amount of money? Create a `Series` whose index is wine prices and whose values is the maximum number of points a wine costing that much was given in a review. Sort the values by price, ascending (so that `4.0` dollars is at the top and `3300.0` dollars is at the bottom)."
   ]
  },
  {
   "cell_type": "code",
   "execution_count": 6,
   "id": "4e5b76cc",
   "metadata": {
    "execution": {
     "iopub.execute_input": "2022-03-02T23:45:40.164419Z",
     "iopub.status.busy": "2022-03-02T23:45:40.163693Z",
     "iopub.status.idle": "2022-03-02T23:45:40.174725Z",
     "shell.execute_reply": "2022-03-02T23:45:40.174054Z",
     "shell.execute_reply.started": "2022-02-10T18:45:34.694673Z"
    },
    "papermill": {
     "duration": 0.047155,
     "end_time": "2022-03-02T23:45:40.174870",
     "exception": false,
     "start_time": "2022-03-02T23:45:40.127715",
     "status": "completed"
    },
    "tags": []
   },
   "outputs": [
    {
     "data": {
      "application/javascript": [
       "parent.postMessage({\"jupyterEvent\": \"custom.exercise_interaction\", \"data\": {\"outcomeType\": 1, \"valueTowardsCompletion\": 0.16666666666666666, \"interactionType\": 1, \"questionType\": 1, \"questionId\": \"2_BestRatingPerPrice\", \"learnToolsVersion\": \"0.3.4\", \"failureMessage\": \"\", \"exceptionClass\": \"\", \"trace\": \"\"}}, \"*\")"
      ],
      "text/plain": [
       "<IPython.core.display.Javascript object>"
      ]
     },
     "metadata": {},
     "output_type": "display_data"
    },
    {
     "data": {
      "text/markdown": [
       "<span style=\"color:#33cc33\">Correct</span>"
      ],
      "text/plain": [
       "Correct"
      ]
     },
     "metadata": {},
     "output_type": "display_data"
    }
   ],
   "source": [
    "best_rating_per_price = reviews.groupby('price')['points'].max().sort_index()\n",
    "\n",
    "# Check your answer\n",
    "q2.check()"
   ]
  },
  {
   "cell_type": "code",
   "execution_count": 7,
   "id": "ef9b8a31",
   "metadata": {
    "execution": {
     "iopub.execute_input": "2022-03-02T23:45:40.248321Z",
     "iopub.status.busy": "2022-03-02T23:45:40.247550Z",
     "iopub.status.idle": "2022-03-02T23:45:40.252259Z",
     "shell.execute_reply": "2022-03-02T23:45:40.251738Z",
     "shell.execute_reply.started": "2022-02-10T18:45:34.708916Z"
    },
    "papermill": {
     "duration": 0.045578,
     "end_time": "2022-03-02T23:45:40.252424",
     "exception": false,
     "start_time": "2022-03-02T23:45:40.206846",
     "status": "completed"
    },
    "tags": []
   },
   "outputs": [
    {
     "data": {
      "text/plain": [
       "price\n",
       "4.0       86\n",
       "5.0       87\n",
       "6.0       88\n",
       "7.0       91\n",
       "8.0       91\n",
       "          ..\n",
       "1900.0    98\n",
       "2000.0    97\n",
       "2013.0    91\n",
       "2500.0    96\n",
       "3300.0    88\n",
       "Name: points, Length: 390, dtype: int64"
      ]
     },
     "execution_count": 7,
     "metadata": {},
     "output_type": "execute_result"
    }
   ],
   "source": [
    "best_rating_per_price"
   ]
  },
  {
   "cell_type": "code",
   "execution_count": 8,
   "id": "6799558d",
   "metadata": {
    "execution": {
     "iopub.execute_input": "2022-03-02T23:45:40.325127Z",
     "iopub.status.busy": "2022-03-02T23:45:40.324464Z",
     "iopub.status.idle": "2022-03-02T23:45:40.329990Z",
     "shell.execute_reply": "2022-03-02T23:45:40.329350Z",
     "shell.execute_reply.started": "2022-02-10T18:45:34.722149Z"
    },
    "papermill": {
     "duration": 0.043557,
     "end_time": "2022-03-02T23:45:40.330144",
     "exception": false,
     "start_time": "2022-03-02T23:45:40.286587",
     "status": "completed"
    },
    "tags": []
   },
   "outputs": [
    {
     "data": {
      "application/javascript": [
       "parent.postMessage({\"jupyterEvent\": \"custom.exercise_interaction\", \"data\": {\"interactionType\": 3, \"questionType\": 1, \"questionId\": \"2_BestRatingPerPrice\", \"learnToolsVersion\": \"0.3.4\", \"valueTowardsCompletion\": 0.0, \"failureMessage\": \"\", \"exceptionClass\": \"\", \"trace\": \"\", \"outcomeType\": 4}}, \"*\")"
      ],
      "text/plain": [
       "<IPython.core.display.Javascript object>"
      ]
     },
     "metadata": {},
     "output_type": "display_data"
    },
    {
     "data": {
      "text/markdown": [
       "<span style=\"color:#33cc99\">Solution:</span> \n",
       "```python\n",
       "best_rating_per_price = reviews.groupby('price')['points'].max().sort_index()\n",
       "```"
      ],
      "text/plain": [
       "Solution: \n",
       "```python\n",
       "best_rating_per_price = reviews.groupby('price')['points'].max().sort_index()\n",
       "```"
      ]
     },
     "metadata": {},
     "output_type": "display_data"
    }
   ],
   "source": [
    "#q2.hint()\n",
    "q2.solution()"
   ]
  },
  {
   "cell_type": "markdown",
   "id": "83873386",
   "metadata": {
    "papermill": {
     "duration": 0.034793,
     "end_time": "2022-03-02T23:45:40.398099",
     "exception": false,
     "start_time": "2022-03-02T23:45:40.363306",
     "status": "completed"
    },
    "tags": []
   },
   "source": [
    "## 3.\n",
    "What are the minimum and maximum prices for each `variety` of wine? Create a `DataFrame` whose index is the `variety` category from the dataset and whose values are the `min` and `max` values thereof."
   ]
  },
  {
   "cell_type": "code",
   "execution_count": 9,
   "id": "d08dd5ff",
   "metadata": {
    "execution": {
     "iopub.execute_input": "2022-03-02T23:45:40.490000Z",
     "iopub.status.busy": "2022-03-02T23:45:40.489276Z",
     "iopub.status.idle": "2022-03-02T23:45:40.501900Z",
     "shell.execute_reply": "2022-03-02T23:45:40.502408Z",
     "shell.execute_reply.started": "2022-02-10T18:45:34.733778Z"
    },
    "papermill": {
     "duration": 0.070337,
     "end_time": "2022-03-02T23:45:40.502603",
     "exception": false,
     "start_time": "2022-03-02T23:45:40.432266",
     "status": "completed"
    },
    "tags": []
   },
   "outputs": [
    {
     "data": {
      "application/javascript": [
       "parent.postMessage({\"jupyterEvent\": \"custom.exercise_interaction\", \"data\": {\"outcomeType\": 1, \"valueTowardsCompletion\": 0.16666666666666666, \"interactionType\": 1, \"questionType\": 1, \"questionId\": \"3_PriceExtremes\", \"learnToolsVersion\": \"0.3.4\", \"failureMessage\": \"\", \"exceptionClass\": \"\", \"trace\": \"\"}}, \"*\")"
      ],
      "text/plain": [
       "<IPython.core.display.Javascript object>"
      ]
     },
     "metadata": {},
     "output_type": "display_data"
    },
    {
     "data": {
      "text/markdown": [
       "<span style=\"color:#33cc33\">Correct</span>"
      ],
      "text/plain": [
       "Correct"
      ]
     },
     "metadata": {},
     "output_type": "display_data"
    }
   ],
   "source": [
    "price_extremes = reviews.groupby('variety').price.agg([min,max])\n",
    "\n",
    "# Check your answer\n",
    "q3.check()"
   ]
  },
  {
   "cell_type": "code",
   "execution_count": 10,
   "id": "f611ffff",
   "metadata": {
    "execution": {
     "iopub.execute_input": "2022-03-02T23:45:40.588826Z",
     "iopub.status.busy": "2022-03-02T23:45:40.587774Z",
     "iopub.status.idle": "2022-03-02T23:45:40.592162Z",
     "shell.execute_reply": "2022-03-02T23:45:40.591535Z",
     "shell.execute_reply.started": "2022-02-10T18:45:34.772315Z"
    },
    "papermill": {
     "duration": 0.05428,
     "end_time": "2022-03-02T23:45:40.592328",
     "exception": false,
     "start_time": "2022-03-02T23:45:40.538048",
     "status": "completed"
    },
    "tags": []
   },
   "outputs": [
    {
     "data": {
      "text/html": [
       "<div>\n",
       "<style scoped>\n",
       "    .dataframe tbody tr th:only-of-type {\n",
       "        vertical-align: middle;\n",
       "    }\n",
       "\n",
       "    .dataframe tbody tr th {\n",
       "        vertical-align: top;\n",
       "    }\n",
       "\n",
       "    .dataframe thead th {\n",
       "        text-align: right;\n",
       "    }\n",
       "</style>\n",
       "<table border=\"1\" class=\"dataframe\">\n",
       "  <thead>\n",
       "    <tr style=\"text-align: right;\">\n",
       "      <th></th>\n",
       "      <th>min</th>\n",
       "      <th>max</th>\n",
       "    </tr>\n",
       "    <tr>\n",
       "      <th>variety</th>\n",
       "      <th></th>\n",
       "      <th></th>\n",
       "    </tr>\n",
       "  </thead>\n",
       "  <tbody>\n",
       "    <tr>\n",
       "      <th>Abouriou</th>\n",
       "      <td>15.0</td>\n",
       "      <td>75.0</td>\n",
       "    </tr>\n",
       "    <tr>\n",
       "      <th>Agiorgitiko</th>\n",
       "      <td>10.0</td>\n",
       "      <td>66.0</td>\n",
       "    </tr>\n",
       "    <tr>\n",
       "      <th>Aglianico</th>\n",
       "      <td>6.0</td>\n",
       "      <td>180.0</td>\n",
       "    </tr>\n",
       "    <tr>\n",
       "      <th>Aidani</th>\n",
       "      <td>27.0</td>\n",
       "      <td>27.0</td>\n",
       "    </tr>\n",
       "    <tr>\n",
       "      <th>Airen</th>\n",
       "      <td>8.0</td>\n",
       "      <td>10.0</td>\n",
       "    </tr>\n",
       "    <tr>\n",
       "      <th>...</th>\n",
       "      <td>...</td>\n",
       "      <td>...</td>\n",
       "    </tr>\n",
       "    <tr>\n",
       "      <th>Zinfandel</th>\n",
       "      <td>5.0</td>\n",
       "      <td>100.0</td>\n",
       "    </tr>\n",
       "    <tr>\n",
       "      <th>Zlahtina</th>\n",
       "      <td>13.0</td>\n",
       "      <td>16.0</td>\n",
       "    </tr>\n",
       "    <tr>\n",
       "      <th>Zweigelt</th>\n",
       "      <td>9.0</td>\n",
       "      <td>70.0</td>\n",
       "    </tr>\n",
       "    <tr>\n",
       "      <th>Çalkarası</th>\n",
       "      <td>19.0</td>\n",
       "      <td>19.0</td>\n",
       "    </tr>\n",
       "    <tr>\n",
       "      <th>Žilavka</th>\n",
       "      <td>15.0</td>\n",
       "      <td>15.0</td>\n",
       "    </tr>\n",
       "  </tbody>\n",
       "</table>\n",
       "<p>707 rows × 2 columns</p>\n",
       "</div>"
      ],
      "text/plain": [
       "              min    max\n",
       "variety                 \n",
       "Abouriou     15.0   75.0\n",
       "Agiorgitiko  10.0   66.0\n",
       "Aglianico     6.0  180.0\n",
       "Aidani       27.0   27.0\n",
       "Airen         8.0   10.0\n",
       "...           ...    ...\n",
       "Zinfandel     5.0  100.0\n",
       "Zlahtina     13.0   16.0\n",
       "Zweigelt      9.0   70.0\n",
       "Çalkarası    19.0   19.0\n",
       "Žilavka      15.0   15.0\n",
       "\n",
       "[707 rows x 2 columns]"
      ]
     },
     "execution_count": 10,
     "metadata": {},
     "output_type": "execute_result"
    }
   ],
   "source": [
    "price_extremes"
   ]
  },
  {
   "cell_type": "code",
   "execution_count": 11,
   "id": "921cfb72",
   "metadata": {
    "execution": {
     "iopub.execute_input": "2022-03-02T23:45:40.669800Z",
     "iopub.status.busy": "2022-03-02T23:45:40.668857Z",
     "iopub.status.idle": "2022-03-02T23:45:40.672057Z",
     "shell.execute_reply": "2022-03-02T23:45:40.671262Z",
     "shell.execute_reply.started": "2022-02-10T18:45:34.788733Z"
    },
    "papermill": {
     "duration": 0.043555,
     "end_time": "2022-03-02T23:45:40.672238",
     "exception": false,
     "start_time": "2022-03-02T23:45:40.628683",
     "status": "completed"
    },
    "tags": []
   },
   "outputs": [],
   "source": [
    "#q3.hint()\n",
    "#q3.solution()"
   ]
  },
  {
   "cell_type": "markdown",
   "id": "cbb1b196",
   "metadata": {
    "papermill": {
     "duration": 0.035639,
     "end_time": "2022-03-02T23:45:40.744384",
     "exception": false,
     "start_time": "2022-03-02T23:45:40.708745",
     "status": "completed"
    },
    "tags": []
   },
   "source": [
    "## 4.\n",
    "What are the most expensive wine varieties? Create a variable `sorted_varieties` containing a copy of the dataframe from the previous question where varieties are sorted in descending order based on minimum price, then on maximum price (to break ties)."
   ]
  },
  {
   "cell_type": "code",
   "execution_count": 12,
   "id": "4f8702f9",
   "metadata": {
    "execution": {
     "iopub.execute_input": "2022-03-02T23:45:40.825737Z",
     "iopub.status.busy": "2022-03-02T23:45:40.825057Z",
     "iopub.status.idle": "2022-03-02T23:45:40.829548Z",
     "shell.execute_reply": "2022-03-02T23:45:40.828926Z",
     "shell.execute_reply.started": "2022-02-10T18:45:34.792987Z"
    },
    "papermill": {
     "duration": 0.04962,
     "end_time": "2022-03-02T23:45:40.829745",
     "exception": false,
     "start_time": "2022-03-02T23:45:40.780125",
     "status": "completed"
    },
    "tags": []
   },
   "outputs": [
    {
     "data": {
      "application/javascript": [
       "parent.postMessage({\"jupyterEvent\": \"custom.exercise_interaction\", \"data\": {\"outcomeType\": 1, \"valueTowardsCompletion\": 0.16666666666666666, \"interactionType\": 1, \"questionType\": 1, \"questionId\": \"4_SortedVarieties\", \"learnToolsVersion\": \"0.3.4\", \"failureMessage\": \"\", \"exceptionClass\": \"\", \"trace\": \"\"}}, \"*\")"
      ],
      "text/plain": [
       "<IPython.core.display.Javascript object>"
      ]
     },
     "metadata": {},
     "output_type": "display_data"
    },
    {
     "data": {
      "text/markdown": [
       "<span style=\"color:#33cc33\">Correct</span>"
      ],
      "text/plain": [
       "Correct"
      ]
     },
     "metadata": {},
     "output_type": "display_data"
    }
   ],
   "source": [
    "sorted_varieties = price_extremes.sort_values(by=['min','max'],ascending=False)\n",
    "\n",
    "# Check your answer\n",
    "q4.check()"
   ]
  },
  {
   "cell_type": "code",
   "execution_count": 13,
   "id": "4dee1d12",
   "metadata": {
    "execution": {
     "iopub.execute_input": "2022-03-02T23:45:40.909101Z",
     "iopub.status.busy": "2022-03-02T23:45:40.908445Z",
     "iopub.status.idle": "2022-03-02T23:45:40.914194Z",
     "shell.execute_reply": "2022-03-02T23:45:40.913404Z",
     "shell.execute_reply.started": "2022-02-10T18:45:34.812351Z"
    },
    "papermill": {
     "duration": 0.048076,
     "end_time": "2022-03-02T23:45:40.914343",
     "exception": false,
     "start_time": "2022-03-02T23:45:40.866267",
     "status": "completed"
    },
    "tags": []
   },
   "outputs": [
    {
     "data": {
      "application/javascript": [
       "parent.postMessage({\"jupyterEvent\": \"custom.exercise_interaction\", \"data\": {\"interactionType\": 3, \"questionType\": 1, \"questionId\": \"4_SortedVarieties\", \"learnToolsVersion\": \"0.3.4\", \"valueTowardsCompletion\": 0.0, \"failureMessage\": \"\", \"exceptionClass\": \"\", \"trace\": \"\", \"outcomeType\": 4}}, \"*\")"
      ],
      "text/plain": [
       "<IPython.core.display.Javascript object>"
      ]
     },
     "metadata": {},
     "output_type": "display_data"
    },
    {
     "data": {
      "text/markdown": [
       "<span style=\"color:#33cc99\">Solution:</span> \n",
       "```python\n",
       "sorted_varieties = price_extremes.sort_values(by=['min', 'max'], ascending=False)\n",
       "```"
      ],
      "text/plain": [
       "Solution: \n",
       "```python\n",
       "sorted_varieties = price_extremes.sort_values(by=['min', 'max'], ascending=False)\n",
       "```"
      ]
     },
     "metadata": {},
     "output_type": "display_data"
    }
   ],
   "source": [
    "#q4.hint()\n",
    "q4.solution()"
   ]
  },
  {
   "cell_type": "markdown",
   "id": "b43ec75b",
   "metadata": {
    "papermill": {
     "duration": 0.037718,
     "end_time": "2022-03-02T23:45:40.991256",
     "exception": false,
     "start_time": "2022-03-02T23:45:40.953538",
     "status": "completed"
    },
    "tags": []
   },
   "source": [
    "## 5.\n",
    "Create a `Series` whose index is reviewers and whose values is the average review score given out by that reviewer. Hint: you will need the `taster_name` and `points` columns."
   ]
  },
  {
   "cell_type": "code",
   "execution_count": 14,
   "id": "0db85c9c",
   "metadata": {
    "execution": {
     "iopub.execute_input": "2022-03-02T23:45:41.090131Z",
     "iopub.status.busy": "2022-03-02T23:45:41.078555Z",
     "iopub.status.idle": "2022-03-02T23:45:41.099209Z",
     "shell.execute_reply": "2022-03-02T23:45:41.099748Z",
     "shell.execute_reply.started": "2022-02-10T18:45:34.822785Z"
    },
    "papermill": {
     "duration": 0.069815,
     "end_time": "2022-03-02T23:45:41.099938",
     "exception": false,
     "start_time": "2022-03-02T23:45:41.030123",
     "status": "completed"
    },
    "tags": []
   },
   "outputs": [
    {
     "data": {
      "application/javascript": [
       "parent.postMessage({\"jupyterEvent\": \"custom.exercise_interaction\", \"data\": {\"outcomeType\": 1, \"valueTowardsCompletion\": 0.16666666666666666, \"interactionType\": 1, \"questionType\": 1, \"questionId\": \"5_ReviewerMeanRatings\", \"learnToolsVersion\": \"0.3.4\", \"failureMessage\": \"\", \"exceptionClass\": \"\", \"trace\": \"\"}}, \"*\")"
      ],
      "text/plain": [
       "<IPython.core.display.Javascript object>"
      ]
     },
     "metadata": {},
     "output_type": "display_data"
    },
    {
     "data": {
      "text/markdown": [
       "<span style=\"color:#33cc33\">Correct</span>"
      ],
      "text/plain": [
       "Correct"
      ]
     },
     "metadata": {},
     "output_type": "display_data"
    }
   ],
   "source": [
    "reviewer_mean_ratings = reviews.groupby('taster_name').points.mean()\n",
    "\n",
    "# Check your answer\n",
    "q5.check()"
   ]
  },
  {
   "cell_type": "code",
   "execution_count": 15,
   "id": "c5350f79",
   "metadata": {
    "execution": {
     "iopub.execute_input": "2022-03-02T23:45:41.184090Z",
     "iopub.status.busy": "2022-03-02T23:45:41.183394Z",
     "iopub.status.idle": "2022-03-02T23:45:41.188356Z",
     "shell.execute_reply": "2022-03-02T23:45:41.187775Z",
     "shell.execute_reply.started": "2022-02-10T18:45:34.856673Z"
    },
    "papermill": {
     "duration": 0.049677,
     "end_time": "2022-03-02T23:45:41.188513",
     "exception": false,
     "start_time": "2022-03-02T23:45:41.138836",
     "status": "completed"
    },
    "tags": []
   },
   "outputs": [
    {
     "data": {
      "application/javascript": [
       "parent.postMessage({\"jupyterEvent\": \"custom.exercise_interaction\", \"data\": {\"interactionType\": 2, \"questionType\": 1, \"questionId\": \"5_ReviewerMeanRatings\", \"learnToolsVersion\": \"0.3.4\", \"valueTowardsCompletion\": 0.0, \"failureMessage\": \"\", \"exceptionClass\": \"\", \"trace\": \"\", \"outcomeType\": 4}}, \"*\")"
      ],
      "text/plain": [
       "<IPython.core.display.Javascript object>"
      ]
     },
     "metadata": {},
     "output_type": "display_data"
    },
    {
     "data": {
      "text/markdown": [
       "<span style=\"color:#3366cc\">Hint:</span> Use `mean()`."
      ],
      "text/plain": [
       "Hint: Use `mean()`."
      ]
     },
     "metadata": {},
     "output_type": "display_data"
    }
   ],
   "source": [
    "q5.hint()\n",
    "#q5.solution()"
   ]
  },
  {
   "cell_type": "code",
   "execution_count": 16,
   "id": "9fc25236",
   "metadata": {
    "execution": {
     "iopub.execute_input": "2022-03-02T23:45:41.279295Z",
     "iopub.status.busy": "2022-03-02T23:45:41.278338Z",
     "iopub.status.idle": "2022-03-02T23:45:41.282012Z",
     "shell.execute_reply": "2022-03-02T23:45:41.281452Z",
     "shell.execute_reply.started": "2022-02-10T18:45:34.867018Z"
    },
    "papermill": {
     "duration": 0.052214,
     "end_time": "2022-03-02T23:45:41.282160",
     "exception": false,
     "start_time": "2022-03-02T23:45:41.229946",
     "status": "completed"
    },
    "tags": []
   },
   "outputs": [
    {
     "data": {
      "text/plain": [
       "taster_name\n",
       "Alexander Peartree    85.855422\n",
       "Anna Lee C. Iijima    88.415629\n",
       "Anne Krebiehl MW      90.562551\n",
       "Carrie Dykes          86.395683\n",
       "Christina Pickard     87.833333\n",
       "Fiona Adams           86.888889\n",
       "Jeff Jenssen          88.319756\n",
       "Jim Gordon            88.626287\n",
       "Joe Czerwinski        88.536235\n",
       "Kerin O’Keefe         88.867947\n",
       "Lauren Buzzeo         87.739510\n",
       "Matt Kettmann         90.008686\n",
       "Michael Schachner     86.907493\n",
       "Mike DeSimone         89.101167\n",
       "Paul Gregutt          89.082564\n",
       "Roger Voss            88.708003\n",
       "Sean P. Sullivan      88.755739\n",
       "Susan Kostrzewa       86.609217\n",
       "Virginie Boone        89.213379\n",
       "Name: points, dtype: float64"
      ]
     },
     "execution_count": 16,
     "metadata": {},
     "output_type": "execute_result"
    }
   ],
   "source": [
    "reviewer_mean_ratings"
   ]
  },
  {
   "cell_type": "markdown",
   "id": "d9459f49",
   "metadata": {
    "papermill": {
     "duration": 0.041586,
     "end_time": "2022-03-02T23:45:41.364612",
     "exception": false,
     "start_time": "2022-03-02T23:45:41.323026",
     "status": "completed"
    },
    "tags": []
   },
   "source": [
    "Are there significant differences in the average scores assigned by the various reviewers? Run the cell below to use the `describe()` method to see a summary of the range of values."
   ]
  },
  {
   "cell_type": "code",
   "execution_count": 17,
   "id": "54cf399c",
   "metadata": {
    "execution": {
     "iopub.execute_input": "2022-03-02T23:45:41.452117Z",
     "iopub.status.busy": "2022-03-02T23:45:41.451438Z",
     "iopub.status.idle": "2022-03-02T23:45:41.461749Z",
     "shell.execute_reply": "2022-03-02T23:45:41.462283Z",
     "shell.execute_reply.started": "2022-02-10T18:45:34.878862Z"
    },
    "papermill": {
     "duration": 0.055537,
     "end_time": "2022-03-02T23:45:41.462456",
     "exception": false,
     "start_time": "2022-03-02T23:45:41.406919",
     "status": "completed"
    },
    "tags": []
   },
   "outputs": [
    {
     "data": {
      "text/plain": [
       "count    19.000000\n",
       "mean     88.233026\n",
       "std       1.243610\n",
       "min      85.855422\n",
       "25%      87.323501\n",
       "50%      88.536235\n",
       "75%      88.975256\n",
       "max      90.562551\n",
       "Name: points, dtype: float64"
      ]
     },
     "execution_count": 17,
     "metadata": {},
     "output_type": "execute_result"
    }
   ],
   "source": [
    "reviewer_mean_ratings.describe()"
   ]
  },
  {
   "cell_type": "markdown",
   "id": "ed7dcbd0",
   "metadata": {
    "papermill": {
     "duration": 0.040739,
     "end_time": "2022-03-02T23:45:41.545489",
     "exception": false,
     "start_time": "2022-03-02T23:45:41.504750",
     "status": "completed"
    },
    "tags": []
   },
   "source": [
    "## 6.\n",
    "What combination of countries and varieties are most common? Create a `Series` whose index is a `MultiIndex`of `{country, variety}` pairs. For example, a pinot noir produced in the US should map to `{\"US\", \"Pinot Noir\"}`. Sort the values in the `Series` in descending order based on wine count."
   ]
  },
  {
   "cell_type": "code",
   "execution_count": 18,
   "id": "597e75d0",
   "metadata": {
    "execution": {
     "iopub.execute_input": "2022-03-02T23:45:41.638207Z",
     "iopub.status.busy": "2022-03-02T23:45:41.637508Z",
     "iopub.status.idle": "2022-03-02T23:45:41.678875Z",
     "shell.execute_reply": "2022-03-02T23:45:41.679360Z",
     "shell.execute_reply.started": "2022-02-10T18:49:29.813758Z"
    },
    "papermill": {
     "duration": 0.092968,
     "end_time": "2022-03-02T23:45:41.679524",
     "exception": false,
     "start_time": "2022-03-02T23:45:41.586556",
     "status": "completed"
    },
    "tags": []
   },
   "outputs": [
    {
     "data": {
      "application/javascript": [
       "parent.postMessage({\"jupyterEvent\": \"custom.exercise_interaction\", \"data\": {\"outcomeType\": 1, \"valueTowardsCompletion\": 0.16666666666666666, \"interactionType\": 1, \"questionType\": 1, \"questionId\": \"6_GroupbyCountryVariety\", \"learnToolsVersion\": \"0.3.4\", \"failureMessage\": \"\", \"exceptionClass\": \"\", \"trace\": \"\"}}, \"*\")"
      ],
      "text/plain": [
       "<IPython.core.display.Javascript object>"
      ]
     },
     "metadata": {},
     "output_type": "display_data"
    },
    {
     "data": {
      "text/markdown": [
       "<span style=\"color:#33cc33\">Correct</span>"
      ],
      "text/plain": [
       "Correct"
      ]
     },
     "metadata": {},
     "output_type": "display_data"
    }
   ],
   "source": [
    "country_variety_counts = reviews.groupby(['country','variety']).size().sort_values(ascending=False)\n",
    "\n",
    "# Check your answer\n",
    "q6.check()"
   ]
  },
  {
   "cell_type": "code",
   "execution_count": 19,
   "id": "7fcc2be4",
   "metadata": {
    "execution": {
     "iopub.execute_input": "2022-03-02T23:45:41.767598Z",
     "iopub.status.busy": "2022-03-02T23:45:41.766631Z",
     "iopub.status.idle": "2022-03-02T23:45:41.813406Z",
     "shell.execute_reply": "2022-03-02T23:45:41.813981Z",
     "shell.execute_reply.started": "2022-02-10T18:49:15.043812Z"
    },
    "papermill": {
     "duration": 0.09261,
     "end_time": "2022-03-02T23:45:41.814158",
     "exception": false,
     "start_time": "2022-03-02T23:45:41.721548",
     "status": "completed"
    },
    "tags": []
   },
   "outputs": [
    {
     "data": {
      "text/plain": [
       "country  variety                 \n",
       "US       Pinot Noir                  9885\n",
       "         Cabernet Sauvignon          7315\n",
       "         Chardonnay                  6801\n",
       "France   Bordeaux-style Red Blend    4725\n",
       "Italy    Red Blend                   3624\n",
       "dtype: int64"
      ]
     },
     "execution_count": 19,
     "metadata": {},
     "output_type": "execute_result"
    }
   ],
   "source": [
    "country_variety_counts = reviews.groupby(['country','variety']).size().sort_values(ascending=False)\n",
    "country_variety_counts.head()\n"
   ]
  },
  {
   "cell_type": "code",
   "execution_count": 20,
   "id": "a9d0e677",
   "metadata": {
    "execution": {
     "iopub.execute_input": "2022-03-02T23:45:41.902504Z",
     "iopub.status.busy": "2022-03-02T23:45:41.901550Z",
     "iopub.status.idle": "2022-03-02T23:45:41.911950Z",
     "shell.execute_reply": "2022-03-02T23:45:41.912436Z",
     "shell.execute_reply.started": "2022-02-10T18:48:52.126431Z"
    },
    "papermill": {
     "duration": 0.056265,
     "end_time": "2022-03-02T23:45:41.912601",
     "exception": false,
     "start_time": "2022-03-02T23:45:41.856336",
     "status": "completed"
    },
    "tags": []
   },
   "outputs": [
    {
     "data": {
      "application/javascript": [
       "parent.postMessage({\"jupyterEvent\": \"custom.exercise_interaction\", \"data\": {\"interactionType\": 2, \"questionType\": 1, \"questionId\": \"6_GroupbyCountryVariety\", \"learnToolsVersion\": \"0.3.4\", \"valueTowardsCompletion\": 0.0, \"failureMessage\": \"\", \"exceptionClass\": \"\", \"trace\": \"\", \"outcomeType\": 4}}, \"*\")"
      ],
      "text/plain": [
       "<IPython.core.display.Javascript object>"
      ]
     },
     "metadata": {},
     "output_type": "display_data"
    },
    {
     "data": {
      "text/markdown": [
       "<span style=\"color:#3366cc\">Hint:</span> Use `groupby()`, and provide a list of columns to group by.  You may also find `size()` and `sort_values()` to be useful!"
      ],
      "text/plain": [
       "Hint: Use `groupby()`, and provide a list of columns to group by.  You may also find `size()` and `sort_values()` to be useful!"
      ]
     },
     "metadata": {},
     "output_type": "display_data"
    },
    {
     "data": {
      "application/javascript": [
       "parent.postMessage({\"jupyterEvent\": \"custom.exercise_interaction\", \"data\": {\"interactionType\": 3, \"questionType\": 1, \"questionId\": \"6_GroupbyCountryVariety\", \"learnToolsVersion\": \"0.3.4\", \"valueTowardsCompletion\": 0.0, \"failureMessage\": \"\", \"exceptionClass\": \"\", \"trace\": \"\", \"outcomeType\": 4}}, \"*\")"
      ],
      "text/plain": [
       "<IPython.core.display.Javascript object>"
      ]
     },
     "metadata": {},
     "output_type": "display_data"
    },
    {
     "data": {
      "text/markdown": [
       "<span style=\"color:#33cc99\">Solution:</span> \n",
       "```python\n",
       "country_variety_counts = reviews.groupby(['country', 'variety']).size().sort_values(ascending=False)\n",
       "```"
      ],
      "text/plain": [
       "Solution: \n",
       "```python\n",
       "country_variety_counts = reviews.groupby(['country', 'variety']).size().sort_values(ascending=False)\n",
       "```"
      ]
     },
     "metadata": {},
     "output_type": "display_data"
    }
   ],
   "source": [
    "q6.hint()\n",
    "q6.solution()"
   ]
  },
  {
   "cell_type": "markdown",
   "id": "2bed30c8",
   "metadata": {
    "papermill": {
     "duration": 0.0445,
     "end_time": "2022-03-02T23:45:42.001723",
     "exception": false,
     "start_time": "2022-03-02T23:45:41.957223",
     "status": "completed"
    },
    "tags": []
   },
   "source": [
    "# Keep going\n",
    "\n",
    "Move on to the [**data types and missing data**](https://www.kaggle.com/residentmario/data-types-and-missing-values)."
   ]
  },
  {
   "cell_type": "markdown",
   "id": "ff63c113",
   "metadata": {
    "papermill": {
     "duration": 0.044545,
     "end_time": "2022-03-02T23:45:42.091733",
     "exception": false,
     "start_time": "2022-03-02T23:45:42.047188",
     "status": "completed"
    },
    "tags": []
   },
   "source": [
    "---\n",
    "\n",
    "\n",
    "\n",
    "\n",
    "*Have questions or comments? Visit the [course discussion forum](https://www.kaggle.com/learn/pandas/discussion) to chat with other learners.*"
   ]
  }
 ],
 "metadata": {
  "kernelspec": {
   "display_name": "Python 3",
   "language": "python",
   "name": "python3"
  },
  "language_info": {
   "codemirror_mode": {
    "name": "ipython",
    "version": 3
   },
   "file_extension": ".py",
   "mimetype": "text/x-python",
   "name": "python",
   "nbconvert_exporter": "python",
   "pygments_lexer": "ipython3",
   "version": "3.7.12"
  },
  "papermill": {
   "default_parameters": {},
   "duration": 17.399387,
   "end_time": "2022-03-02T23:45:42.846532",
   "environment_variables": {},
   "exception": null,
   "input_path": "__notebook__.ipynb",
   "output_path": "__notebook__.ipynb",
   "parameters": {},
   "start_time": "2022-03-02T23:45:25.447145",
   "version": "2.3.3"
  }
 },
 "nbformat": 4,
 "nbformat_minor": 5
}
