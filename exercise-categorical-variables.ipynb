{
 "cells": [
  {
   "cell_type": "markdown",
   "id": "3f0eb66e",
   "metadata": {
    "papermill": {
     "duration": 0.043546,
     "end_time": "2022-03-23T00:49:04.438222",
     "exception": false,
     "start_time": "2022-03-23T00:49:04.394676",
     "status": "completed"
    },
    "tags": []
   },
   "source": [
    "**This notebook is an exercise in the [Intermediate Machine Learning](https://www.kaggle.com/learn/intermediate-machine-learning) course.  You can reference the tutorial at [this link](https://www.kaggle.com/alexisbcook/categorical-variables).**\n",
    "\n",
    "---\n"
   ]
  },
  {
   "cell_type": "markdown",
   "id": "d6779f95",
   "metadata": {
    "papermill": {
     "duration": 0.042027,
     "end_time": "2022-03-23T00:49:04.523001",
     "exception": false,
     "start_time": "2022-03-23T00:49:04.480974",
     "status": "completed"
    },
    "tags": []
   },
   "source": [
    "By encoding **categorical variables**, you'll obtain your best results thus far!\n",
    "\n",
    "# Setup\n",
    "\n",
    "The questions below will give you feedback on your work. Run the following cell to set up the feedback system."
   ]
  },
  {
   "cell_type": "code",
   "execution_count": 1,
   "id": "2bd09f40",
   "metadata": {
    "execution": {
     "iopub.execute_input": "2022-03-23T00:49:04.611625Z",
     "iopub.status.busy": "2022-03-23T00:49:04.610377Z",
     "iopub.status.idle": "2022-03-23T00:49:04.664962Z",
     "shell.execute_reply": "2022-03-23T00:49:04.665899Z",
     "shell.execute_reply.started": "2022-03-23T00:21:30.376762Z"
    },
    "papermill": {
     "duration": 0.101673,
     "end_time": "2022-03-23T00:49:04.666322",
     "exception": false,
     "start_time": "2022-03-23T00:49:04.564649",
     "status": "completed"
    },
    "tags": []
   },
   "outputs": [
    {
     "name": "stdout",
     "output_type": "stream",
     "text": [
      "Setup Complete\n"
     ]
    }
   ],
   "source": [
    "# Set up code checking\n",
    "import os\n",
    "if not os.path.exists(\"../input/train.csv\"):\n",
    "    os.symlink(\"../input/home-data-for-ml-course/train.csv\", \"../input/train.csv\")  \n",
    "    os.symlink(\"../input/home-data-for-ml-course/test.csv\", \"../input/test.csv\") \n",
    "from learntools.core import binder\n",
    "binder.bind(globals())\n",
    "from learntools.ml_intermediate.ex3 import *\n",
    "print(\"Setup Complete\")"
   ]
  },
  {
   "cell_type": "markdown",
   "id": "73fc75d7",
   "metadata": {
    "papermill": {
     "duration": 0.041668,
     "end_time": "2022-03-23T00:49:04.753027",
     "exception": false,
     "start_time": "2022-03-23T00:49:04.711359",
     "status": "completed"
    },
    "tags": []
   },
   "source": [
    "In this exercise, you will work with data from the [Housing Prices Competition for Kaggle Learn Users](https://www.kaggle.com/c/home-data-for-ml-course). \n",
    "\n",
    "![Ames Housing dataset image](https://i.imgur.com/lTJVG4e.png)\n",
    "\n",
    "Run the next code cell without changes to load the training and validation sets in `X_train`, `X_valid`, `y_train`, and `y_valid`.  The test set is loaded in `X_test`."
   ]
  },
  {
   "cell_type": "code",
   "execution_count": 2,
   "id": "76433a56",
   "metadata": {
    "execution": {
     "iopub.execute_input": "2022-03-23T00:49:04.839878Z",
     "iopub.status.busy": "2022-03-23T00:49:04.839137Z",
     "iopub.status.idle": "2022-03-23T00:49:06.142726Z",
     "shell.execute_reply": "2022-03-23T00:49:06.143299Z",
     "shell.execute_reply.started": "2022-03-23T00:21:30.444837Z"
    },
    "papermill": {
     "duration": 1.348995,
     "end_time": "2022-03-23T00:49:06.143480",
     "exception": false,
     "start_time": "2022-03-23T00:49:04.794485",
     "status": "completed"
    },
    "tags": []
   },
   "outputs": [],
   "source": [
    "import pandas as pd\n",
    "from sklearn.model_selection import train_test_split\n",
    "\n",
    "# Read the data\n",
    "X = pd.read_csv('../input/train.csv', index_col='Id') \n",
    "X_test = pd.read_csv('../input/test.csv', index_col='Id')\n",
    "\n",
    "# Remove rows with missing target, separate target from predictors\n",
    "X.dropna(axis=0, subset=['SalePrice'], inplace=True)\n",
    "y = X.SalePrice\n",
    "X.drop(['SalePrice'], axis=1, inplace=True)\n",
    "\n",
    "# To keep things simple, we'll drop columns with missing values\n",
    "cols_with_missing = [col for col in X.columns if X[col].isnull().any()] \n",
    "X.drop(cols_with_missing, axis=1, inplace=True)\n",
    "X_test.drop(cols_with_missing, axis=1, inplace=True)\n",
    "\n",
    "# Break off validation set from training data\n",
    "X_train, X_valid, y_train, y_valid = train_test_split(X, y,\n",
    "                                                      train_size=0.8, test_size=0.2,\n",
    "                                                      random_state=0)"
   ]
  },
  {
   "cell_type": "code",
   "execution_count": 3,
   "id": "6637d73d",
   "metadata": {
    "execution": {
     "iopub.execute_input": "2022-03-23T00:49:06.232888Z",
     "iopub.status.busy": "2022-03-23T00:49:06.232188Z",
     "iopub.status.idle": "2022-03-23T00:49:06.242298Z",
     "shell.execute_reply": "2022-03-23T00:49:06.242823Z",
     "shell.execute_reply.started": "2022-03-23T00:21:31.742918Z"
    },
    "papermill": {
     "duration": 0.055511,
     "end_time": "2022-03-23T00:49:06.243006",
     "exception": false,
     "start_time": "2022-03-23T00:49:06.187495",
     "status": "completed"
    },
    "tags": []
   },
   "outputs": [
    {
     "data": {
      "text/plain": [
       "Index(['MSSubClass', 'MSZoning', 'LotArea', 'Street', 'LotShape',\n",
       "       'LandContour', 'Utilities', 'LotConfig', 'LandSlope', 'Neighborhood',\n",
       "       'Condition1', 'Condition2', 'BldgType', 'HouseStyle', 'OverallQual',\n",
       "       'OverallCond', 'YearBuilt', 'YearRemodAdd', 'RoofStyle', 'RoofMatl',\n",
       "       'Exterior1st', 'Exterior2nd', 'ExterQual', 'ExterCond', 'Foundation',\n",
       "       'BsmtFinSF1', 'BsmtFinSF2', 'BsmtUnfSF', 'TotalBsmtSF', 'Heating',\n",
       "       'HeatingQC', 'CentralAir', '1stFlrSF', '2ndFlrSF', 'LowQualFinSF',\n",
       "       'GrLivArea', 'BsmtFullBath', 'BsmtHalfBath', 'FullBath', 'HalfBath',\n",
       "       'BedroomAbvGr', 'KitchenAbvGr', 'KitchenQual', 'TotRmsAbvGrd',\n",
       "       'Functional', 'Fireplaces', 'GarageCars', 'GarageArea', 'PavedDrive',\n",
       "       'WoodDeckSF', 'OpenPorchSF', 'EnclosedPorch', '3SsnPorch',\n",
       "       'ScreenPorch', 'PoolArea', 'MiscVal', 'MoSold', 'YrSold', 'SaleType',\n",
       "       'SaleCondition'],\n",
       "      dtype='object')"
      ]
     },
     "execution_count": 3,
     "metadata": {},
     "output_type": "execute_result"
    }
   ],
   "source": [
    "X.columns"
   ]
  },
  {
   "cell_type": "markdown",
   "id": "4795dfe9",
   "metadata": {
    "papermill": {
     "duration": 0.04239,
     "end_time": "2022-03-23T00:49:06.327817",
     "exception": false,
     "start_time": "2022-03-23T00:49:06.285427",
     "status": "completed"
    },
    "tags": []
   },
   "source": [
    "Use the next code cell to print the first five rows of the data."
   ]
  },
  {
   "cell_type": "code",
   "execution_count": 4,
   "id": "4b08c42b",
   "metadata": {
    "execution": {
     "iopub.execute_input": "2022-03-23T00:49:06.415812Z",
     "iopub.status.busy": "2022-03-23T00:49:06.415111Z",
     "iopub.status.idle": "2022-03-23T00:49:06.451119Z",
     "shell.execute_reply": "2022-03-23T00:49:06.451638Z",
     "shell.execute_reply.started": "2022-03-23T00:21:31.756800Z"
    },
    "papermill": {
     "duration": 0.081795,
     "end_time": "2022-03-23T00:49:06.451822",
     "exception": false,
     "start_time": "2022-03-23T00:49:06.370027",
     "status": "completed"
    },
    "tags": []
   },
   "outputs": [
    {
     "data": {
      "text/html": [
       "<div>\n",
       "<style scoped>\n",
       "    .dataframe tbody tr th:only-of-type {\n",
       "        vertical-align: middle;\n",
       "    }\n",
       "\n",
       "    .dataframe tbody tr th {\n",
       "        vertical-align: top;\n",
       "    }\n",
       "\n",
       "    .dataframe thead th {\n",
       "        text-align: right;\n",
       "    }\n",
       "</style>\n",
       "<table border=\"1\" class=\"dataframe\">\n",
       "  <thead>\n",
       "    <tr style=\"text-align: right;\">\n",
       "      <th></th>\n",
       "      <th>MSSubClass</th>\n",
       "      <th>MSZoning</th>\n",
       "      <th>LotArea</th>\n",
       "      <th>Street</th>\n",
       "      <th>LotShape</th>\n",
       "      <th>LandContour</th>\n",
       "      <th>Utilities</th>\n",
       "      <th>LotConfig</th>\n",
       "      <th>LandSlope</th>\n",
       "      <th>Neighborhood</th>\n",
       "      <th>...</th>\n",
       "      <th>OpenPorchSF</th>\n",
       "      <th>EnclosedPorch</th>\n",
       "      <th>3SsnPorch</th>\n",
       "      <th>ScreenPorch</th>\n",
       "      <th>PoolArea</th>\n",
       "      <th>MiscVal</th>\n",
       "      <th>MoSold</th>\n",
       "      <th>YrSold</th>\n",
       "      <th>SaleType</th>\n",
       "      <th>SaleCondition</th>\n",
       "    </tr>\n",
       "    <tr>\n",
       "      <th>Id</th>\n",
       "      <th></th>\n",
       "      <th></th>\n",
       "      <th></th>\n",
       "      <th></th>\n",
       "      <th></th>\n",
       "      <th></th>\n",
       "      <th></th>\n",
       "      <th></th>\n",
       "      <th></th>\n",
       "      <th></th>\n",
       "      <th></th>\n",
       "      <th></th>\n",
       "      <th></th>\n",
       "      <th></th>\n",
       "      <th></th>\n",
       "      <th></th>\n",
       "      <th></th>\n",
       "      <th></th>\n",
       "      <th></th>\n",
       "      <th></th>\n",
       "      <th></th>\n",
       "    </tr>\n",
       "  </thead>\n",
       "  <tbody>\n",
       "    <tr>\n",
       "      <th>619</th>\n",
       "      <td>20</td>\n",
       "      <td>RL</td>\n",
       "      <td>11694</td>\n",
       "      <td>Pave</td>\n",
       "      <td>Reg</td>\n",
       "      <td>Lvl</td>\n",
       "      <td>AllPub</td>\n",
       "      <td>Inside</td>\n",
       "      <td>Gtl</td>\n",
       "      <td>NridgHt</td>\n",
       "      <td>...</td>\n",
       "      <td>108</td>\n",
       "      <td>0</td>\n",
       "      <td>0</td>\n",
       "      <td>260</td>\n",
       "      <td>0</td>\n",
       "      <td>0</td>\n",
       "      <td>7</td>\n",
       "      <td>2007</td>\n",
       "      <td>New</td>\n",
       "      <td>Partial</td>\n",
       "    </tr>\n",
       "    <tr>\n",
       "      <th>871</th>\n",
       "      <td>20</td>\n",
       "      <td>RL</td>\n",
       "      <td>6600</td>\n",
       "      <td>Pave</td>\n",
       "      <td>Reg</td>\n",
       "      <td>Lvl</td>\n",
       "      <td>AllPub</td>\n",
       "      <td>Inside</td>\n",
       "      <td>Gtl</td>\n",
       "      <td>NAmes</td>\n",
       "      <td>...</td>\n",
       "      <td>0</td>\n",
       "      <td>0</td>\n",
       "      <td>0</td>\n",
       "      <td>0</td>\n",
       "      <td>0</td>\n",
       "      <td>0</td>\n",
       "      <td>8</td>\n",
       "      <td>2009</td>\n",
       "      <td>WD</td>\n",
       "      <td>Normal</td>\n",
       "    </tr>\n",
       "    <tr>\n",
       "      <th>93</th>\n",
       "      <td>30</td>\n",
       "      <td>RL</td>\n",
       "      <td>13360</td>\n",
       "      <td>Pave</td>\n",
       "      <td>IR1</td>\n",
       "      <td>HLS</td>\n",
       "      <td>AllPub</td>\n",
       "      <td>Inside</td>\n",
       "      <td>Gtl</td>\n",
       "      <td>Crawfor</td>\n",
       "      <td>...</td>\n",
       "      <td>0</td>\n",
       "      <td>44</td>\n",
       "      <td>0</td>\n",
       "      <td>0</td>\n",
       "      <td>0</td>\n",
       "      <td>0</td>\n",
       "      <td>8</td>\n",
       "      <td>2009</td>\n",
       "      <td>WD</td>\n",
       "      <td>Normal</td>\n",
       "    </tr>\n",
       "    <tr>\n",
       "      <th>818</th>\n",
       "      <td>20</td>\n",
       "      <td>RL</td>\n",
       "      <td>13265</td>\n",
       "      <td>Pave</td>\n",
       "      <td>IR1</td>\n",
       "      <td>Lvl</td>\n",
       "      <td>AllPub</td>\n",
       "      <td>CulDSac</td>\n",
       "      <td>Gtl</td>\n",
       "      <td>Mitchel</td>\n",
       "      <td>...</td>\n",
       "      <td>59</td>\n",
       "      <td>0</td>\n",
       "      <td>0</td>\n",
       "      <td>0</td>\n",
       "      <td>0</td>\n",
       "      <td>0</td>\n",
       "      <td>7</td>\n",
       "      <td>2008</td>\n",
       "      <td>WD</td>\n",
       "      <td>Normal</td>\n",
       "    </tr>\n",
       "    <tr>\n",
       "      <th>303</th>\n",
       "      <td>20</td>\n",
       "      <td>RL</td>\n",
       "      <td>13704</td>\n",
       "      <td>Pave</td>\n",
       "      <td>IR1</td>\n",
       "      <td>Lvl</td>\n",
       "      <td>AllPub</td>\n",
       "      <td>Corner</td>\n",
       "      <td>Gtl</td>\n",
       "      <td>CollgCr</td>\n",
       "      <td>...</td>\n",
       "      <td>81</td>\n",
       "      <td>0</td>\n",
       "      <td>0</td>\n",
       "      <td>0</td>\n",
       "      <td>0</td>\n",
       "      <td>0</td>\n",
       "      <td>1</td>\n",
       "      <td>2006</td>\n",
       "      <td>WD</td>\n",
       "      <td>Normal</td>\n",
       "    </tr>\n",
       "  </tbody>\n",
       "</table>\n",
       "<p>5 rows × 60 columns</p>\n",
       "</div>"
      ],
      "text/plain": [
       "     MSSubClass MSZoning  LotArea Street LotShape LandContour Utilities  \\\n",
       "Id                                                                        \n",
       "619          20       RL    11694   Pave      Reg         Lvl    AllPub   \n",
       "871          20       RL     6600   Pave      Reg         Lvl    AllPub   \n",
       "93           30       RL    13360   Pave      IR1         HLS    AllPub   \n",
       "818          20       RL    13265   Pave      IR1         Lvl    AllPub   \n",
       "303          20       RL    13704   Pave      IR1         Lvl    AllPub   \n",
       "\n",
       "    LotConfig LandSlope Neighborhood  ... OpenPorchSF EnclosedPorch 3SsnPorch  \\\n",
       "Id                                    ...                                       \n",
       "619    Inside       Gtl      NridgHt  ...         108             0         0   \n",
       "871    Inside       Gtl        NAmes  ...           0             0         0   \n",
       "93     Inside       Gtl      Crawfor  ...           0            44         0   \n",
       "818   CulDSac       Gtl      Mitchel  ...          59             0         0   \n",
       "303    Corner       Gtl      CollgCr  ...          81             0         0   \n",
       "\n",
       "    ScreenPorch  PoolArea  MiscVal  MoSold  YrSold SaleType SaleCondition  \n",
       "Id                                                                         \n",
       "619         260         0        0       7    2007      New       Partial  \n",
       "871           0         0        0       8    2009       WD        Normal  \n",
       "93            0         0        0       8    2009       WD        Normal  \n",
       "818           0         0        0       7    2008       WD        Normal  \n",
       "303           0         0        0       1    2006       WD        Normal  \n",
       "\n",
       "[5 rows x 60 columns]"
      ]
     },
     "execution_count": 4,
     "metadata": {},
     "output_type": "execute_result"
    }
   ],
   "source": [
    "X_train.head()"
   ]
  },
  {
   "cell_type": "code",
   "execution_count": 5,
   "id": "5d39e575",
   "metadata": {
    "execution": {
     "iopub.execute_input": "2022-03-23T00:49:06.553078Z",
     "iopub.status.busy": "2022-03-23T00:49:06.549853Z",
     "iopub.status.idle": "2022-03-23T00:49:06.556570Z",
     "shell.execute_reply": "2022-03-23T00:49:06.555978Z",
     "shell.execute_reply.started": "2022-03-23T00:21:31.790052Z"
    },
    "papermill": {
     "duration": 0.057208,
     "end_time": "2022-03-23T00:49:06.556718",
     "exception": false,
     "start_time": "2022-03-23T00:49:06.499510",
     "status": "completed"
    },
    "tags": []
   },
   "outputs": [
    {
     "data": {
      "text/plain": [
       "Index(['MSSubClass', 'MSZoning', 'LotArea', 'Street', 'LotShape',\n",
       "       'LandContour', 'Utilities', 'LotConfig', 'LandSlope', 'Neighborhood',\n",
       "       'Condition1', 'Condition2', 'BldgType', 'HouseStyle', 'OverallQual',\n",
       "       'OverallCond', 'YearBuilt', 'YearRemodAdd', 'RoofStyle', 'RoofMatl',\n",
       "       'Exterior1st', 'Exterior2nd', 'ExterQual', 'ExterCond', 'Foundation',\n",
       "       'BsmtFinSF1', 'BsmtFinSF2', 'BsmtUnfSF', 'TotalBsmtSF', 'Heating',\n",
       "       'HeatingQC', 'CentralAir', '1stFlrSF', '2ndFlrSF', 'LowQualFinSF',\n",
       "       'GrLivArea', 'BsmtFullBath', 'BsmtHalfBath', 'FullBath', 'HalfBath',\n",
       "       'BedroomAbvGr', 'KitchenAbvGr', 'KitchenQual', 'TotRmsAbvGrd',\n",
       "       'Functional', 'Fireplaces', 'GarageCars', 'GarageArea', 'PavedDrive',\n",
       "       'WoodDeckSF', 'OpenPorchSF', 'EnclosedPorch', '3SsnPorch',\n",
       "       'ScreenPorch', 'PoolArea', 'MiscVal', 'MoSold', 'YrSold', 'SaleType',\n",
       "       'SaleCondition'],\n",
       "      dtype='object')"
      ]
     },
     "execution_count": 5,
     "metadata": {},
     "output_type": "execute_result"
    }
   ],
   "source": [
    "X_train.columns\n"
   ]
  },
  {
   "cell_type": "markdown",
   "id": "5ec03754",
   "metadata": {
    "papermill": {
     "duration": 0.043164,
     "end_time": "2022-03-23T00:49:06.644749",
     "exception": false,
     "start_time": "2022-03-23T00:49:06.601585",
     "status": "completed"
    },
    "tags": []
   },
   "source": [
    "Notice that the dataset contains both numerical and categorical variables.  You'll need to encode the categorical data before training a model.\n",
    "\n",
    "To compare different models, you'll use the same `score_dataset()` function from the tutorial.  This function reports the [mean absolute error](https://en.wikipedia.org/wiki/Mean_absolute_error) (MAE) from a random forest model."
   ]
  },
  {
   "cell_type": "code",
   "execution_count": 6,
   "id": "024c349f",
   "metadata": {
    "execution": {
     "iopub.execute_input": "2022-03-23T00:49:06.735393Z",
     "iopub.status.busy": "2022-03-23T00:49:06.734684Z",
     "iopub.status.idle": "2022-03-23T00:49:06.953860Z",
     "shell.execute_reply": "2022-03-23T00:49:06.953301Z",
     "shell.execute_reply.started": "2022-03-23T00:21:31.799766Z"
    },
    "papermill": {
     "duration": 0.265665,
     "end_time": "2022-03-23T00:49:06.954084",
     "exception": false,
     "start_time": "2022-03-23T00:49:06.688419",
     "status": "completed"
    },
    "tags": []
   },
   "outputs": [],
   "source": [
    "from sklearn.ensemble import RandomForestRegressor\n",
    "from sklearn.metrics import mean_absolute_error\n",
    "\n",
    "# function for comparing different approaches\n",
    "def score_dataset(X_train, X_valid, y_train, y_valid):\n",
    "    model = RandomForestRegressor(n_estimators=100, random_state=0)\n",
    "    model.fit(X_train, y_train)\n",
    "    preds = model.predict(X_valid)\n",
    "    return mean_absolute_error(y_valid, preds)"
   ]
  },
  {
   "cell_type": "markdown",
   "id": "df622604",
   "metadata": {
    "papermill": {
     "duration": 0.044487,
     "end_time": "2022-03-23T00:49:07.042570",
     "exception": false,
     "start_time": "2022-03-23T00:49:06.998083",
     "status": "completed"
    },
    "tags": []
   },
   "source": [
    "# Step 1: Drop columns with categorical data\n",
    "\n",
    "You'll get started with the most straightforward approach.  Use the code cell below to preprocess the data in `X_train` and `X_valid` to remove columns with categorical data.  Set the preprocessed DataFrames to `drop_X_train` and `drop_X_valid`, respectively.  "
   ]
  },
  {
   "cell_type": "code",
   "execution_count": 7,
   "id": "8a47310b",
   "metadata": {
    "execution": {
     "iopub.execute_input": "2022-03-23T00:49:07.132450Z",
     "iopub.status.busy": "2022-03-23T00:49:07.131803Z",
     "iopub.status.idle": "2022-03-23T00:49:07.142666Z",
     "shell.execute_reply": "2022-03-23T00:49:07.143175Z",
     "shell.execute_reply.started": "2022-03-23T00:21:32.034344Z"
    },
    "papermill": {
     "duration": 0.057234,
     "end_time": "2022-03-23T00:49:07.143344",
     "exception": false,
     "start_time": "2022-03-23T00:49:07.086110",
     "status": "completed"
    },
    "tags": []
   },
   "outputs": [
    {
     "data": {
      "application/javascript": [
       "parent.postMessage({\"jupyterEvent\": \"custom.exercise_interaction\", \"data\": {\"outcomeType\": 1, \"valueTowardsCompletion\": 0.5, \"interactionType\": 1, \"questionType\": 2, \"questionId\": \"1_Drop\", \"learnToolsVersion\": \"0.3.4\", \"failureMessage\": \"\", \"exceptionClass\": \"\", \"trace\": \"\"}}, \"*\")"
      ],
      "text/plain": [
       "<IPython.core.display.Javascript object>"
      ]
     },
     "metadata": {},
     "output_type": "display_data"
    },
    {
     "data": {
      "text/markdown": [
       "<span style=\"color:#33cc33\">Correct</span>"
      ],
      "text/plain": [
       "Correct"
      ]
     },
     "metadata": {},
     "output_type": "display_data"
    }
   ],
   "source": [
    "# Fill in the lines below: drop columns in training and validation data\n",
    "\n",
    "#s = (X_train.dtypes == 'object')\n",
    "#object_cols = list(s[s].index)\n",
    "\n",
    "\n",
    "drop_X_train = X_train.select_dtypes(exclude=['object'])\n",
    "drop_X_valid = X_valid.select_dtypes(exclude=['object'])\n",
    "\n",
    "# Check your answers\n",
    "step_1.check()"
   ]
  },
  {
   "cell_type": "code",
   "execution_count": 8,
   "id": "0cb99747",
   "metadata": {
    "execution": {
     "iopub.execute_input": "2022-03-23T00:49:07.236030Z",
     "iopub.status.busy": "2022-03-23T00:49:07.235392Z",
     "iopub.status.idle": "2022-03-23T00:49:07.255978Z",
     "shell.execute_reply": "2022-03-23T00:49:07.256503Z",
     "shell.execute_reply.started": "2022-03-23T00:21:32.055450Z"
    },
    "papermill": {
     "duration": 0.068285,
     "end_time": "2022-03-23T00:49:07.256677",
     "exception": false,
     "start_time": "2022-03-23T00:49:07.188392",
     "status": "completed"
    },
    "tags": []
   },
   "outputs": [
    {
     "data": {
      "text/html": [
       "<div>\n",
       "<style scoped>\n",
       "    .dataframe tbody tr th:only-of-type {\n",
       "        vertical-align: middle;\n",
       "    }\n",
       "\n",
       "    .dataframe tbody tr th {\n",
       "        vertical-align: top;\n",
       "    }\n",
       "\n",
       "    .dataframe thead th {\n",
       "        text-align: right;\n",
       "    }\n",
       "</style>\n",
       "<table border=\"1\" class=\"dataframe\">\n",
       "  <thead>\n",
       "    <tr style=\"text-align: right;\">\n",
       "      <th></th>\n",
       "      <th>MSSubClass</th>\n",
       "      <th>LotArea</th>\n",
       "      <th>OverallQual</th>\n",
       "      <th>OverallCond</th>\n",
       "      <th>YearBuilt</th>\n",
       "      <th>YearRemodAdd</th>\n",
       "      <th>BsmtFinSF1</th>\n",
       "      <th>BsmtFinSF2</th>\n",
       "      <th>BsmtUnfSF</th>\n",
       "      <th>TotalBsmtSF</th>\n",
       "      <th>...</th>\n",
       "      <th>GarageArea</th>\n",
       "      <th>WoodDeckSF</th>\n",
       "      <th>OpenPorchSF</th>\n",
       "      <th>EnclosedPorch</th>\n",
       "      <th>3SsnPorch</th>\n",
       "      <th>ScreenPorch</th>\n",
       "      <th>PoolArea</th>\n",
       "      <th>MiscVal</th>\n",
       "      <th>MoSold</th>\n",
       "      <th>YrSold</th>\n",
       "    </tr>\n",
       "    <tr>\n",
       "      <th>Id</th>\n",
       "      <th></th>\n",
       "      <th></th>\n",
       "      <th></th>\n",
       "      <th></th>\n",
       "      <th></th>\n",
       "      <th></th>\n",
       "      <th></th>\n",
       "      <th></th>\n",
       "      <th></th>\n",
       "      <th></th>\n",
       "      <th></th>\n",
       "      <th></th>\n",
       "      <th></th>\n",
       "      <th></th>\n",
       "      <th></th>\n",
       "      <th></th>\n",
       "      <th></th>\n",
       "      <th></th>\n",
       "      <th></th>\n",
       "      <th></th>\n",
       "      <th></th>\n",
       "    </tr>\n",
       "  </thead>\n",
       "  <tbody>\n",
       "    <tr>\n",
       "      <th>619</th>\n",
       "      <td>20</td>\n",
       "      <td>11694</td>\n",
       "      <td>9</td>\n",
       "      <td>5</td>\n",
       "      <td>2007</td>\n",
       "      <td>2007</td>\n",
       "      <td>48</td>\n",
       "      <td>0</td>\n",
       "      <td>1774</td>\n",
       "      <td>1822</td>\n",
       "      <td>...</td>\n",
       "      <td>774</td>\n",
       "      <td>0</td>\n",
       "      <td>108</td>\n",
       "      <td>0</td>\n",
       "      <td>0</td>\n",
       "      <td>260</td>\n",
       "      <td>0</td>\n",
       "      <td>0</td>\n",
       "      <td>7</td>\n",
       "      <td>2007</td>\n",
       "    </tr>\n",
       "    <tr>\n",
       "      <th>871</th>\n",
       "      <td>20</td>\n",
       "      <td>6600</td>\n",
       "      <td>5</td>\n",
       "      <td>5</td>\n",
       "      <td>1962</td>\n",
       "      <td>1962</td>\n",
       "      <td>0</td>\n",
       "      <td>0</td>\n",
       "      <td>894</td>\n",
       "      <td>894</td>\n",
       "      <td>...</td>\n",
       "      <td>308</td>\n",
       "      <td>0</td>\n",
       "      <td>0</td>\n",
       "      <td>0</td>\n",
       "      <td>0</td>\n",
       "      <td>0</td>\n",
       "      <td>0</td>\n",
       "      <td>0</td>\n",
       "      <td>8</td>\n",
       "      <td>2009</td>\n",
       "    </tr>\n",
       "    <tr>\n",
       "      <th>93</th>\n",
       "      <td>30</td>\n",
       "      <td>13360</td>\n",
       "      <td>5</td>\n",
       "      <td>7</td>\n",
       "      <td>1921</td>\n",
       "      <td>2006</td>\n",
       "      <td>713</td>\n",
       "      <td>0</td>\n",
       "      <td>163</td>\n",
       "      <td>876</td>\n",
       "      <td>...</td>\n",
       "      <td>432</td>\n",
       "      <td>0</td>\n",
       "      <td>0</td>\n",
       "      <td>44</td>\n",
       "      <td>0</td>\n",
       "      <td>0</td>\n",
       "      <td>0</td>\n",
       "      <td>0</td>\n",
       "      <td>8</td>\n",
       "      <td>2009</td>\n",
       "    </tr>\n",
       "    <tr>\n",
       "      <th>818</th>\n",
       "      <td>20</td>\n",
       "      <td>13265</td>\n",
       "      <td>8</td>\n",
       "      <td>5</td>\n",
       "      <td>2002</td>\n",
       "      <td>2002</td>\n",
       "      <td>1218</td>\n",
       "      <td>0</td>\n",
       "      <td>350</td>\n",
       "      <td>1568</td>\n",
       "      <td>...</td>\n",
       "      <td>857</td>\n",
       "      <td>150</td>\n",
       "      <td>59</td>\n",
       "      <td>0</td>\n",
       "      <td>0</td>\n",
       "      <td>0</td>\n",
       "      <td>0</td>\n",
       "      <td>0</td>\n",
       "      <td>7</td>\n",
       "      <td>2008</td>\n",
       "    </tr>\n",
       "    <tr>\n",
       "      <th>303</th>\n",
       "      <td>20</td>\n",
       "      <td>13704</td>\n",
       "      <td>7</td>\n",
       "      <td>5</td>\n",
       "      <td>2001</td>\n",
       "      <td>2002</td>\n",
       "      <td>0</td>\n",
       "      <td>0</td>\n",
       "      <td>1541</td>\n",
       "      <td>1541</td>\n",
       "      <td>...</td>\n",
       "      <td>843</td>\n",
       "      <td>468</td>\n",
       "      <td>81</td>\n",
       "      <td>0</td>\n",
       "      <td>0</td>\n",
       "      <td>0</td>\n",
       "      <td>0</td>\n",
       "      <td>0</td>\n",
       "      <td>1</td>\n",
       "      <td>2006</td>\n",
       "    </tr>\n",
       "    <tr>\n",
       "      <th>...</th>\n",
       "      <td>...</td>\n",
       "      <td>...</td>\n",
       "      <td>...</td>\n",
       "      <td>...</td>\n",
       "      <td>...</td>\n",
       "      <td>...</td>\n",
       "      <td>...</td>\n",
       "      <td>...</td>\n",
       "      <td>...</td>\n",
       "      <td>...</td>\n",
       "      <td>...</td>\n",
       "      <td>...</td>\n",
       "      <td>...</td>\n",
       "      <td>...</td>\n",
       "      <td>...</td>\n",
       "      <td>...</td>\n",
       "      <td>...</td>\n",
       "      <td>...</td>\n",
       "      <td>...</td>\n",
       "      <td>...</td>\n",
       "      <td>...</td>\n",
       "    </tr>\n",
       "    <tr>\n",
       "      <th>764</th>\n",
       "      <td>60</td>\n",
       "      <td>9430</td>\n",
       "      <td>8</td>\n",
       "      <td>5</td>\n",
       "      <td>1999</td>\n",
       "      <td>1999</td>\n",
       "      <td>1163</td>\n",
       "      <td>0</td>\n",
       "      <td>89</td>\n",
       "      <td>1252</td>\n",
       "      <td>...</td>\n",
       "      <td>856</td>\n",
       "      <td>0</td>\n",
       "      <td>128</td>\n",
       "      <td>0</td>\n",
       "      <td>0</td>\n",
       "      <td>180</td>\n",
       "      <td>0</td>\n",
       "      <td>0</td>\n",
       "      <td>7</td>\n",
       "      <td>2009</td>\n",
       "    </tr>\n",
       "    <tr>\n",
       "      <th>836</th>\n",
       "      <td>20</td>\n",
       "      <td>9600</td>\n",
       "      <td>4</td>\n",
       "      <td>7</td>\n",
       "      <td>1950</td>\n",
       "      <td>1995</td>\n",
       "      <td>442</td>\n",
       "      <td>0</td>\n",
       "      <td>625</td>\n",
       "      <td>1067</td>\n",
       "      <td>...</td>\n",
       "      <td>436</td>\n",
       "      <td>290</td>\n",
       "      <td>0</td>\n",
       "      <td>0</td>\n",
       "      <td>0</td>\n",
       "      <td>0</td>\n",
       "      <td>0</td>\n",
       "      <td>0</td>\n",
       "      <td>2</td>\n",
       "      <td>2010</td>\n",
       "    </tr>\n",
       "    <tr>\n",
       "      <th>1217</th>\n",
       "      <td>90</td>\n",
       "      <td>8930</td>\n",
       "      <td>6</td>\n",
       "      <td>5</td>\n",
       "      <td>1978</td>\n",
       "      <td>1978</td>\n",
       "      <td>0</td>\n",
       "      <td>0</td>\n",
       "      <td>0</td>\n",
       "      <td>0</td>\n",
       "      <td>...</td>\n",
       "      <td>539</td>\n",
       "      <td>0</td>\n",
       "      <td>0</td>\n",
       "      <td>0</td>\n",
       "      <td>0</td>\n",
       "      <td>0</td>\n",
       "      <td>0</td>\n",
       "      <td>0</td>\n",
       "      <td>4</td>\n",
       "      <td>2010</td>\n",
       "    </tr>\n",
       "    <tr>\n",
       "      <th>560</th>\n",
       "      <td>120</td>\n",
       "      <td>3196</td>\n",
       "      <td>7</td>\n",
       "      <td>5</td>\n",
       "      <td>2003</td>\n",
       "      <td>2004</td>\n",
       "      <td>0</td>\n",
       "      <td>0</td>\n",
       "      <td>1374</td>\n",
       "      <td>1374</td>\n",
       "      <td>...</td>\n",
       "      <td>420</td>\n",
       "      <td>143</td>\n",
       "      <td>20</td>\n",
       "      <td>0</td>\n",
       "      <td>0</td>\n",
       "      <td>0</td>\n",
       "      <td>0</td>\n",
       "      <td>0</td>\n",
       "      <td>10</td>\n",
       "      <td>2006</td>\n",
       "    </tr>\n",
       "    <tr>\n",
       "      <th>685</th>\n",
       "      <td>60</td>\n",
       "      <td>16770</td>\n",
       "      <td>7</td>\n",
       "      <td>5</td>\n",
       "      <td>1998</td>\n",
       "      <td>1998</td>\n",
       "      <td>0</td>\n",
       "      <td>0</td>\n",
       "      <td>1195</td>\n",
       "      <td>1195</td>\n",
       "      <td>...</td>\n",
       "      <td>486</td>\n",
       "      <td>0</td>\n",
       "      <td>81</td>\n",
       "      <td>0</td>\n",
       "      <td>0</td>\n",
       "      <td>0</td>\n",
       "      <td>0</td>\n",
       "      <td>0</td>\n",
       "      <td>6</td>\n",
       "      <td>2010</td>\n",
       "    </tr>\n",
       "  </tbody>\n",
       "</table>\n",
       "<p>1168 rows × 33 columns</p>\n",
       "</div>"
      ],
      "text/plain": [
       "      MSSubClass  LotArea  OverallQual  OverallCond  YearBuilt  YearRemodAdd  \\\n",
       "Id                                                                             \n",
       "619           20    11694            9            5       2007          2007   \n",
       "871           20     6600            5            5       1962          1962   \n",
       "93            30    13360            5            7       1921          2006   \n",
       "818           20    13265            8            5       2002          2002   \n",
       "303           20    13704            7            5       2001          2002   \n",
       "...          ...      ...          ...          ...        ...           ...   \n",
       "764           60     9430            8            5       1999          1999   \n",
       "836           20     9600            4            7       1950          1995   \n",
       "1217          90     8930            6            5       1978          1978   \n",
       "560          120     3196            7            5       2003          2004   \n",
       "685           60    16770            7            5       1998          1998   \n",
       "\n",
       "      BsmtFinSF1  BsmtFinSF2  BsmtUnfSF  TotalBsmtSF  ...  GarageArea  \\\n",
       "Id                                                    ...               \n",
       "619           48           0       1774         1822  ...         774   \n",
       "871            0           0        894          894  ...         308   \n",
       "93           713           0        163          876  ...         432   \n",
       "818         1218           0        350         1568  ...         857   \n",
       "303            0           0       1541         1541  ...         843   \n",
       "...          ...         ...        ...          ...  ...         ...   \n",
       "764         1163           0         89         1252  ...         856   \n",
       "836          442           0        625         1067  ...         436   \n",
       "1217           0           0          0            0  ...         539   \n",
       "560            0           0       1374         1374  ...         420   \n",
       "685            0           0       1195         1195  ...         486   \n",
       "\n",
       "      WoodDeckSF  OpenPorchSF  EnclosedPorch  3SsnPorch  ScreenPorch  \\\n",
       "Id                                                                     \n",
       "619            0          108              0          0          260   \n",
       "871            0            0              0          0            0   \n",
       "93             0            0             44          0            0   \n",
       "818          150           59              0          0            0   \n",
       "303          468           81              0          0            0   \n",
       "...          ...          ...            ...        ...          ...   \n",
       "764            0          128              0          0          180   \n",
       "836          290            0              0          0            0   \n",
       "1217           0            0              0          0            0   \n",
       "560          143           20              0          0            0   \n",
       "685            0           81              0          0            0   \n",
       "\n",
       "      PoolArea  MiscVal  MoSold  YrSold  \n",
       "Id                                       \n",
       "619          0        0       7    2007  \n",
       "871          0        0       8    2009  \n",
       "93           0        0       8    2009  \n",
       "818          0        0       7    2008  \n",
       "303          0        0       1    2006  \n",
       "...        ...      ...     ...     ...  \n",
       "764          0        0       7    2009  \n",
       "836          0        0       2    2010  \n",
       "1217         0        0       4    2010  \n",
       "560          0        0      10    2006  \n",
       "685          0        0       6    2010  \n",
       "\n",
       "[1168 rows x 33 columns]"
      ]
     },
     "execution_count": 8,
     "metadata": {},
     "output_type": "execute_result"
    }
   ],
   "source": [
    "drop_X_train\n"
   ]
  },
  {
   "cell_type": "code",
   "execution_count": 9,
   "id": "b1ad982b",
   "metadata": {
    "execution": {
     "iopub.execute_input": "2022-03-23T00:49:07.352490Z",
     "iopub.status.busy": "2022-03-23T00:49:07.351777Z",
     "iopub.status.idle": "2022-03-23T00:49:07.354576Z",
     "shell.execute_reply": "2022-03-23T00:49:07.355124Z",
     "shell.execute_reply.started": "2022-03-23T00:21:32.084201Z"
    },
    "papermill": {
     "duration": 0.052502,
     "end_time": "2022-03-23T00:49:07.355302",
     "exception": false,
     "start_time": "2022-03-23T00:49:07.302800",
     "status": "completed"
    },
    "tags": []
   },
   "outputs": [],
   "source": [
    "# Lines below will give you a hint or solution code\n",
    "#step_1.hint()\n",
    "#step_1.solution()"
   ]
  },
  {
   "cell_type": "markdown",
   "id": "d87c68dc",
   "metadata": {
    "papermill": {
     "duration": 0.045303,
     "end_time": "2022-03-23T00:49:07.446406",
     "exception": false,
     "start_time": "2022-03-23T00:49:07.401103",
     "status": "completed"
    },
    "tags": []
   },
   "source": [
    "Run the next code cell to get the MAE for this approach."
   ]
  },
  {
   "cell_type": "code",
   "execution_count": 10,
   "id": "39ed5466",
   "metadata": {
    "execution": {
     "iopub.execute_input": "2022-03-23T00:49:07.542293Z",
     "iopub.status.busy": "2022-03-23T00:49:07.541606Z",
     "iopub.status.idle": "2022-03-23T00:49:08.642164Z",
     "shell.execute_reply": "2022-03-23T00:49:08.642674Z",
     "shell.execute_reply.started": "2022-03-23T00:21:32.091156Z"
    },
    "papermill": {
     "duration": 1.150538,
     "end_time": "2022-03-23T00:49:08.642846",
     "exception": false,
     "start_time": "2022-03-23T00:49:07.492308",
     "status": "completed"
    },
    "tags": []
   },
   "outputs": [
    {
     "name": "stdout",
     "output_type": "stream",
     "text": [
      "MAE from Approach 1 (Drop categorical variables):\n",
      "17837.82570776256\n"
     ]
    }
   ],
   "source": [
    "print(\"MAE from Approach 1 (Drop categorical variables):\")\n",
    "print(score_dataset(drop_X_train, drop_X_valid, y_train, y_valid))"
   ]
  },
  {
   "cell_type": "markdown",
   "id": "d3a875c3",
   "metadata": {
    "papermill": {
     "duration": 0.04635,
     "end_time": "2022-03-23T00:49:08.736629",
     "exception": false,
     "start_time": "2022-03-23T00:49:08.690279",
     "status": "completed"
    },
    "tags": []
   },
   "source": [
    "Before jumping into ordinal encoding, we'll investigate the dataset.  Specifically, we'll look at the `'Condition2'` column.  The code cell below prints the unique entries in both the training and validation sets."
   ]
  },
  {
   "cell_type": "code",
   "execution_count": 11,
   "id": "83de6a2c",
   "metadata": {
    "execution": {
     "iopub.execute_input": "2022-03-23T00:49:08.834233Z",
     "iopub.status.busy": "2022-03-23T00:49:08.833469Z",
     "iopub.status.idle": "2022-03-23T00:49:08.840254Z",
     "shell.execute_reply": "2022-03-23T00:49:08.839550Z",
     "shell.execute_reply.started": "2022-03-23T00:21:33.206011Z"
    },
    "papermill": {
     "duration": 0.057234,
     "end_time": "2022-03-23T00:49:08.840399",
     "exception": false,
     "start_time": "2022-03-23T00:49:08.783165",
     "status": "completed"
    },
    "tags": []
   },
   "outputs": [
    {
     "name": "stdout",
     "output_type": "stream",
     "text": [
      "Unique values in 'Condition2' column in training data: ['Norm' 'PosA' 'Feedr' 'PosN' 'Artery' 'RRAe']\n",
      "\n",
      "Unique values in 'Condition2' column in validation data: ['Norm' 'RRAn' 'RRNn' 'Artery' 'Feedr' 'PosN']\n"
     ]
    }
   ],
   "source": [
    "print(\"Unique values in 'Condition2' column in training data:\", X_train['Condition2'].unique())\n",
    "print(\"\\nUnique values in 'Condition2' column in validation data:\", X_valid['Condition2'].unique())"
   ]
  },
  {
   "cell_type": "markdown",
   "id": "5fc8fb89",
   "metadata": {
    "papermill": {
     "duration": 0.046665,
     "end_time": "2022-03-23T00:49:08.935015",
     "exception": false,
     "start_time": "2022-03-23T00:49:08.888350",
     "status": "completed"
    },
    "tags": []
   },
   "source": [
    "# Step 2: Ordinal encoding\n",
    "\n",
    "### Part A\n",
    "\n",
    "If you now write code to: \n",
    "- fit an ordinal encoder to the training data, and then \n",
    "- use it to transform both the training and validation data, \n",
    "\n",
    "you'll get an error.  Can you see why this is the case?  (_You'll need  to use the above output to answer this question._)"
   ]
  },
  {
   "cell_type": "code",
   "execution_count": 12,
   "id": "1ed3c6de",
   "metadata": {
    "execution": {
     "iopub.execute_input": "2022-03-23T00:49:09.036416Z",
     "iopub.status.busy": "2022-03-23T00:49:09.035708Z",
     "iopub.status.idle": "2022-03-23T00:49:09.039595Z",
     "shell.execute_reply": "2022-03-23T00:49:09.040286Z",
     "shell.execute_reply.started": "2022-03-23T00:21:33.214972Z"
    },
    "papermill": {
     "duration": 0.058716,
     "end_time": "2022-03-23T00:49:09.040465",
     "exception": false,
     "start_time": "2022-03-23T00:49:08.981749",
     "status": "completed"
    },
    "tags": []
   },
   "outputs": [
    {
     "data": {
      "application/javascript": [
       "parent.postMessage({\"jupyterEvent\": \"custom.exercise_interaction\", \"data\": {\"outcomeType\": 1, \"valueTowardsCompletion\": 0.5, \"interactionType\": 1, \"questionType\": 4, \"questionId\": \"2.1_LabelA\", \"learnToolsVersion\": \"0.3.4\", \"failureMessage\": \"\", \"exceptionClass\": \"\", \"trace\": \"\"}}, \"*\")"
      ],
      "text/plain": [
       "<IPython.core.display.Javascript object>"
      ]
     },
     "metadata": {},
     "output_type": "display_data"
    },
    {
     "data": {
      "text/markdown": [
       "<span style=\"color:#33cc33\">Correct:</span> \n",
       "\n",
       "Fitting an ordinal encoder to a column in the training data creates a corresponding integer-valued label for each unique value **that appears in the training data**. In the case that the validation data contains values that don't also appear in the training data, the encoder will throw an error, because these values won't have an integer assigned to them.  Notice that the `'Condition2'` column in the validation data contains the values `'RRAn'` and `'RRNn'`, but these don't appear in the training data -- thus, if we try to use an ordinal encoder with scikit-learn, the code will throw an error."
      ],
      "text/plain": [
       "Correct: \n",
       "\n",
       "Fitting an ordinal encoder to a column in the training data creates a corresponding integer-valued label for each unique value **that appears in the training data**. In the case that the validation data contains values that don't also appear in the training data, the encoder will throw an error, because these values won't have an integer assigned to them.  Notice that the `'Condition2'` column in the validation data contains the values `'RRAn'` and `'RRNn'`, but these don't appear in the training data -- thus, if we try to use an ordinal encoder with scikit-learn, the code will throw an error."
      ]
     },
     "metadata": {},
     "output_type": "display_data"
    }
   ],
   "source": [
    "# Check your answer (Run this code cell to receive credit!)\n",
    "step_2.a.check()"
   ]
  },
  {
   "cell_type": "code",
   "execution_count": 13,
   "id": "90d33a50",
   "metadata": {
    "execution": {
     "iopub.execute_input": "2022-03-23T00:49:09.144406Z",
     "iopub.status.busy": "2022-03-23T00:49:09.143638Z",
     "iopub.status.idle": "2022-03-23T00:49:09.145866Z",
     "shell.execute_reply": "2022-03-23T00:49:09.146464Z",
     "shell.execute_reply.started": "2022-03-23T00:21:33.230050Z"
    },
    "papermill": {
     "duration": 0.0562,
     "end_time": "2022-03-23T00:49:09.146637",
     "exception": false,
     "start_time": "2022-03-23T00:49:09.090437",
     "status": "completed"
    },
    "tags": []
   },
   "outputs": [],
   "source": [
    "#step_2.a.hint()"
   ]
  },
  {
   "cell_type": "markdown",
   "id": "0014031e",
   "metadata": {
    "papermill": {
     "duration": 0.047587,
     "end_time": "2022-03-23T00:49:09.242239",
     "exception": false,
     "start_time": "2022-03-23T00:49:09.194652",
     "status": "completed"
    },
    "tags": []
   },
   "source": [
    "This is a common problem that you'll encounter with real-world data, and there are many approaches to fixing this issue.  For instance, you can write a custom ordinal encoder to deal with new categories.  The simplest approach, however, is to drop the problematic categorical columns.  \n",
    "\n",
    "Run the code cell below to save the problematic columns to a Python list `bad_label_cols`.  Likewise, columns that can be safely ordinal encoded are stored in `good_label_cols`."
   ]
  },
  {
   "cell_type": "code",
   "execution_count": 14,
   "id": "c09fd981",
   "metadata": {
    "execution": {
     "iopub.execute_input": "2022-03-23T00:49:09.340870Z",
     "iopub.status.busy": "2022-03-23T00:49:09.340266Z",
     "iopub.status.idle": "2022-03-23T00:49:09.356907Z",
     "shell.execute_reply": "2022-03-23T00:49:09.356205Z",
     "shell.execute_reply.started": "2022-03-23T00:21:33.239475Z"
    },
    "papermill": {
     "duration": 0.067281,
     "end_time": "2022-03-23T00:49:09.357116",
     "exception": false,
     "start_time": "2022-03-23T00:49:09.289835",
     "status": "completed"
    },
    "tags": []
   },
   "outputs": [
    {
     "name": "stdout",
     "output_type": "stream",
     "text": [
      "Categorical columns that will be ordinal encoded: ['MSZoning', 'Street', 'LotShape', 'LandContour', 'Utilities', 'LotConfig', 'LandSlope', 'Neighborhood', 'Condition1', 'BldgType', 'HouseStyle', 'RoofStyle', 'Exterior1st', 'Exterior2nd', 'ExterQual', 'ExterCond', 'Foundation', 'Heating', 'HeatingQC', 'CentralAir', 'KitchenQual', 'PavedDrive', 'SaleType', 'SaleCondition']\n",
      "\n",
      "Categorical columns that will be dropped from the dataset: ['RoofMatl', 'Functional', 'Condition2']\n"
     ]
    }
   ],
   "source": [
    "# Categorical columns in the training data\n",
    "object_cols = [col for col in X_train.columns if X_train[col].dtype == \"object\"]\n",
    "\n",
    "# Columns that can be safely ordinal encoded\n",
    "good_label_cols = [col for col in object_cols if \n",
    "                   set(X_valid[col]).issubset(set(X_train[col]))]\n",
    "        \n",
    "# Problematic columns that will be dropped from the dataset\n",
    "bad_label_cols = list(set(object_cols)-set(good_label_cols))\n",
    "        \n",
    "print('Categorical columns that will be ordinal encoded:', good_label_cols)\n",
    "print('\\nCategorical columns that will be dropped from the dataset:', bad_label_cols)"
   ]
  },
  {
   "cell_type": "markdown",
   "id": "f29eb4d1",
   "metadata": {
    "papermill": {
     "duration": 0.048786,
     "end_time": "2022-03-23T00:49:09.455189",
     "exception": false,
     "start_time": "2022-03-23T00:49:09.406403",
     "status": "completed"
    },
    "tags": []
   },
   "source": [
    "### Part B\n",
    "\n",
    "Use the next code cell to ordinal encode the data in `X_train` and `X_valid`.  Set the preprocessed DataFrames to `label_X_train` and `label_X_valid`, respectively.  \n",
    "- We have provided code below to drop the categorical columns in `bad_label_cols` from the dataset. \n",
    "- You should ordinal encode the categorical columns in `good_label_cols`.  "
   ]
  },
  {
   "cell_type": "code",
   "execution_count": 15,
   "id": "05cbcf07",
   "metadata": {
    "execution": {
     "iopub.execute_input": "2022-03-23T00:49:09.560593Z",
     "iopub.status.busy": "2022-03-23T00:49:09.559506Z",
     "iopub.status.idle": "2022-03-23T00:49:09.601692Z",
     "shell.execute_reply": "2022-03-23T00:49:09.601161Z",
     "shell.execute_reply.started": "2022-03-23T00:21:33.261081Z"
    },
    "papermill": {
     "duration": 0.098449,
     "end_time": "2022-03-23T00:49:09.601833",
     "exception": false,
     "start_time": "2022-03-23T00:49:09.503384",
     "status": "completed"
    },
    "tags": []
   },
   "outputs": [
    {
     "data": {
      "application/javascript": [
       "parent.postMessage({\"jupyterEvent\": \"custom.exercise_interaction\", \"data\": {\"outcomeType\": 1, \"valueTowardsCompletion\": 0.5, \"interactionType\": 1, \"questionType\": 2, \"questionId\": \"2.2_LabelB\", \"learnToolsVersion\": \"0.3.4\", \"failureMessage\": \"\", \"exceptionClass\": \"\", \"trace\": \"\"}}, \"*\")"
      ],
      "text/plain": [
       "<IPython.core.display.Javascript object>"
      ]
     },
     "metadata": {},
     "output_type": "display_data"
    },
    {
     "data": {
      "text/markdown": [
       "<span style=\"color:#33cc33\">Correct</span>"
      ],
      "text/plain": [
       "Correct"
      ]
     },
     "metadata": {},
     "output_type": "display_data"
    }
   ],
   "source": [
    "from sklearn.preprocessing import OrdinalEncoder\n",
    "\n",
    "# Drop categorical columns that will not be encoded\n",
    "label_X_train = X_train.drop(bad_label_cols, axis=1)\n",
    "label_X_valid = X_valid.drop(bad_label_cols, axis=1)\n",
    "\n",
    "# Apply ordinal encoder \n",
    "____ # Your code here\n",
    "\n",
    "ordinal_encoder = OrdinalEncoder()\n",
    "label_X_train[good_label_cols] = ordinal_encoder.fit_transform(label_X_train[good_label_cols])\n",
    "label_X_valid[good_label_cols] = ordinal_encoder.transform(label_X_valid[good_label_cols])\n",
    "    \n",
    "# Check your answer\n",
    "step_2.b.check()"
   ]
  },
  {
   "cell_type": "code",
   "execution_count": 16,
   "id": "5ddb8f30",
   "metadata": {
    "execution": {
     "iopub.execute_input": "2022-03-23T00:49:09.705919Z",
     "iopub.status.busy": "2022-03-23T00:49:09.705269Z",
     "iopub.status.idle": "2022-03-23T00:49:09.708934Z",
     "shell.execute_reply": "2022-03-23T00:49:09.709523Z",
     "shell.execute_reply.started": "2022-03-23T00:21:33.313319Z"
    },
    "papermill": {
     "duration": 0.058817,
     "end_time": "2022-03-23T00:49:09.709700",
     "exception": false,
     "start_time": "2022-03-23T00:49:09.650883",
     "status": "completed"
    },
    "tags": []
   },
   "outputs": [
    {
     "data": {
      "application/javascript": [
       "parent.postMessage({\"jupyterEvent\": \"custom.exercise_interaction\", \"data\": {\"interactionType\": 3, \"questionType\": 2, \"questionId\": \"2.2_LabelB\", \"learnToolsVersion\": \"0.3.4\", \"valueTowardsCompletion\": 0.0, \"failureMessage\": \"\", \"exceptionClass\": \"\", \"trace\": \"\", \"outcomeType\": 4}}, \"*\")"
      ],
      "text/plain": [
       "<IPython.core.display.Javascript object>"
      ]
     },
     "metadata": {},
     "output_type": "display_data"
    },
    {
     "data": {
      "text/markdown": [
       "<span style=\"color:#33cc99\">Solution:</span> \n",
       "```python\n",
       "# Drop categorical columns that will not be encoded\n",
       "label_X_train = X_train.drop(bad_label_cols, axis=1)\n",
       "label_X_valid = X_valid.drop(bad_label_cols, axis=1)\n",
       "\n",
       "# Apply ordinal encoder\n",
       "ordinal_encoder = OrdinalEncoder()\n",
       "label_X_train[good_label_cols] = ordinal_encoder.fit_transform(X_train[good_label_cols])\n",
       "label_X_valid[good_label_cols] = ordinal_encoder.transform(X_valid[good_label_cols])\n",
       "\n",
       "```"
      ],
      "text/plain": [
       "Solution: \n",
       "```python\n",
       "# Drop categorical columns that will not be encoded\n",
       "label_X_train = X_train.drop(bad_label_cols, axis=1)\n",
       "label_X_valid = X_valid.drop(bad_label_cols, axis=1)\n",
       "\n",
       "# Apply ordinal encoder\n",
       "ordinal_encoder = OrdinalEncoder()\n",
       "label_X_train[good_label_cols] = ordinal_encoder.fit_transform(X_train[good_label_cols])\n",
       "label_X_valid[good_label_cols] = ordinal_encoder.transform(X_valid[good_label_cols])\n",
       "\n",
       "```"
      ]
     },
     "metadata": {},
     "output_type": "display_data"
    }
   ],
   "source": [
    "# Lines below will give you a hint or solution code\n",
    "#step_2.b.hint()\n",
    "step_2.b.solution()"
   ]
  },
  {
   "cell_type": "code",
   "execution_count": 17,
   "id": "264d6d93",
   "metadata": {
    "execution": {
     "iopub.execute_input": "2022-03-23T00:49:09.814341Z",
     "iopub.status.busy": "2022-03-23T00:49:09.813731Z",
     "iopub.status.idle": "2022-03-23T00:49:09.826284Z",
     "shell.execute_reply": "2022-03-23T00:49:09.826811Z",
     "shell.execute_reply.started": "2022-03-23T00:21:33.323834Z"
    },
    "papermill": {
     "duration": 0.066709,
     "end_time": "2022-03-23T00:49:09.826999",
     "exception": false,
     "start_time": "2022-03-23T00:49:09.760290",
     "status": "completed"
    },
    "tags": []
   },
   "outputs": [
    {
     "data": {
      "text/html": [
       "<div>\n",
       "<style scoped>\n",
       "    .dataframe tbody tr th:only-of-type {\n",
       "        vertical-align: middle;\n",
       "    }\n",
       "\n",
       "    .dataframe tbody tr th {\n",
       "        vertical-align: top;\n",
       "    }\n",
       "\n",
       "    .dataframe thead th {\n",
       "        text-align: right;\n",
       "    }\n",
       "</style>\n",
       "<table border=\"1\" class=\"dataframe\">\n",
       "  <thead>\n",
       "    <tr style=\"text-align: right;\">\n",
       "      <th></th>\n",
       "      <th>RoofMatl</th>\n",
       "      <th>Functional</th>\n",
       "      <th>Condition2</th>\n",
       "    </tr>\n",
       "    <tr>\n",
       "      <th>Id</th>\n",
       "      <th></th>\n",
       "      <th></th>\n",
       "      <th></th>\n",
       "    </tr>\n",
       "  </thead>\n",
       "  <tbody>\n",
       "    <tr>\n",
       "      <th>619</th>\n",
       "      <td>CompShg</td>\n",
       "      <td>Typ</td>\n",
       "      <td>Norm</td>\n",
       "    </tr>\n",
       "    <tr>\n",
       "      <th>871</th>\n",
       "      <td>CompShg</td>\n",
       "      <td>Typ</td>\n",
       "      <td>Norm</td>\n",
       "    </tr>\n",
       "    <tr>\n",
       "      <th>93</th>\n",
       "      <td>CompShg</td>\n",
       "      <td>Typ</td>\n",
       "      <td>Norm</td>\n",
       "    </tr>\n",
       "    <tr>\n",
       "      <th>818</th>\n",
       "      <td>CompShg</td>\n",
       "      <td>Typ</td>\n",
       "      <td>Norm</td>\n",
       "    </tr>\n",
       "    <tr>\n",
       "      <th>303</th>\n",
       "      <td>CompShg</td>\n",
       "      <td>Typ</td>\n",
       "      <td>Norm</td>\n",
       "    </tr>\n",
       "    <tr>\n",
       "      <th>...</th>\n",
       "      <td>...</td>\n",
       "      <td>...</td>\n",
       "      <td>...</td>\n",
       "    </tr>\n",
       "    <tr>\n",
       "      <th>764</th>\n",
       "      <td>CompShg</td>\n",
       "      <td>Typ</td>\n",
       "      <td>Norm</td>\n",
       "    </tr>\n",
       "    <tr>\n",
       "      <th>836</th>\n",
       "      <td>CompShg</td>\n",
       "      <td>Min2</td>\n",
       "      <td>Norm</td>\n",
       "    </tr>\n",
       "    <tr>\n",
       "      <th>1217</th>\n",
       "      <td>CompShg</td>\n",
       "      <td>Typ</td>\n",
       "      <td>Norm</td>\n",
       "    </tr>\n",
       "    <tr>\n",
       "      <th>560</th>\n",
       "      <td>CompShg</td>\n",
       "      <td>Typ</td>\n",
       "      <td>Norm</td>\n",
       "    </tr>\n",
       "    <tr>\n",
       "      <th>685</th>\n",
       "      <td>CompShg</td>\n",
       "      <td>Typ</td>\n",
       "      <td>Norm</td>\n",
       "    </tr>\n",
       "  </tbody>\n",
       "</table>\n",
       "<p>1168 rows × 3 columns</p>\n",
       "</div>"
      ],
      "text/plain": [
       "     RoofMatl Functional Condition2\n",
       "Id                                 \n",
       "619   CompShg        Typ       Norm\n",
       "871   CompShg        Typ       Norm\n",
       "93    CompShg        Typ       Norm\n",
       "818   CompShg        Typ       Norm\n",
       "303   CompShg        Typ       Norm\n",
       "...       ...        ...        ...\n",
       "764   CompShg        Typ       Norm\n",
       "836   CompShg       Min2       Norm\n",
       "1217  CompShg        Typ       Norm\n",
       "560   CompShg        Typ       Norm\n",
       "685   CompShg        Typ       Norm\n",
       "\n",
       "[1168 rows x 3 columns]"
      ]
     },
     "execution_count": 17,
     "metadata": {},
     "output_type": "execute_result"
    }
   ],
   "source": [
    "X_train[bad_label_cols]"
   ]
  },
  {
   "cell_type": "markdown",
   "id": "41558cc4",
   "metadata": {
    "papermill": {
     "duration": 0.051581,
     "end_time": "2022-03-23T00:49:09.931130",
     "exception": false,
     "start_time": "2022-03-23T00:49:09.879549",
     "status": "completed"
    },
    "tags": []
   },
   "source": [
    "Run the next code cell to get the MAE for this approach."
   ]
  },
  {
   "cell_type": "code",
   "execution_count": 18,
   "id": "45b98029",
   "metadata": {
    "execution": {
     "iopub.execute_input": "2022-03-23T00:49:10.043990Z",
     "iopub.status.busy": "2022-03-23T00:49:10.043332Z",
     "iopub.status.idle": "2022-03-23T00:49:11.436608Z",
     "shell.execute_reply": "2022-03-23T00:49:11.435887Z",
     "shell.execute_reply.started": "2022-03-23T00:21:33.341571Z"
    },
    "papermill": {
     "duration": 1.452694,
     "end_time": "2022-03-23T00:49:11.436786",
     "exception": false,
     "start_time": "2022-03-23T00:49:09.984092",
     "status": "completed"
    },
    "tags": []
   },
   "outputs": [
    {
     "name": "stdout",
     "output_type": "stream",
     "text": [
      "MAE from Approach 2 (Ordinal Encoding):\n",
      "17098.01649543379\n"
     ]
    }
   ],
   "source": [
    "print(\"MAE from Approach 2 (Ordinal Encoding):\") \n",
    "print(score_dataset(label_X_train, label_X_valid, y_train, y_valid))"
   ]
  },
  {
   "cell_type": "markdown",
   "id": "4bd34971",
   "metadata": {
    "papermill": {
     "duration": 0.052056,
     "end_time": "2022-03-23T00:49:11.541305",
     "exception": false,
     "start_time": "2022-03-23T00:49:11.489249",
     "status": "completed"
    },
    "tags": []
   },
   "source": [
    "So far, you've tried two different approaches to dealing with categorical variables.  And, you've seen that encoding categorical data yields better results than removing columns from the dataset.\n",
    "\n",
    "Soon, you'll try one-hot encoding.  Before then, there's one additional topic we need to cover.  Begin by running the next code cell without changes.  "
   ]
  },
  {
   "cell_type": "code",
   "execution_count": 19,
   "id": "944ba5a9",
   "metadata": {
    "execution": {
     "iopub.execute_input": "2022-03-23T00:49:11.649476Z",
     "iopub.status.busy": "2022-03-23T00:49:11.648840Z",
     "iopub.status.idle": "2022-03-23T00:49:11.662089Z",
     "shell.execute_reply": "2022-03-23T00:49:11.662643Z",
     "shell.execute_reply.started": "2022-03-23T00:21:34.729954Z"
    },
    "papermill": {
     "duration": 0.069258,
     "end_time": "2022-03-23T00:49:11.662817",
     "exception": false,
     "start_time": "2022-03-23T00:49:11.593559",
     "status": "completed"
    },
    "tags": []
   },
   "outputs": [
    {
     "data": {
      "text/plain": [
       "[('Street', 2),\n",
       " ('Utilities', 2),\n",
       " ('CentralAir', 2),\n",
       " ('LandSlope', 3),\n",
       " ('PavedDrive', 3),\n",
       " ('LotShape', 4),\n",
       " ('LandContour', 4),\n",
       " ('ExterQual', 4),\n",
       " ('KitchenQual', 4),\n",
       " ('MSZoning', 5),\n",
       " ('LotConfig', 5),\n",
       " ('BldgType', 5),\n",
       " ('ExterCond', 5),\n",
       " ('HeatingQC', 5),\n",
       " ('Condition2', 6),\n",
       " ('RoofStyle', 6),\n",
       " ('Foundation', 6),\n",
       " ('Heating', 6),\n",
       " ('Functional', 6),\n",
       " ('SaleCondition', 6),\n",
       " ('RoofMatl', 7),\n",
       " ('HouseStyle', 8),\n",
       " ('Condition1', 9),\n",
       " ('SaleType', 9),\n",
       " ('Exterior1st', 15),\n",
       " ('Exterior2nd', 16),\n",
       " ('Neighborhood', 25)]"
      ]
     },
     "execution_count": 19,
     "metadata": {},
     "output_type": "execute_result"
    }
   ],
   "source": [
    "# Get number of unique entries in each column with categorical data\n",
    "object_nunique = list(map(lambda col: X_train[col].nunique(), object_cols))\n",
    "d = dict(zip(object_cols, object_nunique))\n",
    "\n",
    "# Print number of unique entries by column, in ascending order\n",
    "sorted(d.items(), key=lambda x: x[1])"
   ]
  },
  {
   "cell_type": "markdown",
   "id": "b40df183",
   "metadata": {
    "papermill": {
     "duration": 0.052495,
     "end_time": "2022-03-23T00:49:11.768225",
     "exception": false,
     "start_time": "2022-03-23T00:49:11.715730",
     "status": "completed"
    },
    "tags": []
   },
   "source": [
    "# Step 3: Investigating cardinality\n",
    "\n",
    "### Part A\n",
    "\n",
    "The output above shows, for each column with categorical data, the number of unique values in the column.  For instance, the `'Street'` column in the training data has two unique values: `'Grvl'` and `'Pave'`, corresponding to a gravel road and a paved road, respectively.\n",
    "\n",
    "We refer to the number of unique entries of a categorical variable as the **cardinality** of that categorical variable.  For instance, the `'Street'` variable has cardinality 2.\n",
    "\n",
    "Use the output above to answer the questions below."
   ]
  },
  {
   "cell_type": "code",
   "execution_count": 20,
   "id": "21ba4955",
   "metadata": {
    "execution": {
     "iopub.execute_input": "2022-03-23T00:49:11.878510Z",
     "iopub.status.busy": "2022-03-23T00:49:11.877770Z",
     "iopub.status.idle": "2022-03-23T00:49:11.885483Z",
     "shell.execute_reply": "2022-03-23T00:49:11.884984Z",
     "shell.execute_reply.started": "2022-03-23T00:25:22.801693Z"
    },
    "papermill": {
     "duration": 0.063689,
     "end_time": "2022-03-23T00:49:11.885633",
     "exception": false,
     "start_time": "2022-03-23T00:49:11.821944",
     "status": "completed"
    },
    "tags": []
   },
   "outputs": [
    {
     "data": {
      "application/javascript": [
       "parent.postMessage({\"jupyterEvent\": \"custom.exercise_interaction\", \"data\": {\"outcomeType\": 1, \"valueTowardsCompletion\": 0.5, \"interactionType\": 1, \"questionType\": 1, \"questionId\": \"3.1_CardinalityA\", \"learnToolsVersion\": \"0.3.4\", \"failureMessage\": \"\", \"exceptionClass\": \"\", \"trace\": \"\"}}, \"*\")"
      ],
      "text/plain": [
       "<IPython.core.display.Javascript object>"
      ]
     },
     "metadata": {},
     "output_type": "display_data"
    },
    {
     "data": {
      "text/markdown": [
       "<span style=\"color:#33cc33\">Correct</span>"
      ],
      "text/plain": [
       "Correct"
      ]
     },
     "metadata": {},
     "output_type": "display_data"
    }
   ],
   "source": [
    "# Fill in the line below: How many categorical variables in the training data\n",
    "# have cardinality greater than 10?\n",
    "high_cardinality_numcols = 3\n",
    "\n",
    "# Fill in the line below: How many columns are needed to one-hot encode the \n",
    "# 'Neighborhood' variable in the training data?\n",
    "num_cols_neighborhood = 25\n",
    "\n",
    "# Check your answers\n",
    "step_3.a.check()"
   ]
  },
  {
   "cell_type": "code",
   "execution_count": 21,
   "id": "637d15c5",
   "metadata": {
    "execution": {
     "iopub.execute_input": "2022-03-23T00:49:12.000779Z",
     "iopub.status.busy": "2022-03-23T00:49:11.999700Z",
     "iopub.status.idle": "2022-03-23T00:49:12.004062Z",
     "shell.execute_reply": "2022-03-23T00:49:12.003510Z",
     "shell.execute_reply.started": "2022-03-23T00:21:34.758660Z"
    },
    "papermill": {
     "duration": 0.060932,
     "end_time": "2022-03-23T00:49:12.004216",
     "exception": false,
     "start_time": "2022-03-23T00:49:11.943284",
     "status": "completed"
    },
    "tags": []
   },
   "outputs": [],
   "source": [
    "# Lines below will give you a hint or solution code\n",
    "#step_3.a.hint()\n",
    "#step_3.a.solution()"
   ]
  },
  {
   "cell_type": "markdown",
   "id": "7b2306d7",
   "metadata": {
    "papermill": {
     "duration": 0.054923,
     "end_time": "2022-03-23T00:49:12.113829",
     "exception": false,
     "start_time": "2022-03-23T00:49:12.058906",
     "status": "completed"
    },
    "tags": []
   },
   "source": [
    "### Part B\n",
    "\n",
    "For large datasets with many rows, one-hot encoding can greatly expand the size of the dataset.  For this reason, we typically will only one-hot encode columns with relatively low cardinality.  Then, high cardinality columns can either be dropped from the dataset, or we can use ordinal encoding.\n",
    "\n",
    "As an example, consider a dataset with 10,000 rows, and containing one categorical column with 100 unique entries.  \n",
    "- If this column is replaced with the corresponding one-hot encoding, how many entries are added to the dataset?  \n",
    "- If we instead replace the column with the ordinal encoding, how many entries are added?  \n",
    "\n",
    "Use your answers to fill in the lines below."
   ]
  },
  {
   "cell_type": "code",
   "execution_count": 22,
   "id": "9e888327",
   "metadata": {
    "execution": {
     "iopub.execute_input": "2022-03-23T00:49:12.225309Z",
     "iopub.status.busy": "2022-03-23T00:49:12.224650Z",
     "iopub.status.idle": "2022-03-23T00:49:12.231523Z",
     "shell.execute_reply": "2022-03-23T00:49:12.232013Z",
     "shell.execute_reply.started": "2022-03-23T00:39:33.568705Z"
    },
    "papermill": {
     "duration": 0.064646,
     "end_time": "2022-03-23T00:49:12.232206",
     "exception": false,
     "start_time": "2022-03-23T00:49:12.167560",
     "status": "completed"
    },
    "tags": []
   },
   "outputs": [
    {
     "data": {
      "application/javascript": [
       "parent.postMessage({\"jupyterEvent\": \"custom.exercise_interaction\", \"data\": {\"outcomeType\": 1, \"valueTowardsCompletion\": 0.5, \"interactionType\": 1, \"questionType\": 1, \"questionId\": \"3.2_CardinalityB\", \"learnToolsVersion\": \"0.3.4\", \"failureMessage\": \"\", \"exceptionClass\": \"\", \"trace\": \"\"}}, \"*\")"
      ],
      "text/plain": [
       "<IPython.core.display.Javascript object>"
      ]
     },
     "metadata": {},
     "output_type": "display_data"
    },
    {
     "data": {
      "text/markdown": [
       "<span style=\"color:#33cc33\">Correct</span>"
      ],
      "text/plain": [
       "Correct"
      ]
     },
     "metadata": {},
     "output_type": "display_data"
    }
   ],
   "source": [
    "# Fill in the line below: How many entries are added to the dataset by \n",
    "# replacing the column with a one-hot encoding?\n",
    "OH_entries_added = 1e4*100 - 1e4\n",
    "\n",
    "# Fill in the line below: How many entries are added to the dataset by\n",
    "# replacing the column with an ordinal encoding?\n",
    "label_entries_added = 0\n",
    "\n",
    "# Check your answers\n",
    "step_3.b.check()"
   ]
  },
  {
   "cell_type": "code",
   "execution_count": 23,
   "id": "cd752368",
   "metadata": {
    "execution": {
     "iopub.execute_input": "2022-03-23T00:49:12.347629Z",
     "iopub.status.busy": "2022-03-23T00:49:12.346923Z",
     "iopub.status.idle": "2022-03-23T00:49:12.353604Z",
     "shell.execute_reply": "2022-03-23T00:49:12.354194Z",
     "shell.execute_reply.started": "2022-03-23T00:38:33.862998Z"
    },
    "papermill": {
     "duration": 0.065768,
     "end_time": "2022-03-23T00:49:12.354360",
     "exception": false,
     "start_time": "2022-03-23T00:49:12.288592",
     "status": "completed"
    },
    "tags": []
   },
   "outputs": [
    {
     "data": {
      "application/javascript": [
       "parent.postMessage({\"jupyterEvent\": \"custom.exercise_interaction\", \"data\": {\"interactionType\": 3, \"questionType\": 1, \"questionId\": \"3.2_CardinalityB\", \"learnToolsVersion\": \"0.3.4\", \"valueTowardsCompletion\": 0.0, \"failureMessage\": \"\", \"exceptionClass\": \"\", \"trace\": \"\", \"outcomeType\": 4}}, \"*\")"
      ],
      "text/plain": [
       "<IPython.core.display.Javascript object>"
      ]
     },
     "metadata": {},
     "output_type": "display_data"
    },
    {
     "data": {
      "text/markdown": [
       "<span style=\"color:#33cc99\">Solution:</span> \n",
       "```python\n",
       "# How many entries are added to the dataset by\n",
       "# replacing the column with a one-hot encoding?\n",
       "OH_entries_added = 1e4*100 - 1e4\n",
       "\n",
       "# How many entries are added to the dataset by\n",
       "# replacing the column with an ordinal encoding?\n",
       "label_entries_added = 0\n",
       "\n",
       "```"
      ],
      "text/plain": [
       "Solution: \n",
       "```python\n",
       "# How many entries are added to the dataset by\n",
       "# replacing the column with a one-hot encoding?\n",
       "OH_entries_added = 1e4*100 - 1e4\n",
       "\n",
       "# How many entries are added to the dataset by\n",
       "# replacing the column with an ordinal encoding?\n",
       "label_entries_added = 0\n",
       "\n",
       "```"
      ]
     },
     "metadata": {},
     "output_type": "display_data"
    }
   ],
   "source": [
    "# Lines below will give you a hint or solution code\n",
    "#step_3.b.hint()\n",
    "step_3.b.solution()"
   ]
  },
  {
   "cell_type": "markdown",
   "id": "0fbd8d0a",
   "metadata": {
    "papermill": {
     "duration": 0.056186,
     "end_time": "2022-03-23T00:49:12.466990",
     "exception": false,
     "start_time": "2022-03-23T00:49:12.410804",
     "status": "completed"
    },
    "tags": []
   },
   "source": [
    "Next, you'll experiment with one-hot encoding.  But, instead of encoding all of the categorical variables in the dataset, you'll only create a one-hot encoding for columns with cardinality less than 10.\n",
    "\n",
    "Run the code cell below without changes to set `low_cardinality_cols` to a Python list containing the columns that will be one-hot encoded.  Likewise, `high_cardinality_cols` contains a list of categorical columns that will be dropped from the dataset."
   ]
  },
  {
   "cell_type": "code",
   "execution_count": 24,
   "id": "c48153f7",
   "metadata": {
    "execution": {
     "iopub.execute_input": "2022-03-23T00:49:12.582924Z",
     "iopub.status.busy": "2022-03-23T00:49:12.582321Z",
     "iopub.status.idle": "2022-03-23T00:49:12.594043Z",
     "shell.execute_reply": "2022-03-23T00:49:12.593538Z",
     "shell.execute_reply.started": "2022-03-23T00:39:59.611224Z"
    },
    "papermill": {
     "duration": 0.070985,
     "end_time": "2022-03-23T00:49:12.594231",
     "exception": false,
     "start_time": "2022-03-23T00:49:12.523246",
     "status": "completed"
    },
    "tags": []
   },
   "outputs": [
    {
     "name": "stdout",
     "output_type": "stream",
     "text": [
      "Categorical columns that will be one-hot encoded: ['MSZoning', 'Street', 'LotShape', 'LandContour', 'Utilities', 'LotConfig', 'LandSlope', 'Condition1', 'Condition2', 'BldgType', 'HouseStyle', 'RoofStyle', 'RoofMatl', 'ExterQual', 'ExterCond', 'Foundation', 'Heating', 'HeatingQC', 'CentralAir', 'KitchenQual', 'Functional', 'PavedDrive', 'SaleType', 'SaleCondition']\n",
      "\n",
      "Categorical columns that will be dropped from the dataset: ['Neighborhood', 'Exterior1st', 'Exterior2nd']\n"
     ]
    }
   ],
   "source": [
    "# Columns that will be one-hot encoded\n",
    "low_cardinality_cols = [col for col in object_cols if X_train[col].nunique() < 10]\n",
    "\n",
    "# Columns that will be dropped from the dataset\n",
    "high_cardinality_cols = list(set(object_cols)-set(low_cardinality_cols))\n",
    "\n",
    "print('Categorical columns that will be one-hot encoded:', low_cardinality_cols)\n",
    "print('\\nCategorical columns that will be dropped from the dataset:', high_cardinality_cols)"
   ]
  },
  {
   "cell_type": "markdown",
   "id": "8634ff8e",
   "metadata": {
    "papermill": {
     "duration": 0.056528,
     "end_time": "2022-03-23T00:49:12.707458",
     "exception": false,
     "start_time": "2022-03-23T00:49:12.650930",
     "status": "completed"
    },
    "tags": []
   },
   "source": [
    "# Step 4: One-hot encoding\n",
    "\n",
    "Use the next code cell to one-hot encode the data in `X_train` and `X_valid`.  Set the preprocessed DataFrames to `OH_X_train` and `OH_X_valid`, respectively.  \n",
    "- The full list of categorical columns in the dataset can be found in the Python list `object_cols`.\n",
    "- You should only one-hot encode the categorical columns in `low_cardinality_cols`.  All other categorical columns should be dropped from the dataset. "
   ]
  },
  {
   "cell_type": "code",
   "execution_count": 25,
   "id": "7a92a071",
   "metadata": {
    "execution": {
     "iopub.execute_input": "2022-03-23T00:49:12.831077Z",
     "iopub.status.busy": "2022-03-23T00:49:12.830377Z",
     "iopub.status.idle": "2022-03-23T00:49:12.867240Z",
     "shell.execute_reply": "2022-03-23T00:49:12.867776Z",
     "shell.execute_reply.started": "2022-03-23T00:47:50.487974Z"
    },
    "papermill": {
     "duration": 0.103626,
     "end_time": "2022-03-23T00:49:12.867954",
     "exception": false,
     "start_time": "2022-03-23T00:49:12.764328",
     "status": "completed"
    },
    "tags": []
   },
   "outputs": [
    {
     "data": {
      "application/javascript": [
       "parent.postMessage({\"jupyterEvent\": \"custom.exercise_interaction\", \"data\": {\"outcomeType\": 1, \"valueTowardsCompletion\": 0.5, \"interactionType\": 1, \"questionType\": 2, \"questionId\": \"4_OneHot\", \"learnToolsVersion\": \"0.3.4\", \"failureMessage\": \"\", \"exceptionClass\": \"\", \"trace\": \"\"}}, \"*\")"
      ],
      "text/plain": [
       "<IPython.core.display.Javascript object>"
      ]
     },
     "metadata": {},
     "output_type": "display_data"
    },
    {
     "data": {
      "text/markdown": [
       "<span style=\"color:#33cc33\">Correct</span>"
      ],
      "text/plain": [
       "Correct"
      ]
     },
     "metadata": {},
     "output_type": "display_data"
    }
   ],
   "source": [
    "from sklearn.preprocessing import OneHotEncoder\n",
    "\n",
    "# Use as many lines of code as you need!\n",
    "\n",
    "OH_encoder = OneHotEncoder(handle_unknown='ignore', sparse=False)\n",
    "OH_cols_train = pd.DataFrame(OH_encoder.fit_transform(X_train[low_cardinality_cols]))\n",
    "OH_cols_valid = pd.DataFrame(OH_encoder.transform(X_valid[low_cardinality_cols]))\n",
    "\n",
    "# One-hot encoding removed index; put it back\n",
    "OH_cols_train.index = X_train.index\n",
    "OH_cols_valid.index = X_valid.index\n",
    "\n",
    "# Remove categorical columns (will replace with one-hot encoding)\n",
    "num_X_train = X_train.drop(object_cols, axis=1)\n",
    "num_X_valid = X_valid.drop(object_cols, axis=1)\n",
    "\n",
    "# Add one-hot encoded columns to numerical features\n",
    "OH_X_train = pd.concat([num_X_train, OH_cols_train], axis=1)\n",
    "OH_X_valid = pd.concat([num_X_valid, OH_cols_valid], axis=1)\n",
    "\n",
    "#OH_X_train = ____ # Your code here\n",
    "#OH_X_valid = ____ # Your code here\n",
    "\n",
    "# Check your answer\n",
    "step_4.check()"
   ]
  },
  {
   "cell_type": "code",
   "execution_count": 26,
   "id": "915f9a07",
   "metadata": {
    "execution": {
     "iopub.execute_input": "2022-03-23T00:49:12.992336Z",
     "iopub.status.busy": "2022-03-23T00:49:12.991598Z",
     "iopub.status.idle": "2022-03-23T00:49:13.020254Z",
     "shell.execute_reply": "2022-03-23T00:49:13.020829Z",
     "shell.execute_reply.started": "2022-03-23T00:47:55.844918Z"
    },
    "papermill": {
     "duration": 0.094351,
     "end_time": "2022-03-23T00:49:13.021012",
     "exception": false,
     "start_time": "2022-03-23T00:49:12.926661",
     "status": "completed"
    },
    "tags": []
   },
   "outputs": [
    {
     "data": {
      "text/html": [
       "<div>\n",
       "<style scoped>\n",
       "    .dataframe tbody tr th:only-of-type {\n",
       "        vertical-align: middle;\n",
       "    }\n",
       "\n",
       "    .dataframe tbody tr th {\n",
       "        vertical-align: top;\n",
       "    }\n",
       "\n",
       "    .dataframe thead th {\n",
       "        text-align: right;\n",
       "    }\n",
       "</style>\n",
       "<table border=\"1\" class=\"dataframe\">\n",
       "  <thead>\n",
       "    <tr style=\"text-align: right;\">\n",
       "      <th></th>\n",
       "      <th>MSSubClass</th>\n",
       "      <th>LotArea</th>\n",
       "      <th>OverallQual</th>\n",
       "      <th>OverallCond</th>\n",
       "      <th>YearBuilt</th>\n",
       "      <th>YearRemodAdd</th>\n",
       "      <th>BsmtFinSF1</th>\n",
       "      <th>BsmtFinSF2</th>\n",
       "      <th>BsmtUnfSF</th>\n",
       "      <th>TotalBsmtSF</th>\n",
       "      <th>...</th>\n",
       "      <th>112</th>\n",
       "      <th>113</th>\n",
       "      <th>114</th>\n",
       "      <th>115</th>\n",
       "      <th>116</th>\n",
       "      <th>117</th>\n",
       "      <th>118</th>\n",
       "      <th>119</th>\n",
       "      <th>120</th>\n",
       "      <th>121</th>\n",
       "    </tr>\n",
       "    <tr>\n",
       "      <th>Id</th>\n",
       "      <th></th>\n",
       "      <th></th>\n",
       "      <th></th>\n",
       "      <th></th>\n",
       "      <th></th>\n",
       "      <th></th>\n",
       "      <th></th>\n",
       "      <th></th>\n",
       "      <th></th>\n",
       "      <th></th>\n",
       "      <th></th>\n",
       "      <th></th>\n",
       "      <th></th>\n",
       "      <th></th>\n",
       "      <th></th>\n",
       "      <th></th>\n",
       "      <th></th>\n",
       "      <th></th>\n",
       "      <th></th>\n",
       "      <th></th>\n",
       "      <th></th>\n",
       "    </tr>\n",
       "  </thead>\n",
       "  <tbody>\n",
       "    <tr>\n",
       "      <th>619</th>\n",
       "      <td>20</td>\n",
       "      <td>11694</td>\n",
       "      <td>9</td>\n",
       "      <td>5</td>\n",
       "      <td>2007</td>\n",
       "      <td>2007</td>\n",
       "      <td>48</td>\n",
       "      <td>0</td>\n",
       "      <td>1774</td>\n",
       "      <td>1822</td>\n",
       "      <td>...</td>\n",
       "      <td>0.0</td>\n",
       "      <td>1.0</td>\n",
       "      <td>0.0</td>\n",
       "      <td>0.0</td>\n",
       "      <td>0.0</td>\n",
       "      <td>0.0</td>\n",
       "      <td>0.0</td>\n",
       "      <td>0.0</td>\n",
       "      <td>0.0</td>\n",
       "      <td>1.0</td>\n",
       "    </tr>\n",
       "    <tr>\n",
       "      <th>871</th>\n",
       "      <td>20</td>\n",
       "      <td>6600</td>\n",
       "      <td>5</td>\n",
       "      <td>5</td>\n",
       "      <td>1962</td>\n",
       "      <td>1962</td>\n",
       "      <td>0</td>\n",
       "      <td>0</td>\n",
       "      <td>894</td>\n",
       "      <td>894</td>\n",
       "      <td>...</td>\n",
       "      <td>0.0</td>\n",
       "      <td>0.0</td>\n",
       "      <td>0.0</td>\n",
       "      <td>1.0</td>\n",
       "      <td>0.0</td>\n",
       "      <td>0.0</td>\n",
       "      <td>0.0</td>\n",
       "      <td>0.0</td>\n",
       "      <td>1.0</td>\n",
       "      <td>0.0</td>\n",
       "    </tr>\n",
       "    <tr>\n",
       "      <th>93</th>\n",
       "      <td>30</td>\n",
       "      <td>13360</td>\n",
       "      <td>5</td>\n",
       "      <td>7</td>\n",
       "      <td>1921</td>\n",
       "      <td>2006</td>\n",
       "      <td>713</td>\n",
       "      <td>0</td>\n",
       "      <td>163</td>\n",
       "      <td>876</td>\n",
       "      <td>...</td>\n",
       "      <td>0.0</td>\n",
       "      <td>0.0</td>\n",
       "      <td>0.0</td>\n",
       "      <td>1.0</td>\n",
       "      <td>0.0</td>\n",
       "      <td>0.0</td>\n",
       "      <td>0.0</td>\n",
       "      <td>0.0</td>\n",
       "      <td>1.0</td>\n",
       "      <td>0.0</td>\n",
       "    </tr>\n",
       "    <tr>\n",
       "      <th>818</th>\n",
       "      <td>20</td>\n",
       "      <td>13265</td>\n",
       "      <td>8</td>\n",
       "      <td>5</td>\n",
       "      <td>2002</td>\n",
       "      <td>2002</td>\n",
       "      <td>1218</td>\n",
       "      <td>0</td>\n",
       "      <td>350</td>\n",
       "      <td>1568</td>\n",
       "      <td>...</td>\n",
       "      <td>0.0</td>\n",
       "      <td>0.0</td>\n",
       "      <td>0.0</td>\n",
       "      <td>1.0</td>\n",
       "      <td>0.0</td>\n",
       "      <td>0.0</td>\n",
       "      <td>0.0</td>\n",
       "      <td>0.0</td>\n",
       "      <td>1.0</td>\n",
       "      <td>0.0</td>\n",
       "    </tr>\n",
       "    <tr>\n",
       "      <th>303</th>\n",
       "      <td>20</td>\n",
       "      <td>13704</td>\n",
       "      <td>7</td>\n",
       "      <td>5</td>\n",
       "      <td>2001</td>\n",
       "      <td>2002</td>\n",
       "      <td>0</td>\n",
       "      <td>0</td>\n",
       "      <td>1541</td>\n",
       "      <td>1541</td>\n",
       "      <td>...</td>\n",
       "      <td>0.0</td>\n",
       "      <td>0.0</td>\n",
       "      <td>0.0</td>\n",
       "      <td>1.0</td>\n",
       "      <td>0.0</td>\n",
       "      <td>0.0</td>\n",
       "      <td>0.0</td>\n",
       "      <td>0.0</td>\n",
       "      <td>1.0</td>\n",
       "      <td>0.0</td>\n",
       "    </tr>\n",
       "    <tr>\n",
       "      <th>...</th>\n",
       "      <td>...</td>\n",
       "      <td>...</td>\n",
       "      <td>...</td>\n",
       "      <td>...</td>\n",
       "      <td>...</td>\n",
       "      <td>...</td>\n",
       "      <td>...</td>\n",
       "      <td>...</td>\n",
       "      <td>...</td>\n",
       "      <td>...</td>\n",
       "      <td>...</td>\n",
       "      <td>...</td>\n",
       "      <td>...</td>\n",
       "      <td>...</td>\n",
       "      <td>...</td>\n",
       "      <td>...</td>\n",
       "      <td>...</td>\n",
       "      <td>...</td>\n",
       "      <td>...</td>\n",
       "      <td>...</td>\n",
       "      <td>...</td>\n",
       "    </tr>\n",
       "    <tr>\n",
       "      <th>764</th>\n",
       "      <td>60</td>\n",
       "      <td>9430</td>\n",
       "      <td>8</td>\n",
       "      <td>5</td>\n",
       "      <td>1999</td>\n",
       "      <td>1999</td>\n",
       "      <td>1163</td>\n",
       "      <td>0</td>\n",
       "      <td>89</td>\n",
       "      <td>1252</td>\n",
       "      <td>...</td>\n",
       "      <td>0.0</td>\n",
       "      <td>0.0</td>\n",
       "      <td>0.0</td>\n",
       "      <td>1.0</td>\n",
       "      <td>0.0</td>\n",
       "      <td>0.0</td>\n",
       "      <td>0.0</td>\n",
       "      <td>0.0</td>\n",
       "      <td>1.0</td>\n",
       "      <td>0.0</td>\n",
       "    </tr>\n",
       "    <tr>\n",
       "      <th>836</th>\n",
       "      <td>20</td>\n",
       "      <td>9600</td>\n",
       "      <td>4</td>\n",
       "      <td>7</td>\n",
       "      <td>1950</td>\n",
       "      <td>1995</td>\n",
       "      <td>442</td>\n",
       "      <td>0</td>\n",
       "      <td>625</td>\n",
       "      <td>1067</td>\n",
       "      <td>...</td>\n",
       "      <td>0.0</td>\n",
       "      <td>0.0</td>\n",
       "      <td>0.0</td>\n",
       "      <td>1.0</td>\n",
       "      <td>0.0</td>\n",
       "      <td>0.0</td>\n",
       "      <td>0.0</td>\n",
       "      <td>0.0</td>\n",
       "      <td>1.0</td>\n",
       "      <td>0.0</td>\n",
       "    </tr>\n",
       "    <tr>\n",
       "      <th>1217</th>\n",
       "      <td>90</td>\n",
       "      <td>8930</td>\n",
       "      <td>6</td>\n",
       "      <td>5</td>\n",
       "      <td>1978</td>\n",
       "      <td>1978</td>\n",
       "      <td>0</td>\n",
       "      <td>0</td>\n",
       "      <td>0</td>\n",
       "      <td>0</td>\n",
       "      <td>...</td>\n",
       "      <td>0.0</td>\n",
       "      <td>0.0</td>\n",
       "      <td>0.0</td>\n",
       "      <td>1.0</td>\n",
       "      <td>0.0</td>\n",
       "      <td>0.0</td>\n",
       "      <td>0.0</td>\n",
       "      <td>0.0</td>\n",
       "      <td>1.0</td>\n",
       "      <td>0.0</td>\n",
       "    </tr>\n",
       "    <tr>\n",
       "      <th>560</th>\n",
       "      <td>120</td>\n",
       "      <td>3196</td>\n",
       "      <td>7</td>\n",
       "      <td>5</td>\n",
       "      <td>2003</td>\n",
       "      <td>2004</td>\n",
       "      <td>0</td>\n",
       "      <td>0</td>\n",
       "      <td>1374</td>\n",
       "      <td>1374</td>\n",
       "      <td>...</td>\n",
       "      <td>0.0</td>\n",
       "      <td>0.0</td>\n",
       "      <td>0.0</td>\n",
       "      <td>1.0</td>\n",
       "      <td>0.0</td>\n",
       "      <td>0.0</td>\n",
       "      <td>0.0</td>\n",
       "      <td>0.0</td>\n",
       "      <td>1.0</td>\n",
       "      <td>0.0</td>\n",
       "    </tr>\n",
       "    <tr>\n",
       "      <th>685</th>\n",
       "      <td>60</td>\n",
       "      <td>16770</td>\n",
       "      <td>7</td>\n",
       "      <td>5</td>\n",
       "      <td>1998</td>\n",
       "      <td>1998</td>\n",
       "      <td>0</td>\n",
       "      <td>0</td>\n",
       "      <td>1195</td>\n",
       "      <td>1195</td>\n",
       "      <td>...</td>\n",
       "      <td>0.0</td>\n",
       "      <td>0.0</td>\n",
       "      <td>0.0</td>\n",
       "      <td>1.0</td>\n",
       "      <td>0.0</td>\n",
       "      <td>0.0</td>\n",
       "      <td>0.0</td>\n",
       "      <td>0.0</td>\n",
       "      <td>1.0</td>\n",
       "      <td>0.0</td>\n",
       "    </tr>\n",
       "  </tbody>\n",
       "</table>\n",
       "<p>1168 rows × 155 columns</p>\n",
       "</div>"
      ],
      "text/plain": [
       "      MSSubClass  LotArea  OverallQual  OverallCond  YearBuilt  YearRemodAdd  \\\n",
       "Id                                                                             \n",
       "619           20    11694            9            5       2007          2007   \n",
       "871           20     6600            5            5       1962          1962   \n",
       "93            30    13360            5            7       1921          2006   \n",
       "818           20    13265            8            5       2002          2002   \n",
       "303           20    13704            7            5       2001          2002   \n",
       "...          ...      ...          ...          ...        ...           ...   \n",
       "764           60     9430            8            5       1999          1999   \n",
       "836           20     9600            4            7       1950          1995   \n",
       "1217          90     8930            6            5       1978          1978   \n",
       "560          120     3196            7            5       2003          2004   \n",
       "685           60    16770            7            5       1998          1998   \n",
       "\n",
       "      BsmtFinSF1  BsmtFinSF2  BsmtUnfSF  TotalBsmtSF  ...  112  113  114  115  \\\n",
       "Id                                                    ...                       \n",
       "619           48           0       1774         1822  ...  0.0  1.0  0.0  0.0   \n",
       "871            0           0        894          894  ...  0.0  0.0  0.0  1.0   \n",
       "93           713           0        163          876  ...  0.0  0.0  0.0  1.0   \n",
       "818         1218           0        350         1568  ...  0.0  0.0  0.0  1.0   \n",
       "303            0           0       1541         1541  ...  0.0  0.0  0.0  1.0   \n",
       "...          ...         ...        ...          ...  ...  ...  ...  ...  ...   \n",
       "764         1163           0         89         1252  ...  0.0  0.0  0.0  1.0   \n",
       "836          442           0        625         1067  ...  0.0  0.0  0.0  1.0   \n",
       "1217           0           0          0            0  ...  0.0  0.0  0.0  1.0   \n",
       "560            0           0       1374         1374  ...  0.0  0.0  0.0  1.0   \n",
       "685            0           0       1195         1195  ...  0.0  0.0  0.0  1.0   \n",
       "\n",
       "      116  117  118  119  120  121  \n",
       "Id                                  \n",
       "619   0.0  0.0  0.0  0.0  0.0  1.0  \n",
       "871   0.0  0.0  0.0  0.0  1.0  0.0  \n",
       "93    0.0  0.0  0.0  0.0  1.0  0.0  \n",
       "818   0.0  0.0  0.0  0.0  1.0  0.0  \n",
       "303   0.0  0.0  0.0  0.0  1.0  0.0  \n",
       "...   ...  ...  ...  ...  ...  ...  \n",
       "764   0.0  0.0  0.0  0.0  1.0  0.0  \n",
       "836   0.0  0.0  0.0  0.0  1.0  0.0  \n",
       "1217  0.0  0.0  0.0  0.0  1.0  0.0  \n",
       "560   0.0  0.0  0.0  0.0  1.0  0.0  \n",
       "685   0.0  0.0  0.0  0.0  1.0  0.0  \n",
       "\n",
       "[1168 rows x 155 columns]"
      ]
     },
     "execution_count": 26,
     "metadata": {},
     "output_type": "execute_result"
    }
   ],
   "source": [
    "OH_X_train"
   ]
  },
  {
   "cell_type": "code",
   "execution_count": 27,
   "id": "059d11f2",
   "metadata": {
    "execution": {
     "iopub.execute_input": "2022-03-23T00:49:13.146327Z",
     "iopub.status.busy": "2022-03-23T00:49:13.143446Z",
     "iopub.status.idle": "2022-03-23T00:49:13.151558Z",
     "shell.execute_reply": "2022-03-23T00:49:13.152172Z",
     "shell.execute_reply.started": "2022-03-23T00:48:09.620888Z"
    },
    "papermill": {
     "duration": 0.071732,
     "end_time": "2022-03-23T00:49:13.152343",
     "exception": false,
     "start_time": "2022-03-23T00:49:13.080611",
     "status": "completed"
    },
    "tags": []
   },
   "outputs": [
    {
     "data": {
      "application/javascript": [
       "parent.postMessage({\"jupyterEvent\": \"custom.exercise_interaction\", \"data\": {\"interactionType\": 3, \"questionType\": 2, \"questionId\": \"4_OneHot\", \"learnToolsVersion\": \"0.3.4\", \"valueTowardsCompletion\": 0.0, \"failureMessage\": \"\", \"exceptionClass\": \"\", \"trace\": \"\", \"outcomeType\": 4}}, \"*\")"
      ],
      "text/plain": [
       "<IPython.core.display.Javascript object>"
      ]
     },
     "metadata": {},
     "output_type": "display_data"
    },
    {
     "data": {
      "text/markdown": [
       "<span style=\"color:#33cc99\">Solution:</span> \n",
       "```python\n",
       "# Apply one-hot encoder to each column with categorical data\n",
       "OH_encoder = OneHotEncoder(handle_unknown='ignore', sparse=False)\n",
       "OH_cols_train = pd.DataFrame(OH_encoder.fit_transform(X_train[low_cardinality_cols]))\n",
       "OH_cols_valid = pd.DataFrame(OH_encoder.transform(X_valid[low_cardinality_cols]))\n",
       "\n",
       "# One-hot encoding removed index; put it back\n",
       "OH_cols_train.index = X_train.index\n",
       "OH_cols_valid.index = X_valid.index\n",
       "\n",
       "# Remove categorical columns (will replace with one-hot encoding)\n",
       "num_X_train = X_train.drop(object_cols, axis=1)\n",
       "num_X_valid = X_valid.drop(object_cols, axis=1)\n",
       "\n",
       "# Add one-hot encoded columns to numerical features\n",
       "OH_X_train = pd.concat([num_X_train, OH_cols_train], axis=1)\n",
       "OH_X_valid = pd.concat([num_X_valid, OH_cols_valid], axis=1)\n",
       "\n",
       "\n",
       "```"
      ],
      "text/plain": [
       "Solution: \n",
       "```python\n",
       "# Apply one-hot encoder to each column with categorical data\n",
       "OH_encoder = OneHotEncoder(handle_unknown='ignore', sparse=False)\n",
       "OH_cols_train = pd.DataFrame(OH_encoder.fit_transform(X_train[low_cardinality_cols]))\n",
       "OH_cols_valid = pd.DataFrame(OH_encoder.transform(X_valid[low_cardinality_cols]))\n",
       "\n",
       "# One-hot encoding removed index; put it back\n",
       "OH_cols_train.index = X_train.index\n",
       "OH_cols_valid.index = X_valid.index\n",
       "\n",
       "# Remove categorical columns (will replace with one-hot encoding)\n",
       "num_X_train = X_train.drop(object_cols, axis=1)\n",
       "num_X_valid = X_valid.drop(object_cols, axis=1)\n",
       "\n",
       "# Add one-hot encoded columns to numerical features\n",
       "OH_X_train = pd.concat([num_X_train, OH_cols_train], axis=1)\n",
       "OH_X_valid = pd.concat([num_X_valid, OH_cols_valid], axis=1)\n",
       "\n",
       "\n",
       "```"
      ]
     },
     "metadata": {},
     "output_type": "display_data"
    }
   ],
   "source": [
    "# Lines below will give you a hint or solution code\n",
    "#step_4.hint()\n",
    "step_4.solution()"
   ]
  },
  {
   "cell_type": "markdown",
   "id": "487c7b5f",
   "metadata": {
    "papermill": {
     "duration": 0.060729,
     "end_time": "2022-03-23T00:49:13.273683",
     "exception": false,
     "start_time": "2022-03-23T00:49:13.212954",
     "status": "completed"
    },
    "tags": []
   },
   "source": [
    "Run the next code cell to get the MAE for this approach."
   ]
  },
  {
   "cell_type": "code",
   "execution_count": 28,
   "id": "4ba59bca",
   "metadata": {
    "execution": {
     "iopub.execute_input": "2022-03-23T00:49:13.398829Z",
     "iopub.status.busy": "2022-03-23T00:49:13.397713Z",
     "iopub.status.idle": "2022-03-23T00:49:15.141207Z",
     "shell.execute_reply": "2022-03-23T00:49:15.141977Z",
     "shell.execute_reply.started": "2022-03-23T00:48:19.730541Z"
    },
    "papermill": {
     "duration": 1.808011,
     "end_time": "2022-03-23T00:49:15.142274",
     "exception": false,
     "start_time": "2022-03-23T00:49:13.334263",
     "status": "completed"
    },
    "tags": []
   },
   "outputs": [
    {
     "name": "stdout",
     "output_type": "stream",
     "text": [
      "MAE from Approach 3 (One-Hot Encoding):\n"
     ]
    },
    {
     "name": "stderr",
     "output_type": "stream",
     "text": [
      "/opt/conda/lib/python3.7/site-packages/sklearn/utils/validation.py:1679: FutureWarning: Feature names only support names that are all strings. Got feature names with dtypes: ['int', 'str']. An error will be raised in 1.2.\n",
      "  FutureWarning,\n"
     ]
    },
    {
     "name": "stdout",
     "output_type": "stream",
     "text": [
      "17525.345719178084\n"
     ]
    },
    {
     "name": "stderr",
     "output_type": "stream",
     "text": [
      "/opt/conda/lib/python3.7/site-packages/sklearn/utils/validation.py:1679: FutureWarning: Feature names only support names that are all strings. Got feature names with dtypes: ['int', 'str']. An error will be raised in 1.2.\n",
      "  FutureWarning,\n"
     ]
    }
   ],
   "source": [
    "print(\"MAE from Approach 3 (One-Hot Encoding):\") \n",
    "print(score_dataset(OH_X_train, OH_X_valid, y_train, y_valid))"
   ]
  },
  {
   "cell_type": "markdown",
   "id": "86a4b7fd",
   "metadata": {
    "papermill": {
     "duration": 0.061939,
     "end_time": "2022-03-23T00:49:15.268471",
     "exception": false,
     "start_time": "2022-03-23T00:49:15.206532",
     "status": "completed"
    },
    "tags": []
   },
   "source": [
    "# Generate test predictions and submit your results\n",
    "\n",
    "After you complete Step 4, if you'd like to use what you've learned to submit your results to the leaderboard, you'll need to preprocess the test data before generating predictions.\n",
    "\n",
    "**This step is completely optional, and you do not need to submit results to the leaderboard to successfully complete the exercise.**\n",
    "\n",
    "Check out the previous exercise if you need help with remembering how to [join the competition](https://www.kaggle.com/c/home-data-for-ml-course) or save your results to CSV.  Once you have generated a file with your results, follow the instructions below:\n",
    "1. Begin by clicking on the **Save Version** button in the top right corner of the window.  This will generate a pop-up window.  \n",
    "2. Ensure that the **Save and Run All** option is selected, and then click on the **Save** button.\n",
    "3. This generates a window in the bottom left corner of the notebook.  After it has finished running, click on the number to the right of the **Save Version** button.  This pulls up a list of versions on the right of the screen.  Click on the ellipsis **(...)** to the right of the most recent version, and select **Open in Viewer**.  This brings you into view mode of the same page. You will need to scroll down to get back to these instructions.\n",
    "4. Click on the **Output** tab on the right of the screen.  Then, click on the file you would like to submit, and click on the **Submit** button to submit your results to the leaderboard.\n",
    "\n",
    "You have now successfully submitted to the competition!\n",
    "\n",
    "If you want to keep working to improve your performance, select the **Edit** button in the top right of the screen. Then you can change your code and repeat the process. There's a lot of room to improve, and you will climb up the leaderboard as you work.\n"
   ]
  },
  {
   "cell_type": "code",
   "execution_count": 29,
   "id": "38959d5c",
   "metadata": {
    "execution": {
     "iopub.execute_input": "2022-03-23T00:49:15.397277Z",
     "iopub.status.busy": "2022-03-23T00:49:15.396583Z",
     "iopub.status.idle": "2022-03-23T00:49:15.398850Z",
     "shell.execute_reply": "2022-03-23T00:49:15.399333Z",
     "shell.execute_reply.started": "2022-03-23T00:21:34.956360Z"
    },
    "papermill": {
     "duration": 0.068369,
     "end_time": "2022-03-23T00:49:15.399504",
     "exception": false,
     "start_time": "2022-03-23T00:49:15.331135",
     "status": "completed"
    },
    "tags": []
   },
   "outputs": [],
   "source": [
    "# (Optional) Your code here"
   ]
  },
  {
   "cell_type": "markdown",
   "id": "bd6a835f",
   "metadata": {
    "papermill": {
     "duration": 0.060943,
     "end_time": "2022-03-23T00:49:15.521928",
     "exception": false,
     "start_time": "2022-03-23T00:49:15.460985",
     "status": "completed"
    },
    "tags": []
   },
   "source": [
    "# Keep going\n",
    "\n",
    "With missing value handling and categorical encoding, your modeling process is getting complex. This complexity gets worse when you want to save your model to use in the future. The key to managing this complexity is something called **pipelines**. \n",
    "\n",
    "**[Learn to use pipelines](https://www.kaggle.com/alexisbcook/pipelines)** to preprocess datasets with categorical variables, missing values and any other messiness your data throws at you."
   ]
  },
  {
   "cell_type": "markdown",
   "id": "a53a50f2",
   "metadata": {
    "papermill": {
     "duration": 0.0609,
     "end_time": "2022-03-23T00:49:15.644068",
     "exception": false,
     "start_time": "2022-03-23T00:49:15.583168",
     "status": "completed"
    },
    "tags": []
   },
   "source": [
    "---\n",
    "\n",
    "\n",
    "\n",
    "\n",
    "*Have questions or comments? Visit the [course discussion forum](https://www.kaggle.com/learn/intermediate-machine-learning/discussion) to chat with other learners.*"
   ]
  }
 ],
 "metadata": {
  "kernelspec": {
   "display_name": "Python 3",
   "language": "python",
   "name": "python3"
  },
  "language_info": {
   "codemirror_mode": {
    "name": "ipython",
    "version": 3
   },
   "file_extension": ".py",
   "mimetype": "text/x-python",
   "name": "python",
   "nbconvert_exporter": "python",
   "pygments_lexer": "ipython3",
   "version": "3.7.12"
  },
  "papermill": {
   "default_parameters": {},
   "duration": 22.250668,
   "end_time": "2022-03-23T00:49:16.415627",
   "environment_variables": {},
   "exception": null,
   "input_path": "__notebook__.ipynb",
   "output_path": "__notebook__.ipynb",
   "parameters": {},
   "start_time": "2022-03-23T00:48:54.164959",
   "version": "2.3.3"
  }
 },
 "nbformat": 4,
 "nbformat_minor": 5
}
