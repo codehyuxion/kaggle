{
 "cells": [
  {
   "cell_type": "markdown",
   "id": "e0bfec2a",
   "metadata": {
    "papermill": {
     "duration": 0.044132,
     "end_time": "2022-03-02T23:17:01.412861",
     "exception": false,
     "start_time": "2022-03-02T23:17:01.368729",
     "status": "completed"
    },
    "tags": []
   },
   "source": [
    "**This notebook is an exercise in the [Intermediate Machine Learning](https://www.kaggle.com/learn/intermediate-machine-learning) course.  You can reference the tutorial at [this link](https://www.kaggle.com/alexisbcook/missing-values).**\n",
    "\n",
    "---\n"
   ]
  },
  {
   "cell_type": "markdown",
   "id": "1d4f6f1c",
   "metadata": {
    "papermill": {
     "duration": 0.042706,
     "end_time": "2022-03-02T23:17:01.501042",
     "exception": false,
     "start_time": "2022-03-02T23:17:01.458336",
     "status": "completed"
    },
    "tags": []
   },
   "source": [
    "Now it's your turn to test your new knowledge of **missing values** handling. You'll probably find it makes a big difference.\n",
    "\n",
    "# Setup\n",
    "\n",
    "The questions will give you feedback on your work. Run the following cell to set up the feedback system."
   ]
  },
  {
   "cell_type": "code",
   "execution_count": 1,
   "id": "23407458",
   "metadata": {
    "execution": {
     "iopub.execute_input": "2022-03-02T23:17:01.602448Z",
     "iopub.status.busy": "2022-03-02T23:17:01.601714Z",
     "iopub.status.idle": "2022-03-02T23:17:01.646956Z",
     "shell.execute_reply": "2022-03-02T23:17:01.646152Z",
     "shell.execute_reply.started": "2022-03-02T21:55:53.176442Z"
    },
    "papermill": {
     "duration": 0.103214,
     "end_time": "2022-03-02T23:17:01.647160",
     "exception": false,
     "start_time": "2022-03-02T23:17:01.543946",
     "status": "completed"
    },
    "tags": []
   },
   "outputs": [
    {
     "name": "stdout",
     "output_type": "stream",
     "text": [
      "Setup Complete\n"
     ]
    }
   ],
   "source": [
    "# Set up code checking\n",
    "import os\n",
    "if not os.path.exists(\"../input/train.csv\"):\n",
    "    os.symlink(\"../input/home-data-for-ml-course/train.csv\", \"../input/train.csv\")  \n",
    "    os.symlink(\"../input/home-data-for-ml-course/test.csv\", \"../input/test.csv\") \n",
    "from learntools.core import binder\n",
    "binder.bind(globals())\n",
    "from learntools.ml_intermediate.ex2 import *\n",
    "print(\"Setup Complete\")"
   ]
  },
  {
   "cell_type": "markdown",
   "id": "6a962df4",
   "metadata": {
    "papermill": {
     "duration": 0.044575,
     "end_time": "2022-03-02T23:17:01.736467",
     "exception": false,
     "start_time": "2022-03-02T23:17:01.691892",
     "status": "completed"
    },
    "tags": []
   },
   "source": [
    "In this exercise, you will work with data from the [Housing Prices Competition for Kaggle Learn Users](https://www.kaggle.com/c/home-data-for-ml-course). \n",
    "\n",
    "![Ames Housing dataset image](https://i.imgur.com/lTJVG4e.png)\n",
    "\n",
    "Run the next code cell without changes to load the training and validation sets in `X_train`, `X_valid`, `y_train`, and `y_valid`.  The test set is loaded in `X_test`."
   ]
  },
  {
   "cell_type": "code",
   "execution_count": 2,
   "id": "653a19a7",
   "metadata": {
    "execution": {
     "iopub.execute_input": "2022-03-02T23:17:01.836790Z",
     "iopub.status.busy": "2022-03-02T23:17:01.836009Z",
     "iopub.status.idle": "2022-03-02T23:17:02.988113Z",
     "shell.execute_reply": "2022-03-02T23:17:02.987380Z",
     "shell.execute_reply.started": "2022-03-02T21:55:53.189679Z"
    },
    "papermill": {
     "duration": 1.20579,
     "end_time": "2022-03-02T23:17:02.988269",
     "exception": false,
     "start_time": "2022-03-02T23:17:01.782479",
     "status": "completed"
    },
    "tags": []
   },
   "outputs": [],
   "source": [
    "import pandas as pd\n",
    "from sklearn.model_selection import train_test_split\n",
    "\n",
    "# Read the data\n",
    "X_full = pd.read_csv('../input/train.csv', index_col='Id')\n",
    "X_test_full = pd.read_csv('../input/test.csv', index_col='Id')\n",
    "\n",
    "# Remove rows with missing target, separate target from predictors\n",
    "X_full.dropna(axis=0, subset=['SalePrice'], inplace=True)\n",
    "y = X_full.SalePrice\n",
    "X_full.drop(['SalePrice'], axis=1, inplace=True)\n",
    "\n",
    "# To keep things simple, we'll use only numerical predictors\n",
    "X = X_full.select_dtypes(exclude=['object'])\n",
    "X_test = X_test_full.select_dtypes(exclude=['object'])\n",
    "\n",
    "# Break off validation set from training data\n",
    "X_train, X_valid, y_train, y_valid = train_test_split(X, y, train_size=0.8, test_size=0.2,\n",
    "                                                      random_state=0)"
   ]
  },
  {
   "cell_type": "markdown",
   "id": "ea81940e",
   "metadata": {
    "papermill": {
     "duration": 0.043951,
     "end_time": "2022-03-02T23:17:03.078438",
     "exception": false,
     "start_time": "2022-03-02T23:17:03.034487",
     "status": "completed"
    },
    "tags": []
   },
   "source": [
    "Use the next code cell to print the first five rows of the data."
   ]
  },
  {
   "cell_type": "code",
   "execution_count": 3,
   "id": "9a5da2e1",
   "metadata": {
    "execution": {
     "iopub.execute_input": "2022-03-02T23:17:03.178414Z",
     "iopub.status.busy": "2022-03-02T23:17:03.177299Z",
     "iopub.status.idle": "2022-03-02T23:17:03.201352Z",
     "shell.execute_reply": "2022-03-02T23:17:03.201944Z",
     "shell.execute_reply.started": "2022-03-02T21:55:53.263720Z"
    },
    "papermill": {
     "duration": 0.078821,
     "end_time": "2022-03-02T23:17:03.202143",
     "exception": false,
     "start_time": "2022-03-02T23:17:03.123322",
     "status": "completed"
    },
    "tags": []
   },
   "outputs": [
    {
     "data": {
      "text/html": [
       "<div>\n",
       "<style scoped>\n",
       "    .dataframe tbody tr th:only-of-type {\n",
       "        vertical-align: middle;\n",
       "    }\n",
       "\n",
       "    .dataframe tbody tr th {\n",
       "        vertical-align: top;\n",
       "    }\n",
       "\n",
       "    .dataframe thead th {\n",
       "        text-align: right;\n",
       "    }\n",
       "</style>\n",
       "<table border=\"1\" class=\"dataframe\">\n",
       "  <thead>\n",
       "    <tr style=\"text-align: right;\">\n",
       "      <th></th>\n",
       "      <th>MSSubClass</th>\n",
       "      <th>LotFrontage</th>\n",
       "      <th>LotArea</th>\n",
       "      <th>OverallQual</th>\n",
       "      <th>OverallCond</th>\n",
       "      <th>YearBuilt</th>\n",
       "      <th>YearRemodAdd</th>\n",
       "      <th>MasVnrArea</th>\n",
       "      <th>BsmtFinSF1</th>\n",
       "      <th>BsmtFinSF2</th>\n",
       "      <th>...</th>\n",
       "      <th>GarageArea</th>\n",
       "      <th>WoodDeckSF</th>\n",
       "      <th>OpenPorchSF</th>\n",
       "      <th>EnclosedPorch</th>\n",
       "      <th>3SsnPorch</th>\n",
       "      <th>ScreenPorch</th>\n",
       "      <th>PoolArea</th>\n",
       "      <th>MiscVal</th>\n",
       "      <th>MoSold</th>\n",
       "      <th>YrSold</th>\n",
       "    </tr>\n",
       "    <tr>\n",
       "      <th>Id</th>\n",
       "      <th></th>\n",
       "      <th></th>\n",
       "      <th></th>\n",
       "      <th></th>\n",
       "      <th></th>\n",
       "      <th></th>\n",
       "      <th></th>\n",
       "      <th></th>\n",
       "      <th></th>\n",
       "      <th></th>\n",
       "      <th></th>\n",
       "      <th></th>\n",
       "      <th></th>\n",
       "      <th></th>\n",
       "      <th></th>\n",
       "      <th></th>\n",
       "      <th></th>\n",
       "      <th></th>\n",
       "      <th></th>\n",
       "      <th></th>\n",
       "      <th></th>\n",
       "    </tr>\n",
       "  </thead>\n",
       "  <tbody>\n",
       "    <tr>\n",
       "      <th>619</th>\n",
       "      <td>20</td>\n",
       "      <td>90.0</td>\n",
       "      <td>11694</td>\n",
       "      <td>9</td>\n",
       "      <td>5</td>\n",
       "      <td>2007</td>\n",
       "      <td>2007</td>\n",
       "      <td>452.0</td>\n",
       "      <td>48</td>\n",
       "      <td>0</td>\n",
       "      <td>...</td>\n",
       "      <td>774</td>\n",
       "      <td>0</td>\n",
       "      <td>108</td>\n",
       "      <td>0</td>\n",
       "      <td>0</td>\n",
       "      <td>260</td>\n",
       "      <td>0</td>\n",
       "      <td>0</td>\n",
       "      <td>7</td>\n",
       "      <td>2007</td>\n",
       "    </tr>\n",
       "    <tr>\n",
       "      <th>871</th>\n",
       "      <td>20</td>\n",
       "      <td>60.0</td>\n",
       "      <td>6600</td>\n",
       "      <td>5</td>\n",
       "      <td>5</td>\n",
       "      <td>1962</td>\n",
       "      <td>1962</td>\n",
       "      <td>0.0</td>\n",
       "      <td>0</td>\n",
       "      <td>0</td>\n",
       "      <td>...</td>\n",
       "      <td>308</td>\n",
       "      <td>0</td>\n",
       "      <td>0</td>\n",
       "      <td>0</td>\n",
       "      <td>0</td>\n",
       "      <td>0</td>\n",
       "      <td>0</td>\n",
       "      <td>0</td>\n",
       "      <td>8</td>\n",
       "      <td>2009</td>\n",
       "    </tr>\n",
       "    <tr>\n",
       "      <th>93</th>\n",
       "      <td>30</td>\n",
       "      <td>80.0</td>\n",
       "      <td>13360</td>\n",
       "      <td>5</td>\n",
       "      <td>7</td>\n",
       "      <td>1921</td>\n",
       "      <td>2006</td>\n",
       "      <td>0.0</td>\n",
       "      <td>713</td>\n",
       "      <td>0</td>\n",
       "      <td>...</td>\n",
       "      <td>432</td>\n",
       "      <td>0</td>\n",
       "      <td>0</td>\n",
       "      <td>44</td>\n",
       "      <td>0</td>\n",
       "      <td>0</td>\n",
       "      <td>0</td>\n",
       "      <td>0</td>\n",
       "      <td>8</td>\n",
       "      <td>2009</td>\n",
       "    </tr>\n",
       "    <tr>\n",
       "      <th>818</th>\n",
       "      <td>20</td>\n",
       "      <td>NaN</td>\n",
       "      <td>13265</td>\n",
       "      <td>8</td>\n",
       "      <td>5</td>\n",
       "      <td>2002</td>\n",
       "      <td>2002</td>\n",
       "      <td>148.0</td>\n",
       "      <td>1218</td>\n",
       "      <td>0</td>\n",
       "      <td>...</td>\n",
       "      <td>857</td>\n",
       "      <td>150</td>\n",
       "      <td>59</td>\n",
       "      <td>0</td>\n",
       "      <td>0</td>\n",
       "      <td>0</td>\n",
       "      <td>0</td>\n",
       "      <td>0</td>\n",
       "      <td>7</td>\n",
       "      <td>2008</td>\n",
       "    </tr>\n",
       "    <tr>\n",
       "      <th>303</th>\n",
       "      <td>20</td>\n",
       "      <td>118.0</td>\n",
       "      <td>13704</td>\n",
       "      <td>7</td>\n",
       "      <td>5</td>\n",
       "      <td>2001</td>\n",
       "      <td>2002</td>\n",
       "      <td>150.0</td>\n",
       "      <td>0</td>\n",
       "      <td>0</td>\n",
       "      <td>...</td>\n",
       "      <td>843</td>\n",
       "      <td>468</td>\n",
       "      <td>81</td>\n",
       "      <td>0</td>\n",
       "      <td>0</td>\n",
       "      <td>0</td>\n",
       "      <td>0</td>\n",
       "      <td>0</td>\n",
       "      <td>1</td>\n",
       "      <td>2006</td>\n",
       "    </tr>\n",
       "  </tbody>\n",
       "</table>\n",
       "<p>5 rows × 36 columns</p>\n",
       "</div>"
      ],
      "text/plain": [
       "     MSSubClass  LotFrontage  LotArea  OverallQual  OverallCond  YearBuilt  \\\n",
       "Id                                                                           \n",
       "619          20         90.0    11694            9            5       2007   \n",
       "871          20         60.0     6600            5            5       1962   \n",
       "93           30         80.0    13360            5            7       1921   \n",
       "818          20          NaN    13265            8            5       2002   \n",
       "303          20        118.0    13704            7            5       2001   \n",
       "\n",
       "     YearRemodAdd  MasVnrArea  BsmtFinSF1  BsmtFinSF2  ...  GarageArea  \\\n",
       "Id                                                     ...               \n",
       "619          2007       452.0          48           0  ...         774   \n",
       "871          1962         0.0           0           0  ...         308   \n",
       "93           2006         0.0         713           0  ...         432   \n",
       "818          2002       148.0        1218           0  ...         857   \n",
       "303          2002       150.0           0           0  ...         843   \n",
       "\n",
       "     WoodDeckSF  OpenPorchSF  EnclosedPorch  3SsnPorch  ScreenPorch  PoolArea  \\\n",
       "Id                                                                              \n",
       "619           0          108              0          0          260         0   \n",
       "871           0            0              0          0            0         0   \n",
       "93            0            0             44          0            0         0   \n",
       "818         150           59              0          0            0         0   \n",
       "303         468           81              0          0            0         0   \n",
       "\n",
       "     MiscVal  MoSold  YrSold  \n",
       "Id                            \n",
       "619        0       7    2007  \n",
       "871        0       8    2009  \n",
       "93         0       8    2009  \n",
       "818        0       7    2008  \n",
       "303        0       1    2006  \n",
       "\n",
       "[5 rows x 36 columns]"
      ]
     },
     "execution_count": 3,
     "metadata": {},
     "output_type": "execute_result"
    }
   ],
   "source": [
    "X_train.head()"
   ]
  },
  {
   "cell_type": "code",
   "execution_count": 4,
   "id": "0a21b3c2",
   "metadata": {
    "execution": {
     "iopub.execute_input": "2022-03-02T23:17:03.301507Z",
     "iopub.status.busy": "2022-03-02T23:17:03.300511Z",
     "iopub.status.idle": "2022-03-02T23:17:03.304462Z",
     "shell.execute_reply": "2022-03-02T23:17:03.305069Z",
     "shell.execute_reply.started": "2022-03-02T22:14:30.151623Z"
    },
    "papermill": {
     "duration": 0.0579,
     "end_time": "2022-03-02T23:17:03.305264",
     "exception": false,
     "start_time": "2022-03-02T23:17:03.247364",
     "status": "completed"
    },
    "tags": []
   },
   "outputs": [
    {
     "data": {
      "text/plain": [
       "Id\n",
       "619     2007.0\n",
       "871     1962.0\n",
       "93      1921.0\n",
       "818     2002.0\n",
       "303     2001.0\n",
       "         ...  \n",
       "764     1999.0\n",
       "836     1996.0\n",
       "1217    1978.0\n",
       "560     2003.0\n",
       "685     1998.0\n",
       "Name: GarageYrBlt, Length: 1168, dtype: float64"
      ]
     },
     "execution_count": 4,
     "metadata": {},
     "output_type": "execute_result"
    }
   ],
   "source": [
    "X_train.GarageYrBlt"
   ]
  },
  {
   "cell_type": "code",
   "execution_count": 5,
   "id": "18f2a28e",
   "metadata": {
    "execution": {
     "iopub.execute_input": "2022-03-02T23:17:03.402648Z",
     "iopub.status.busy": "2022-03-02T23:17:03.401960Z",
     "iopub.status.idle": "2022-03-02T23:17:03.405902Z",
     "shell.execute_reply": "2022-03-02T23:17:03.405290Z",
     "shell.execute_reply.started": "2022-03-02T21:55:53.286574Z"
    },
    "papermill": {
     "duration": 0.055433,
     "end_time": "2022-03-02T23:17:03.406054",
     "exception": false,
     "start_time": "2022-03-02T23:17:03.350621",
     "status": "completed"
    },
    "tags": []
   },
   "outputs": [
    {
     "data": {
      "text/plain": [
       "Id\n",
       "619    314813\n",
       "871    109500\n",
       "93     163500\n",
       "818    271000\n",
       "303    205000\n",
       "Name: SalePrice, dtype: int64"
      ]
     },
     "execution_count": 5,
     "metadata": {},
     "output_type": "execute_result"
    }
   ],
   "source": [
    "y_train.head()"
   ]
  },
  {
   "cell_type": "markdown",
   "id": "ed4c9558",
   "metadata": {
    "papermill": {
     "duration": 0.04506,
     "end_time": "2022-03-02T23:17:03.496506",
     "exception": false,
     "start_time": "2022-03-02T23:17:03.451446",
     "status": "completed"
    },
    "tags": []
   },
   "source": [
    "You can already see a few missing values in the first several rows.  In the next step, you'll obtain a more comprehensive understanding of the missing values in the dataset.\n",
    "\n",
    "# Step 1: Preliminary investigation\n",
    "\n",
    "Run the code cell below without changes."
   ]
  },
  {
   "cell_type": "code",
   "execution_count": 6,
   "id": "300c2084",
   "metadata": {
    "execution": {
     "iopub.execute_input": "2022-03-02T23:17:03.590991Z",
     "iopub.status.busy": "2022-03-02T23:17:03.590267Z",
     "iopub.status.idle": "2022-03-02T23:17:03.599969Z",
     "shell.execute_reply": "2022-03-02T23:17:03.598858Z",
     "shell.execute_reply.started": "2022-03-02T21:55:53.294822Z"
    },
    "papermill": {
     "duration": 0.058655,
     "end_time": "2022-03-02T23:17:03.600295",
     "exception": false,
     "start_time": "2022-03-02T23:17:03.541640",
     "status": "completed"
    },
    "tags": []
   },
   "outputs": [
    {
     "name": "stdout",
     "output_type": "stream",
     "text": [
      "(1168, 36)\n",
      "LotFrontage    212\n",
      "MasVnrArea       6\n",
      "GarageYrBlt     58\n",
      "dtype: int64\n"
     ]
    }
   ],
   "source": [
    "# Shape of training data (num_rows, num_columns)\n",
    "print(X_train.shape)\n",
    "\n",
    "# Number of missing values in each column of training data\n",
    "missing_val_count_by_column = (X_train.isnull().sum())\n",
    "print(missing_val_count_by_column[missing_val_count_by_column > 0])"
   ]
  },
  {
   "cell_type": "code",
   "execution_count": 7,
   "id": "ca6c2a24",
   "metadata": {
    "execution": {
     "iopub.execute_input": "2022-03-02T23:17:03.697380Z",
     "iopub.status.busy": "2022-03-02T23:17:03.696621Z",
     "iopub.status.idle": "2022-03-02T23:17:03.701879Z",
     "shell.execute_reply": "2022-03-02T23:17:03.702519Z",
     "shell.execute_reply.started": "2022-03-02T21:55:53.308464Z"
    },
    "papermill": {
     "duration": 0.056048,
     "end_time": "2022-03-02T23:17:03.702705",
     "exception": false,
     "start_time": "2022-03-02T23:17:03.646657",
     "status": "completed"
    },
    "tags": []
   },
   "outputs": [
    {
     "data": {
      "text/plain": [
       "1168"
      ]
     },
     "execution_count": 7,
     "metadata": {},
     "output_type": "execute_result"
    }
   ],
   "source": [
    "len(X_train.index)"
   ]
  },
  {
   "cell_type": "markdown",
   "id": "136f7677",
   "metadata": {
    "papermill": {
     "duration": 0.046438,
     "end_time": "2022-03-02T23:17:03.795471",
     "exception": false,
     "start_time": "2022-03-02T23:17:03.749033",
     "status": "completed"
    },
    "tags": []
   },
   "source": [
    "### Part A\n",
    "\n",
    "Use the above output to answer the questions below."
   ]
  },
  {
   "cell_type": "code",
   "execution_count": 8,
   "id": "5d4de6ff",
   "metadata": {
    "execution": {
     "iopub.execute_input": "2022-03-02T23:17:03.892237Z",
     "iopub.status.busy": "2022-03-02T23:17:03.891487Z",
     "iopub.status.idle": "2022-03-02T23:17:03.900637Z",
     "shell.execute_reply": "2022-03-02T23:17:03.901354Z",
     "shell.execute_reply.started": "2022-03-02T21:55:53.316706Z"
    },
    "papermill": {
     "duration": 0.059309,
     "end_time": "2022-03-02T23:17:03.901550",
     "exception": false,
     "start_time": "2022-03-02T23:17:03.842241",
     "status": "completed"
    },
    "tags": []
   },
   "outputs": [
    {
     "data": {
      "application/javascript": [
       "parent.postMessage({\"jupyterEvent\": \"custom.exercise_interaction\", \"data\": {\"outcomeType\": 1, \"valueTowardsCompletion\": 1.0, \"interactionType\": 1, \"questionType\": 1, \"questionId\": \"1.1_InvestigateEquality\", \"learnToolsVersion\": \"0.3.4\", \"failureMessage\": \"\", \"exceptionClass\": \"\", \"trace\": \"\"}}, \"*\")"
      ],
      "text/plain": [
       "<IPython.core.display.Javascript object>"
      ]
     },
     "metadata": {},
     "output_type": "display_data"
    },
    {
     "data": {
      "text/markdown": [
       "<span style=\"color:#33cc33\">Correct</span>"
      ],
      "text/plain": [
       "Correct"
      ]
     },
     "metadata": {},
     "output_type": "display_data"
    }
   ],
   "source": [
    "# Fill in the line below: How many rows are in the training data?\n",
    "num_rows = len(X_train.index)\n",
    "\n",
    "# Fill in the line below: How many columns in the training data\n",
    "# have missing values?\n",
    "num_cols_with_missing = 3\n",
    "\n",
    "# Fill in the line below: How many missing entries are contained in \n",
    "# all of the training data?\n",
    "tot_missing = 212+6+58\n",
    "\n",
    "# Check your answers\n",
    "step_1.a.check()"
   ]
  },
  {
   "cell_type": "code",
   "execution_count": 9,
   "id": "f70fd190",
   "metadata": {
    "execution": {
     "iopub.execute_input": "2022-03-02T23:17:04.000942Z",
     "iopub.status.busy": "2022-03-02T23:17:04.000217Z",
     "iopub.status.idle": "2022-03-02T23:17:04.006720Z",
     "shell.execute_reply": "2022-03-02T23:17:04.007353Z",
     "shell.execute_reply.started": "2022-03-02T21:55:53.329092Z"
    },
    "papermill": {
     "duration": 0.057669,
     "end_time": "2022-03-02T23:17:04.007533",
     "exception": false,
     "start_time": "2022-03-02T23:17:03.949864",
     "status": "completed"
    },
    "tags": []
   },
   "outputs": [
    {
     "data": {
      "application/javascript": [
       "parent.postMessage({\"jupyterEvent\": \"custom.exercise_interaction\", \"data\": {\"interactionType\": 3, \"questionType\": 1, \"questionId\": \"1.1_InvestigateEquality\", \"learnToolsVersion\": \"0.3.4\", \"valueTowardsCompletion\": 0.0, \"failureMessage\": \"\", \"exceptionClass\": \"\", \"trace\": \"\", \"outcomeType\": 4}}, \"*\")"
      ],
      "text/plain": [
       "<IPython.core.display.Javascript object>"
      ]
     },
     "metadata": {},
     "output_type": "display_data"
    },
    {
     "data": {
      "text/markdown": [
       "<span style=\"color:#33cc99\">Solution:</span> \n",
       "```python\n",
       "# How many rows are in the training data?\n",
       "num_rows = 1168\n",
       "\n",
       "# How many columns in the training data have missing values?\n",
       "num_cols_with_missing = 3\n",
       "\n",
       "# How many missing entries are contained in all of the training data?\n",
       "tot_missing = 212 + 6 + 58\n",
       "\n",
       "```"
      ],
      "text/plain": [
       "Solution: \n",
       "```python\n",
       "# How many rows are in the training data?\n",
       "num_rows = 1168\n",
       "\n",
       "# How many columns in the training data have missing values?\n",
       "num_cols_with_missing = 3\n",
       "\n",
       "# How many missing entries are contained in all of the training data?\n",
       "tot_missing = 212 + 6 + 58\n",
       "\n",
       "```"
      ]
     },
     "metadata": {},
     "output_type": "display_data"
    }
   ],
   "source": [
    "# Lines below will give you a hint or solution code\n",
    "#step_1.a.hint()\n",
    "step_1.a.solution()"
   ]
  },
  {
   "cell_type": "markdown",
   "id": "ac5c4ca6",
   "metadata": {
    "papermill": {
     "duration": 0.049491,
     "end_time": "2022-03-02T23:17:04.107335",
     "exception": false,
     "start_time": "2022-03-02T23:17:04.057844",
     "status": "completed"
    },
    "tags": []
   },
   "source": [
    "### Part B\n",
    "Considering your answers above, what do you think is likely the best approach to dealing with the missing values?"
   ]
  },
  {
   "cell_type": "code",
   "execution_count": 10,
   "id": "2133238f",
   "metadata": {
    "execution": {
     "iopub.execute_input": "2022-03-02T23:17:04.212871Z",
     "iopub.status.busy": "2022-03-02T23:17:04.212131Z",
     "iopub.status.idle": "2022-03-02T23:17:04.217288Z",
     "shell.execute_reply": "2022-03-02T23:17:04.218023Z",
     "shell.execute_reply.started": "2022-03-02T21:55:53.341387Z"
    },
    "papermill": {
     "duration": 0.06081,
     "end_time": "2022-03-02T23:17:04.218209",
     "exception": false,
     "start_time": "2022-03-02T23:17:04.157399",
     "status": "completed"
    },
    "tags": []
   },
   "outputs": [
    {
     "data": {
      "application/javascript": [
       "parent.postMessage({\"jupyterEvent\": \"custom.exercise_interaction\", \"data\": {\"outcomeType\": 1, \"valueTowardsCompletion\": 1.0, \"interactionType\": 1, \"questionType\": 4, \"questionId\": \"1.2_InvestigateThought\", \"learnToolsVersion\": \"0.3.4\", \"failureMessage\": \"\", \"exceptionClass\": \"\", \"trace\": \"\"}}, \"*\")"
      ],
      "text/plain": [
       "<IPython.core.display.Javascript object>"
      ]
     },
     "metadata": {},
     "output_type": "display_data"
    },
    {
     "data": {
      "text/markdown": [
       "<span style=\"color:#33cc33\">Correct:</span> \n",
       "\n",
       "Since there are relatively few missing entries in the data (the column with the greatest percentage of missing values is missing less than 20% of its entries), we can expect that dropping columns is unlikely to yield good results.  This is because we'd be throwing away a lot of valuable data, and so imputation will likely perform better."
      ],
      "text/plain": [
       "Correct: \n",
       "\n",
       "Since there are relatively few missing entries in the data (the column with the greatest percentage of missing values is missing less than 20% of its entries), we can expect that dropping columns is unlikely to yield good results.  This is because we'd be throwing away a lot of valuable data, and so imputation will likely perform better."
      ]
     },
     "metadata": {},
     "output_type": "display_data"
    }
   ],
   "source": [
    "# Check your answer (Run this code cell to receive credit!)\n",
    "step_1.b.check()"
   ]
  },
  {
   "cell_type": "code",
   "execution_count": 11,
   "id": "86a44e83",
   "metadata": {
    "execution": {
     "iopub.execute_input": "2022-03-02T23:17:04.323741Z",
     "iopub.status.busy": "2022-03-02T23:17:04.322346Z",
     "iopub.status.idle": "2022-03-02T23:17:04.326121Z",
     "shell.execute_reply": "2022-03-02T23:17:04.326661Z",
     "shell.execute_reply.started": "2022-03-02T21:55:53.353902Z"
    },
    "papermill": {
     "duration": 0.058547,
     "end_time": "2022-03-02T23:17:04.326919",
     "exception": false,
     "start_time": "2022-03-02T23:17:04.268372",
     "status": "completed"
    },
    "tags": []
   },
   "outputs": [],
   "source": [
    "#step_1.b.hint()"
   ]
  },
  {
   "cell_type": "markdown",
   "id": "3a575166",
   "metadata": {
    "papermill": {
     "duration": 0.050648,
     "end_time": "2022-03-02T23:17:04.428319",
     "exception": false,
     "start_time": "2022-03-02T23:17:04.377671",
     "status": "completed"
    },
    "tags": []
   },
   "source": [
    "To compare different approaches to dealing with missing values, you'll use the same `score_dataset()` function from the tutorial.  This function reports the [mean absolute error](https://en.wikipedia.org/wiki/Mean_absolute_error) (MAE) from a random forest model."
   ]
  },
  {
   "cell_type": "code",
   "execution_count": 12,
   "id": "73ddb232",
   "metadata": {
    "execution": {
     "iopub.execute_input": "2022-03-02T23:17:04.535708Z",
     "iopub.status.busy": "2022-03-02T23:17:04.532165Z",
     "iopub.status.idle": "2022-03-02T23:17:04.739375Z",
     "shell.execute_reply": "2022-03-02T23:17:04.738744Z",
     "shell.execute_reply.started": "2022-03-02T21:55:53.363499Z"
    },
    "papermill": {
     "duration": 0.260788,
     "end_time": "2022-03-02T23:17:04.739539",
     "exception": false,
     "start_time": "2022-03-02T23:17:04.478751",
     "status": "completed"
    },
    "tags": []
   },
   "outputs": [],
   "source": [
    "from sklearn.ensemble import RandomForestRegressor\n",
    "from sklearn.metrics import mean_absolute_error\n",
    "\n",
    "# Function for comparing different approaches\n",
    "def score_dataset(X_train, X_valid, y_train, y_valid):\n",
    "    model = RandomForestRegressor(n_estimators=100, random_state=0)\n",
    "    model.fit(X_train, y_train)\n",
    "    preds = model.predict(X_valid)\n",
    "    return mean_absolute_error(y_valid, preds)"
   ]
  },
  {
   "cell_type": "markdown",
   "id": "e3cecd70",
   "metadata": {
    "papermill": {
     "duration": 0.050753,
     "end_time": "2022-03-02T23:17:04.841765",
     "exception": false,
     "start_time": "2022-03-02T23:17:04.791012",
     "status": "completed"
    },
    "tags": []
   },
   "source": [
    "# Step 2: Drop columns with missing values\n",
    "\n",
    "In this step, you'll preprocess the data in `X_train` and `X_valid` to remove columns with missing values.  Set the preprocessed DataFrames to `reduced_X_train` and `reduced_X_valid`, respectively.  "
   ]
  },
  {
   "cell_type": "code",
   "execution_count": 13,
   "id": "0239e19d",
   "metadata": {
    "execution": {
     "iopub.execute_input": "2022-03-02T23:17:04.980206Z",
     "iopub.status.busy": "2022-03-02T23:17:04.979063Z",
     "iopub.status.idle": "2022-03-02T23:17:04.984750Z",
     "shell.execute_reply": "2022-03-02T23:17:04.985291Z",
     "shell.execute_reply.started": "2022-03-02T21:55:53.377980Z"
    },
    "papermill": {
     "duration": 0.092627,
     "end_time": "2022-03-02T23:17:04.985493",
     "exception": false,
     "start_time": "2022-03-02T23:17:04.892866",
     "status": "completed"
    },
    "tags": []
   },
   "outputs": [
    {
     "data": {
      "application/javascript": [
       "parent.postMessage({\"jupyterEvent\": \"custom.exercise_interaction\", \"data\": {\"outcomeType\": 1, \"valueTowardsCompletion\": 1.0, \"interactionType\": 1, \"questionType\": 2, \"questionId\": \"2_DropMissing\", \"learnToolsVersion\": \"0.3.4\", \"failureMessage\": \"\", \"exceptionClass\": \"\", \"trace\": \"\"}}, \"*\")"
      ],
      "text/plain": [
       "<IPython.core.display.Javascript object>"
      ]
     },
     "metadata": {},
     "output_type": "display_data"
    },
    {
     "data": {
      "text/markdown": [
       "<span style=\"color:#33cc33\">Correct</span>"
      ],
      "text/plain": [
       "Correct"
      ]
     },
     "metadata": {},
     "output_type": "display_data"
    }
   ],
   "source": [
    "# Fill in the line below: get names of columns with missing values\n",
    "____ # Your code here\n",
    "\n",
    "cols_with_missing=[col for col in X_train.columns if X_train[col].isnull().any()]\n",
    "\n",
    "# Fill in the lines below: drop columns in training and validation data\n",
    "reduced_X_train = X_train.drop(cols_with_missing, axis=1)\n",
    "reduced_X_valid = X_valid.drop(cols_with_missing, axis=1)\n",
    "\n",
    "# Check your answers\n",
    "step_2.check()"
   ]
  },
  {
   "cell_type": "code",
   "execution_count": 14,
   "id": "2924af30",
   "metadata": {
    "execution": {
     "iopub.execute_input": "2022-03-02T23:17:05.096176Z",
     "iopub.status.busy": "2022-03-02T23:17:05.095401Z",
     "iopub.status.idle": "2022-03-02T23:17:05.101505Z",
     "shell.execute_reply": "2022-03-02T23:17:05.102084Z",
     "shell.execute_reply.started": "2022-03-02T21:55:53.410317Z"
    },
    "papermill": {
     "duration": 0.065201,
     "end_time": "2022-03-02T23:17:05.102354",
     "exception": false,
     "start_time": "2022-03-02T23:17:05.037153",
     "status": "completed"
    },
    "tags": []
   },
   "outputs": [
    {
     "data": {
      "application/javascript": [
       "parent.postMessage({\"jupyterEvent\": \"custom.exercise_interaction\", \"data\": {\"interactionType\": 3, \"questionType\": 2, \"questionId\": \"2_DropMissing\", \"learnToolsVersion\": \"0.3.4\", \"valueTowardsCompletion\": 0.0, \"failureMessage\": \"\", \"exceptionClass\": \"\", \"trace\": \"\", \"outcomeType\": 4}}, \"*\")"
      ],
      "text/plain": [
       "<IPython.core.display.Javascript object>"
      ]
     },
     "metadata": {},
     "output_type": "display_data"
    },
    {
     "data": {
      "text/markdown": [
       "<span style=\"color:#33cc99\">Solution:</span> \n",
       "```python\n",
       "# Get names of columns with missing values\n",
       "cols_with_missing = [col for col in X_train.columns\n",
       "                     if X_train[col].isnull().any()]\n",
       "\n",
       "# Drop columns in training and validation data\n",
       "reduced_X_train = X_train.drop(cols_with_missing, axis=1)\n",
       "reduced_X_valid = X_valid.drop(cols_with_missing, axis=1)\n",
       "\n",
       "```"
      ],
      "text/plain": [
       "Solution: \n",
       "```python\n",
       "# Get names of columns with missing values\n",
       "cols_with_missing = [col for col in X_train.columns\n",
       "                     if X_train[col].isnull().any()]\n",
       "\n",
       "# Drop columns in training and validation data\n",
       "reduced_X_train = X_train.drop(cols_with_missing, axis=1)\n",
       "reduced_X_valid = X_valid.drop(cols_with_missing, axis=1)\n",
       "\n",
       "```"
      ]
     },
     "metadata": {},
     "output_type": "display_data"
    }
   ],
   "source": [
    "# Lines below will give you a hint or solution code\n",
    "#step_2.hint()\n",
    "step_2.solution()"
   ]
  },
  {
   "cell_type": "markdown",
   "id": "b25880e1",
   "metadata": {
    "papermill": {
     "duration": 0.053251,
     "end_time": "2022-03-02T23:17:05.210558",
     "exception": false,
     "start_time": "2022-03-02T23:17:05.157307",
     "status": "completed"
    },
    "tags": []
   },
   "source": [
    "Run the next code cell without changes to obtain the MAE for this approach."
   ]
  },
  {
   "cell_type": "code",
   "execution_count": 15,
   "id": "b0eff5b7",
   "metadata": {
    "execution": {
     "iopub.execute_input": "2022-03-02T23:17:05.372083Z",
     "iopub.status.busy": "2022-03-02T23:17:05.335526Z",
     "iopub.status.idle": "2022-03-02T23:17:06.389485Z",
     "shell.execute_reply": "2022-03-02T23:17:06.390117Z",
     "shell.execute_reply.started": "2022-03-02T21:55:53.420685Z"
    },
    "papermill": {
     "duration": 1.126352,
     "end_time": "2022-03-02T23:17:06.390332",
     "exception": false,
     "start_time": "2022-03-02T23:17:05.263980",
     "status": "completed"
    },
    "tags": []
   },
   "outputs": [
    {
     "name": "stdout",
     "output_type": "stream",
     "text": [
      "MAE (Drop columns with missing values):\n",
      "17837.82570776256\n"
     ]
    }
   ],
   "source": [
    "print(\"MAE (Drop columns with missing values):\")\n",
    "print(score_dataset(reduced_X_train, reduced_X_valid, y_train, y_valid))"
   ]
  },
  {
   "cell_type": "markdown",
   "id": "6b9d51c2",
   "metadata": {
    "papermill": {
     "duration": 0.054844,
     "end_time": "2022-03-02T23:17:06.502149",
     "exception": false,
     "start_time": "2022-03-02T23:17:06.447305",
     "status": "completed"
    },
    "tags": []
   },
   "source": [
    "# Step 3: Imputation\n",
    "\n",
    "### Part A\n",
    "\n",
    "Use the next code cell to impute missing values with the mean value along each column.  Set the preprocessed DataFrames to `imputed_X_train` and `imputed_X_valid`.  Make sure that the column names match those in `X_train` and `X_valid`."
   ]
  },
  {
   "cell_type": "code",
   "execution_count": 16,
   "id": "96a1f9a8",
   "metadata": {
    "execution": {
     "iopub.execute_input": "2022-03-02T23:17:06.623544Z",
     "iopub.status.busy": "2022-03-02T23:17:06.622789Z",
     "iopub.status.idle": "2022-03-02T23:17:06.663180Z",
     "shell.execute_reply": "2022-03-02T23:17:06.662212Z",
     "shell.execute_reply.started": "2022-03-02T22:00:44.563893Z"
    },
    "papermill": {
     "duration": 0.105039,
     "end_time": "2022-03-02T23:17:06.663338",
     "exception": false,
     "start_time": "2022-03-02T23:17:06.558299",
     "status": "completed"
    },
    "tags": []
   },
   "outputs": [
    {
     "data": {
      "application/javascript": [
       "parent.postMessage({\"jupyterEvent\": \"custom.exercise_interaction\", \"data\": {\"outcomeType\": 1, \"valueTowardsCompletion\": 1.0, \"interactionType\": 1, \"questionType\": 2, \"questionId\": \"3.1_ImputeCode\", \"learnToolsVersion\": \"0.3.4\", \"failureMessage\": \"\", \"exceptionClass\": \"\", \"trace\": \"\"}}, \"*\")"
      ],
      "text/plain": [
       "<IPython.core.display.Javascript object>"
      ]
     },
     "metadata": {},
     "output_type": "display_data"
    },
    {
     "data": {
      "text/markdown": [
       "<span style=\"color:#33cc33\">Correct</span>"
      ],
      "text/plain": [
       "Correct"
      ]
     },
     "metadata": {},
     "output_type": "display_data"
    }
   ],
   "source": [
    "from sklearn.impute import SimpleImputer\n",
    "\n",
    "# Fill in the lines below: imputation\n",
    "____ # Your code here\n",
    "my_imputer = SimpleImputer()\n",
    "imputed_X_train = pd.DataFrame(my_imputer.fit_transform(X_train))\n",
    "imputed_X_valid = pd.DataFrame(my_imputer.transform(X_valid))\n",
    "\n",
    "# Fill in the lines below: imputation removed column names; put them back\n",
    "imputed_X_train.columns = X_train.columns\n",
    "imputed_X_valid.columns = X_valid.columns\n",
    "\n",
    "# Check your answers\n",
    "step_3.a.check()"
   ]
  },
  {
   "cell_type": "code",
   "execution_count": 17,
   "id": "d97271db",
   "metadata": {
    "execution": {
     "iopub.execute_input": "2022-03-02T23:17:06.781495Z",
     "iopub.status.busy": "2022-03-02T23:17:06.780424Z",
     "iopub.status.idle": "2022-03-02T23:17:06.826743Z",
     "shell.execute_reply": "2022-03-02T23:17:06.827345Z",
     "shell.execute_reply.started": "2022-03-02T22:01:03.929036Z"
    },
    "papermill": {
     "duration": 0.106691,
     "end_time": "2022-03-02T23:17:06.827536",
     "exception": false,
     "start_time": "2022-03-02T23:17:06.720845",
     "status": "completed"
    },
    "tags": []
   },
   "outputs": [
    {
     "data": {
      "text/html": [
       "<div>\n",
       "<style scoped>\n",
       "    .dataframe tbody tr th:only-of-type {\n",
       "        vertical-align: middle;\n",
       "    }\n",
       "\n",
       "    .dataframe tbody tr th {\n",
       "        vertical-align: top;\n",
       "    }\n",
       "\n",
       "    .dataframe thead th {\n",
       "        text-align: right;\n",
       "    }\n",
       "</style>\n",
       "<table border=\"1\" class=\"dataframe\">\n",
       "  <thead>\n",
       "    <tr style=\"text-align: right;\">\n",
       "      <th></th>\n",
       "      <th>MSSubClass</th>\n",
       "      <th>LotFrontage</th>\n",
       "      <th>LotArea</th>\n",
       "      <th>OverallQual</th>\n",
       "      <th>OverallCond</th>\n",
       "      <th>YearBuilt</th>\n",
       "      <th>YearRemodAdd</th>\n",
       "      <th>MasVnrArea</th>\n",
       "      <th>BsmtFinSF1</th>\n",
       "      <th>BsmtFinSF2</th>\n",
       "      <th>...</th>\n",
       "      <th>GarageArea</th>\n",
       "      <th>WoodDeckSF</th>\n",
       "      <th>OpenPorchSF</th>\n",
       "      <th>EnclosedPorch</th>\n",
       "      <th>3SsnPorch</th>\n",
       "      <th>ScreenPorch</th>\n",
       "      <th>PoolArea</th>\n",
       "      <th>MiscVal</th>\n",
       "      <th>MoSold</th>\n",
       "      <th>YrSold</th>\n",
       "    </tr>\n",
       "  </thead>\n",
       "  <tbody>\n",
       "    <tr>\n",
       "      <th>0</th>\n",
       "      <td>20.0</td>\n",
       "      <td>69.614017</td>\n",
       "      <td>32668.0</td>\n",
       "      <td>6.0</td>\n",
       "      <td>3.0</td>\n",
       "      <td>1957.0</td>\n",
       "      <td>1975.0</td>\n",
       "      <td>103.481067</td>\n",
       "      <td>1219.0</td>\n",
       "      <td>0.0</td>\n",
       "      <td>...</td>\n",
       "      <td>484.0</td>\n",
       "      <td>0.0</td>\n",
       "      <td>0.0</td>\n",
       "      <td>200.0</td>\n",
       "      <td>0.0</td>\n",
       "      <td>0.0</td>\n",
       "      <td>0.0</td>\n",
       "      <td>0.0</td>\n",
       "      <td>3.0</td>\n",
       "      <td>2007.0</td>\n",
       "    </tr>\n",
       "    <tr>\n",
       "      <th>1</th>\n",
       "      <td>50.0</td>\n",
       "      <td>79.000000</td>\n",
       "      <td>9490.0</td>\n",
       "      <td>6.0</td>\n",
       "      <td>7.0</td>\n",
       "      <td>1941.0</td>\n",
       "      <td>1950.0</td>\n",
       "      <td>0.000000</td>\n",
       "      <td>403.0</td>\n",
       "      <td>165.0</td>\n",
       "      <td>...</td>\n",
       "      <td>240.0</td>\n",
       "      <td>0.0</td>\n",
       "      <td>0.0</td>\n",
       "      <td>32.0</td>\n",
       "      <td>0.0</td>\n",
       "      <td>0.0</td>\n",
       "      <td>0.0</td>\n",
       "      <td>0.0</td>\n",
       "      <td>8.0</td>\n",
       "      <td>2006.0</td>\n",
       "    </tr>\n",
       "    <tr>\n",
       "      <th>2</th>\n",
       "      <td>50.0</td>\n",
       "      <td>69.614017</td>\n",
       "      <td>7015.0</td>\n",
       "      <td>5.0</td>\n",
       "      <td>4.0</td>\n",
       "      <td>1950.0</td>\n",
       "      <td>1950.0</td>\n",
       "      <td>161.000000</td>\n",
       "      <td>185.0</td>\n",
       "      <td>0.0</td>\n",
       "      <td>...</td>\n",
       "      <td>352.0</td>\n",
       "      <td>0.0</td>\n",
       "      <td>0.0</td>\n",
       "      <td>248.0</td>\n",
       "      <td>0.0</td>\n",
       "      <td>0.0</td>\n",
       "      <td>0.0</td>\n",
       "      <td>0.0</td>\n",
       "      <td>7.0</td>\n",
       "      <td>2009.0</td>\n",
       "    </tr>\n",
       "    <tr>\n",
       "      <th>3</th>\n",
       "      <td>60.0</td>\n",
       "      <td>83.000000</td>\n",
       "      <td>10005.0</td>\n",
       "      <td>7.0</td>\n",
       "      <td>5.0</td>\n",
       "      <td>1977.0</td>\n",
       "      <td>1977.0</td>\n",
       "      <td>299.000000</td>\n",
       "      <td>392.0</td>\n",
       "      <td>0.0</td>\n",
       "      <td>...</td>\n",
       "      <td>505.0</td>\n",
       "      <td>288.0</td>\n",
       "      <td>117.0</td>\n",
       "      <td>0.0</td>\n",
       "      <td>0.0</td>\n",
       "      <td>0.0</td>\n",
       "      <td>0.0</td>\n",
       "      <td>0.0</td>\n",
       "      <td>3.0</td>\n",
       "      <td>2008.0</td>\n",
       "    </tr>\n",
       "    <tr>\n",
       "      <th>4</th>\n",
       "      <td>160.0</td>\n",
       "      <td>21.000000</td>\n",
       "      <td>1680.0</td>\n",
       "      <td>6.0</td>\n",
       "      <td>5.0</td>\n",
       "      <td>1971.0</td>\n",
       "      <td>1971.0</td>\n",
       "      <td>381.000000</td>\n",
       "      <td>0.0</td>\n",
       "      <td>0.0</td>\n",
       "      <td>...</td>\n",
       "      <td>264.0</td>\n",
       "      <td>0.0</td>\n",
       "      <td>0.0</td>\n",
       "      <td>0.0</td>\n",
       "      <td>0.0</td>\n",
       "      <td>0.0</td>\n",
       "      <td>0.0</td>\n",
       "      <td>0.0</td>\n",
       "      <td>3.0</td>\n",
       "      <td>2010.0</td>\n",
       "    </tr>\n",
       "    <tr>\n",
       "      <th>...</th>\n",
       "      <td>...</td>\n",
       "      <td>...</td>\n",
       "      <td>...</td>\n",
       "      <td>...</td>\n",
       "      <td>...</td>\n",
       "      <td>...</td>\n",
       "      <td>...</td>\n",
       "      <td>...</td>\n",
       "      <td>...</td>\n",
       "      <td>...</td>\n",
       "      <td>...</td>\n",
       "      <td>...</td>\n",
       "      <td>...</td>\n",
       "      <td>...</td>\n",
       "      <td>...</td>\n",
       "      <td>...</td>\n",
       "      <td>...</td>\n",
       "      <td>...</td>\n",
       "      <td>...</td>\n",
       "      <td>...</td>\n",
       "      <td>...</td>\n",
       "    </tr>\n",
       "    <tr>\n",
       "      <th>287</th>\n",
       "      <td>120.0</td>\n",
       "      <td>32.000000</td>\n",
       "      <td>10846.0</td>\n",
       "      <td>8.0</td>\n",
       "      <td>5.0</td>\n",
       "      <td>1993.0</td>\n",
       "      <td>1993.0</td>\n",
       "      <td>0.000000</td>\n",
       "      <td>1619.0</td>\n",
       "      <td>0.0</td>\n",
       "      <td>...</td>\n",
       "      <td>473.0</td>\n",
       "      <td>122.0</td>\n",
       "      <td>30.0</td>\n",
       "      <td>0.0</td>\n",
       "      <td>0.0</td>\n",
       "      <td>0.0</td>\n",
       "      <td>0.0</td>\n",
       "      <td>0.0</td>\n",
       "      <td>5.0</td>\n",
       "      <td>2008.0</td>\n",
       "    </tr>\n",
       "    <tr>\n",
       "      <th>288</th>\n",
       "      <td>20.0</td>\n",
       "      <td>105.000000</td>\n",
       "      <td>15431.0</td>\n",
       "      <td>10.0</td>\n",
       "      <td>5.0</td>\n",
       "      <td>2008.0</td>\n",
       "      <td>2008.0</td>\n",
       "      <td>200.000000</td>\n",
       "      <td>1767.0</td>\n",
       "      <td>539.0</td>\n",
       "      <td>...</td>\n",
       "      <td>672.0</td>\n",
       "      <td>0.0</td>\n",
       "      <td>72.0</td>\n",
       "      <td>0.0</td>\n",
       "      <td>0.0</td>\n",
       "      <td>170.0</td>\n",
       "      <td>0.0</td>\n",
       "      <td>0.0</td>\n",
       "      <td>4.0</td>\n",
       "      <td>2009.0</td>\n",
       "    </tr>\n",
       "    <tr>\n",
       "      <th>289</th>\n",
       "      <td>50.0</td>\n",
       "      <td>60.000000</td>\n",
       "      <td>8520.0</td>\n",
       "      <td>6.0</td>\n",
       "      <td>7.0</td>\n",
       "      <td>1916.0</td>\n",
       "      <td>1950.0</td>\n",
       "      <td>0.000000</td>\n",
       "      <td>168.0</td>\n",
       "      <td>546.0</td>\n",
       "      <td>...</td>\n",
       "      <td>216.0</td>\n",
       "      <td>88.0</td>\n",
       "      <td>15.0</td>\n",
       "      <td>0.0</td>\n",
       "      <td>0.0</td>\n",
       "      <td>0.0</td>\n",
       "      <td>0.0</td>\n",
       "      <td>0.0</td>\n",
       "      <td>8.0</td>\n",
       "      <td>2007.0</td>\n",
       "    </tr>\n",
       "    <tr>\n",
       "      <th>290</th>\n",
       "      <td>30.0</td>\n",
       "      <td>50.000000</td>\n",
       "      <td>5330.0</td>\n",
       "      <td>4.0</td>\n",
       "      <td>7.0</td>\n",
       "      <td>1940.0</td>\n",
       "      <td>1950.0</td>\n",
       "      <td>0.000000</td>\n",
       "      <td>280.0</td>\n",
       "      <td>0.0</td>\n",
       "      <td>...</td>\n",
       "      <td>0.0</td>\n",
       "      <td>164.0</td>\n",
       "      <td>0.0</td>\n",
       "      <td>0.0</td>\n",
       "      <td>0.0</td>\n",
       "      <td>0.0</td>\n",
       "      <td>0.0</td>\n",
       "      <td>0.0</td>\n",
       "      <td>12.0</td>\n",
       "      <td>2009.0</td>\n",
       "    </tr>\n",
       "    <tr>\n",
       "      <th>291</th>\n",
       "      <td>75.0</td>\n",
       "      <td>60.000000</td>\n",
       "      <td>7200.0</td>\n",
       "      <td>5.0</td>\n",
       "      <td>7.0</td>\n",
       "      <td>1920.0</td>\n",
       "      <td>1996.0</td>\n",
       "      <td>0.000000</td>\n",
       "      <td>0.0</td>\n",
       "      <td>0.0</td>\n",
       "      <td>...</td>\n",
       "      <td>288.0</td>\n",
       "      <td>0.0</td>\n",
       "      <td>0.0</td>\n",
       "      <td>144.0</td>\n",
       "      <td>0.0</td>\n",
       "      <td>0.0</td>\n",
       "      <td>0.0</td>\n",
       "      <td>0.0</td>\n",
       "      <td>3.0</td>\n",
       "      <td>2007.0</td>\n",
       "    </tr>\n",
       "  </tbody>\n",
       "</table>\n",
       "<p>292 rows × 36 columns</p>\n",
       "</div>"
      ],
      "text/plain": [
       "     MSSubClass  LotFrontage  LotArea  OverallQual  OverallCond  YearBuilt  \\\n",
       "0          20.0    69.614017  32668.0          6.0          3.0     1957.0   \n",
       "1          50.0    79.000000   9490.0          6.0          7.0     1941.0   \n",
       "2          50.0    69.614017   7015.0          5.0          4.0     1950.0   \n",
       "3          60.0    83.000000  10005.0          7.0          5.0     1977.0   \n",
       "4         160.0    21.000000   1680.0          6.0          5.0     1971.0   \n",
       "..          ...          ...      ...          ...          ...        ...   \n",
       "287       120.0    32.000000  10846.0          8.0          5.0     1993.0   \n",
       "288        20.0   105.000000  15431.0         10.0          5.0     2008.0   \n",
       "289        50.0    60.000000   8520.0          6.0          7.0     1916.0   \n",
       "290        30.0    50.000000   5330.0          4.0          7.0     1940.0   \n",
       "291        75.0    60.000000   7200.0          5.0          7.0     1920.0   \n",
       "\n",
       "     YearRemodAdd  MasVnrArea  BsmtFinSF1  BsmtFinSF2  ...  GarageArea  \\\n",
       "0          1975.0  103.481067      1219.0         0.0  ...       484.0   \n",
       "1          1950.0    0.000000       403.0       165.0  ...       240.0   \n",
       "2          1950.0  161.000000       185.0         0.0  ...       352.0   \n",
       "3          1977.0  299.000000       392.0         0.0  ...       505.0   \n",
       "4          1971.0  381.000000         0.0         0.0  ...       264.0   \n",
       "..            ...         ...         ...         ...  ...         ...   \n",
       "287        1993.0    0.000000      1619.0         0.0  ...       473.0   \n",
       "288        2008.0  200.000000      1767.0       539.0  ...       672.0   \n",
       "289        1950.0    0.000000       168.0       546.0  ...       216.0   \n",
       "290        1950.0    0.000000       280.0         0.0  ...         0.0   \n",
       "291        1996.0    0.000000         0.0         0.0  ...       288.0   \n",
       "\n",
       "     WoodDeckSF  OpenPorchSF  EnclosedPorch  3SsnPorch  ScreenPorch  PoolArea  \\\n",
       "0           0.0          0.0          200.0        0.0          0.0       0.0   \n",
       "1           0.0          0.0           32.0        0.0          0.0       0.0   \n",
       "2           0.0          0.0          248.0        0.0          0.0       0.0   \n",
       "3         288.0        117.0            0.0        0.0          0.0       0.0   \n",
       "4           0.0          0.0            0.0        0.0          0.0       0.0   \n",
       "..          ...          ...            ...        ...          ...       ...   \n",
       "287       122.0         30.0            0.0        0.0          0.0       0.0   \n",
       "288         0.0         72.0            0.0        0.0        170.0       0.0   \n",
       "289        88.0         15.0            0.0        0.0          0.0       0.0   \n",
       "290       164.0          0.0            0.0        0.0          0.0       0.0   \n",
       "291         0.0          0.0          144.0        0.0          0.0       0.0   \n",
       "\n",
       "     MiscVal  MoSold  YrSold  \n",
       "0        0.0     3.0  2007.0  \n",
       "1        0.0     8.0  2006.0  \n",
       "2        0.0     7.0  2009.0  \n",
       "3        0.0     3.0  2008.0  \n",
       "4        0.0     3.0  2010.0  \n",
       "..       ...     ...     ...  \n",
       "287      0.0     5.0  2008.0  \n",
       "288      0.0     4.0  2009.0  \n",
       "289      0.0     8.0  2007.0  \n",
       "290      0.0    12.0  2009.0  \n",
       "291      0.0     3.0  2007.0  \n",
       "\n",
       "[292 rows x 36 columns]"
      ]
     },
     "execution_count": 17,
     "metadata": {},
     "output_type": "execute_result"
    }
   ],
   "source": [
    "imputed_X_valid"
   ]
  },
  {
   "cell_type": "code",
   "execution_count": 18,
   "id": "8ed14d47",
   "metadata": {
    "execution": {
     "iopub.execute_input": "2022-03-02T23:17:06.952241Z",
     "iopub.status.busy": "2022-03-02T23:17:06.951457Z",
     "iopub.status.idle": "2022-03-02T23:17:06.955771Z",
     "shell.execute_reply": "2022-03-02T23:17:06.956372Z",
     "shell.execute_reply.started": "2022-03-02T22:00:07.360236Z"
    },
    "papermill": {
     "duration": 0.070397,
     "end_time": "2022-03-02T23:17:06.956561",
     "exception": false,
     "start_time": "2022-03-02T23:17:06.886164",
     "status": "completed"
    },
    "tags": []
   },
   "outputs": [
    {
     "data": {
      "application/javascript": [
       "parent.postMessage({\"jupyterEvent\": \"custom.exercise_interaction\", \"data\": {\"interactionType\": 3, \"questionType\": 2, \"questionId\": \"3.1_ImputeCode\", \"learnToolsVersion\": \"0.3.4\", \"valueTowardsCompletion\": 0.0, \"failureMessage\": \"\", \"exceptionClass\": \"\", \"trace\": \"\", \"outcomeType\": 4}}, \"*\")"
      ],
      "text/plain": [
       "<IPython.core.display.Javascript object>"
      ]
     },
     "metadata": {},
     "output_type": "display_data"
    },
    {
     "data": {
      "text/markdown": [
       "<span style=\"color:#33cc99\">Solution:</span> \n",
       "```python\n",
       "# Imputation\n",
       "my_imputer = SimpleImputer()\n",
       "imputed_X_train = pd.DataFrame(my_imputer.fit_transform(X_train))\n",
       "imputed_X_valid = pd.DataFrame(my_imputer.transform(X_valid))\n",
       "\n",
       "# Imputation removed column names; put them back\n",
       "imputed_X_train.columns = X_train.columns\n",
       "imputed_X_valid.columns = X_valid.columns\n",
       "\n",
       "```"
      ],
      "text/plain": [
       "Solution: \n",
       "```python\n",
       "# Imputation\n",
       "my_imputer = SimpleImputer()\n",
       "imputed_X_train = pd.DataFrame(my_imputer.fit_transform(X_train))\n",
       "imputed_X_valid = pd.DataFrame(my_imputer.transform(X_valid))\n",
       "\n",
       "# Imputation removed column names; put them back\n",
       "imputed_X_train.columns = X_train.columns\n",
       "imputed_X_valid.columns = X_valid.columns\n",
       "\n",
       "```"
      ]
     },
     "metadata": {},
     "output_type": "display_data"
    }
   ],
   "source": [
    "# Lines below will give you a hint or solution code\n",
    "#step_3.a.hint()\n",
    "step_3.a.solution()"
   ]
  },
  {
   "cell_type": "markdown",
   "id": "f37b945a",
   "metadata": {
    "papermill": {
     "duration": 0.060817,
     "end_time": "2022-03-02T23:17:07.078015",
     "exception": false,
     "start_time": "2022-03-02T23:17:07.017198",
     "status": "completed"
    },
    "tags": []
   },
   "source": [
    "Run the next code cell without changes to obtain the MAE for this approach."
   ]
  },
  {
   "cell_type": "code",
   "execution_count": 19,
   "id": "cbf8cc3f",
   "metadata": {
    "execution": {
     "iopub.execute_input": "2022-03-02T23:17:07.202632Z",
     "iopub.status.busy": "2022-03-02T23:17:07.201906Z",
     "iopub.status.idle": "2022-03-02T23:17:08.369848Z",
     "shell.execute_reply": "2022-03-02T23:17:08.370507Z",
     "shell.execute_reply.started": "2022-03-02T22:08:18.669240Z"
    },
    "papermill": {
     "duration": 1.23146,
     "end_time": "2022-03-02T23:17:08.370714",
     "exception": false,
     "start_time": "2022-03-02T23:17:07.139254",
     "status": "completed"
    },
    "tags": []
   },
   "outputs": [
    {
     "name": "stdout",
     "output_type": "stream",
     "text": [
      "MAE (Imputation):\n",
      "18062.894611872147\n"
     ]
    }
   ],
   "source": [
    "print(\"MAE (Imputation):\")\n",
    "print(score_dataset(imputed_X_train, imputed_X_valid, y_train, y_valid))"
   ]
  },
  {
   "cell_type": "markdown",
   "id": "fbaf6589",
   "metadata": {
    "papermill": {
     "duration": 0.060865,
     "end_time": "2022-03-02T23:17:08.491370",
     "exception": false,
     "start_time": "2022-03-02T23:17:08.430505",
     "status": "completed"
    },
    "tags": []
   },
   "source": [
    "### Part B\n",
    "\n",
    "Compare the MAE from each approach.  Does anything surprise you about the results?  Why do you think one approach performed better than the other?"
   ]
  },
  {
   "cell_type": "code",
   "execution_count": 20,
   "id": "bc4a81e0",
   "metadata": {
    "execution": {
     "iopub.execute_input": "2022-03-02T23:17:08.616012Z",
     "iopub.status.busy": "2022-03-02T23:17:08.614927Z",
     "iopub.status.idle": "2022-03-02T23:17:08.623981Z",
     "shell.execute_reply": "2022-03-02T23:17:08.623305Z",
     "shell.execute_reply.started": "2022-03-02T22:08:36.299942Z"
    },
    "papermill": {
     "duration": 0.072824,
     "end_time": "2022-03-02T23:17:08.624143",
     "exception": false,
     "start_time": "2022-03-02T23:17:08.551319",
     "status": "completed"
    },
    "tags": []
   },
   "outputs": [
    {
     "data": {
      "application/javascript": [
       "parent.postMessage({\"jupyterEvent\": \"custom.exercise_interaction\", \"data\": {\"outcomeType\": 1, \"valueTowardsCompletion\": 1.0, \"interactionType\": 1, \"questionType\": 4, \"questionId\": \"3.2_ImputeThought\", \"learnToolsVersion\": \"0.3.4\", \"failureMessage\": \"\", \"exceptionClass\": \"\", \"trace\": \"\"}}, \"*\")"
      ],
      "text/plain": [
       "<IPython.core.display.Javascript object>"
      ]
     },
     "metadata": {},
     "output_type": "display_data"
    },
    {
     "data": {
      "text/markdown": [
       "<span style=\"color:#33cc33\">Correct:</span> \n",
       "\n",
       "Given that thre are so few missing values in the dataset, we'd expect imputation to perform better than dropping columns entirely.  However, we see that dropping columns performs slightly better!  While this can probably partially be attributed to noise in the dataset, another potential explanation is that the imputation method is not a great match to this dataset.  That is, maybe instead of filling in the mean value, it makes more sense to set every missing value to a value of 0, to fill in the most frequently encountered value, or to use some other method.  For instance, consider the `GarageYrBlt` column (which indicates the year that the garage was built).  It's likely that in some cases, a missing value could indicate a house that does not have a garage.  Does it make more sense to fill in the median value along each column in this case?  Or could we get better results by filling in the minimum value along each column?  It's not quite clear what's best in this case, but perhaps we can rule out some options immediately - for instance, setting missing values in this column to 0 is likely to yield horrible results!"
      ],
      "text/plain": [
       "Correct: \n",
       "\n",
       "Given that thre are so few missing values in the dataset, we'd expect imputation to perform better than dropping columns entirely.  However, we see that dropping columns performs slightly better!  While this can probably partially be attributed to noise in the dataset, another potential explanation is that the imputation method is not a great match to this dataset.  That is, maybe instead of filling in the mean value, it makes more sense to set every missing value to a value of 0, to fill in the most frequently encountered value, or to use some other method.  For instance, consider the `GarageYrBlt` column (which indicates the year that the garage was built).  It's likely that in some cases, a missing value could indicate a house that does not have a garage.  Does it make more sense to fill in the median value along each column in this case?  Or could we get better results by filling in the minimum value along each column?  It's not quite clear what's best in this case, but perhaps we can rule out some options immediately - for instance, setting missing values in this column to 0 is likely to yield horrible results!"
      ]
     },
     "metadata": {},
     "output_type": "display_data"
    }
   ],
   "source": [
    "# Check your answer (Run this code cell to receive credit!)\n",
    "step_3.b.check()"
   ]
  },
  {
   "cell_type": "code",
   "execution_count": 21,
   "id": "595e0a0b",
   "metadata": {
    "execution": {
     "iopub.execute_input": "2022-03-02T23:17:08.752278Z",
     "iopub.status.busy": "2022-03-02T23:17:08.751481Z",
     "iopub.status.idle": "2022-03-02T23:17:08.763024Z",
     "shell.execute_reply": "2022-03-02T23:17:08.763705Z",
     "shell.execute_reply.started": "2022-03-02T22:09:45.395585Z"
    },
    "papermill": {
     "duration": 0.078042,
     "end_time": "2022-03-02T23:17:08.763921",
     "exception": false,
     "start_time": "2022-03-02T23:17:08.685879",
     "status": "completed"
    },
    "tags": []
   },
   "outputs": [
    {
     "data": {
      "application/javascript": [
       "parent.postMessage({\"jupyterEvent\": \"custom.exercise_interaction\", \"data\": {\"interactionType\": 2, \"questionType\": 4, \"questionId\": \"3.2_ImputeThought\", \"learnToolsVersion\": \"0.3.4\", \"valueTowardsCompletion\": 0.0, \"failureMessage\": \"\", \"exceptionClass\": \"\", \"trace\": \"\", \"outcomeType\": 4}}, \"*\")"
      ],
      "text/plain": [
       "<IPython.core.display.Javascript object>"
      ]
     },
     "metadata": {},
     "output_type": "display_data"
    },
    {
     "data": {
      "text/markdown": [
       "<span style=\"color:#3366cc\">Hint:</span> Did removing missing values yield a larger or smaller MAE than imputation? Does this agree with the coding example from the tutorial?"
      ],
      "text/plain": [
       "Hint: Did removing missing values yield a larger or smaller MAE than imputation? Does this agree with the coding example from the tutorial?"
      ]
     },
     "metadata": {},
     "output_type": "display_data"
    }
   ],
   "source": [
    "step_3.b.hint()"
   ]
  },
  {
   "cell_type": "markdown",
   "id": "1a63902a",
   "metadata": {
    "papermill": {
     "duration": 0.061605,
     "end_time": "2022-03-02T23:17:08.889498",
     "exception": false,
     "start_time": "2022-03-02T23:17:08.827893",
     "status": "completed"
    },
    "tags": []
   },
   "source": [
    "# Step 4: Generate test predictions\n",
    "\n",
    "In this final step, you'll use any approach of your choosing to deal with missing values.  Once you've preprocessed the training and validation features, you'll train and evaluate a random forest model.  Then, you'll preprocess the test data before generating predictions that can be submitted to the competition!\n",
    "\n",
    "### Part A\n",
    "\n",
    "Use the next code cell to preprocess the training and validation data.  Set the preprocessed DataFrames to `final_X_train` and `final_X_valid`.  **You can use any approach of your choosing here!**  in order for this step to be marked as correct, you need only ensure:\n",
    "- the preprocessed DataFrames have the same number of columns,\n",
    "- the preprocessed DataFrames have no missing values, \n",
    "- `final_X_train` and `y_train` have the same number of rows, and\n",
    "- `final_X_valid` and `y_valid` have the same number of rows."
   ]
  },
  {
   "cell_type": "code",
   "execution_count": 22,
   "id": "cc04f735",
   "metadata": {
    "execution": {
     "iopub.execute_input": "2022-03-02T23:17:09.017228Z",
     "iopub.status.busy": "2022-03-02T23:17:09.016478Z",
     "iopub.status.idle": "2022-03-02T23:17:09.072404Z",
     "shell.execute_reply": "2022-03-02T23:17:09.071664Z",
     "shell.execute_reply.started": "2022-03-02T22:26:57.740468Z"
    },
    "papermill": {
     "duration": 0.120978,
     "end_time": "2022-03-02T23:17:09.072561",
     "exception": false,
     "start_time": "2022-03-02T23:17:08.951583",
     "status": "completed"
    },
    "tags": []
   },
   "outputs": [
    {
     "data": {
      "application/javascript": [
       "parent.postMessage({\"jupyterEvent\": \"custom.exercise_interaction\", \"data\": {\"outcomeType\": 1, \"valueTowardsCompletion\": 1.0, \"interactionType\": 1, \"questionType\": 2, \"questionId\": \"4.1_PredsCodeA\", \"learnToolsVersion\": \"0.3.4\", \"failureMessage\": \"\", \"exceptionClass\": \"\", \"trace\": \"\"}}, \"*\")"
      ],
      "text/plain": [
       "<IPython.core.display.Javascript object>"
      ]
     },
     "metadata": {},
     "output_type": "display_data"
    },
    {
     "data": {
      "text/markdown": [
       "<span style=\"color:#33cc33\">Correct</span>"
      ],
      "text/plain": [
       "Correct"
      ]
     },
     "metadata": {},
     "output_type": "display_data"
    }
   ],
   "source": [
    "# Preprocessed training and validation features\n",
    "\n",
    "\n",
    "final_X_train = imputed_X_train.copy()\n",
    "final_X_valid = imputed_X_valid.copy()\n",
    "\n",
    "for col in cols_with_missing:\n",
    "    final_X_train[col + '_was_missing'] = final_X_train[col].isnull()\n",
    "    final_X_valid[col + '_was_missing'] = final_X_valid[col].isnull()\n",
    "\n",
    "my_imputer = SimpleImputer()\n",
    "imputed_final_X_train = pd.DataFrame(my_imputer.fit_transform(final_X_train))\n",
    "imputed_final_X_valid = pd.DataFrame(my_imputer.transform(final_X_valid))\n",
    "\n",
    "imputed_final_X_train.columns=final_X_train.columns\n",
    "imputed_final_X_valid.columns=final_X_valid.columns\n",
    "\n",
    "\n",
    "# Check your answers\n",
    "step_4.a.check()"
   ]
  },
  {
   "cell_type": "code",
   "execution_count": 23,
   "id": "dd80ef47",
   "metadata": {
    "execution": {
     "iopub.execute_input": "2022-03-02T23:17:09.207461Z",
     "iopub.status.busy": "2022-03-02T23:17:09.206646Z",
     "iopub.status.idle": "2022-03-02T23:17:09.212277Z",
     "shell.execute_reply": "2022-03-02T23:17:09.212779Z",
     "shell.execute_reply.started": "2022-03-02T22:27:09.961145Z"
    },
    "papermill": {
     "duration": 0.074228,
     "end_time": "2022-03-02T23:17:09.213000",
     "exception": false,
     "start_time": "2022-03-02T23:17:09.138772",
     "status": "completed"
    },
    "tags": []
   },
   "outputs": [
    {
     "data": {
      "text/plain": [
       "Index(['MSSubClass', 'LotFrontage', 'LotArea', 'OverallQual', 'OverallCond',\n",
       "       'YearBuilt', 'YearRemodAdd', 'MasVnrArea', 'BsmtFinSF1', 'BsmtFinSF2',\n",
       "       'BsmtUnfSF', 'TotalBsmtSF', '1stFlrSF', '2ndFlrSF', 'LowQualFinSF',\n",
       "       'GrLivArea', 'BsmtFullBath', 'BsmtHalfBath', 'FullBath', 'HalfBath',\n",
       "       'BedroomAbvGr', 'KitchenAbvGr', 'TotRmsAbvGrd', 'Fireplaces',\n",
       "       'GarageYrBlt', 'GarageCars', 'GarageArea', 'WoodDeckSF', 'OpenPorchSF',\n",
       "       'EnclosedPorch', '3SsnPorch', 'ScreenPorch', 'PoolArea', 'MiscVal',\n",
       "       'MoSold', 'YrSold', 'LotFrontage_was_missing', 'MasVnrArea_was_missing',\n",
       "       'GarageYrBlt_was_missing'],\n",
       "      dtype='object')"
      ]
     },
     "execution_count": 23,
     "metadata": {},
     "output_type": "execute_result"
    }
   ],
   "source": [
    "final_X_train.columns"
   ]
  },
  {
   "cell_type": "code",
   "execution_count": 24,
   "id": "ba8c1f79",
   "metadata": {
    "execution": {
     "iopub.execute_input": "2022-03-02T23:17:09.348472Z",
     "iopub.status.busy": "2022-03-02T23:17:09.347761Z",
     "iopub.status.idle": "2022-03-02T23:17:09.351035Z",
     "shell.execute_reply": "2022-03-02T23:17:09.351651Z",
     "shell.execute_reply.started": "2022-03-02T21:55:54.574082Z"
    },
    "papermill": {
     "duration": 0.073322,
     "end_time": "2022-03-02T23:17:09.351884",
     "exception": false,
     "start_time": "2022-03-02T23:17:09.278562",
     "status": "completed"
    },
    "tags": []
   },
   "outputs": [],
   "source": [
    "# Lines below will give you a hint or solution code\n",
    "#step_4.a.hint()\n",
    "#step_4.a.solution()"
   ]
  },
  {
   "cell_type": "markdown",
   "id": "5e64fd38",
   "metadata": {
    "papermill": {
     "duration": 0.065239,
     "end_time": "2022-03-02T23:17:09.483938",
     "exception": false,
     "start_time": "2022-03-02T23:17:09.418699",
     "status": "completed"
    },
    "tags": []
   },
   "source": [
    "Run the next code cell to train and evaluate a random forest model.  (*Note that we don't use the `score_dataset()` function above, because we will soon use the trained model to generate test predictions!*)"
   ]
  },
  {
   "cell_type": "code",
   "execution_count": 25,
   "id": "73545016",
   "metadata": {
    "execution": {
     "iopub.execute_input": "2022-03-02T23:17:09.615791Z",
     "iopub.status.busy": "2022-03-02T23:17:09.615103Z",
     "iopub.status.idle": "2022-03-02T23:17:10.778354Z",
     "shell.execute_reply": "2022-03-02T23:17:10.779291Z",
     "shell.execute_reply.started": "2022-03-02T22:27:19.090074Z"
    },
    "papermill": {
     "duration": 1.231378,
     "end_time": "2022-03-02T23:17:10.779571",
     "exception": false,
     "start_time": "2022-03-02T23:17:09.548193",
     "status": "completed"
    },
    "tags": []
   },
   "outputs": [
    {
     "name": "stdout",
     "output_type": "stream",
     "text": [
      "MAE (Your approach):\n",
      "17948.94950913242\n"
     ]
    }
   ],
   "source": [
    "# Define and fit model\n",
    "model = RandomForestRegressor(n_estimators=100, random_state=0)\n",
    "model.fit(final_X_train, y_train)\n",
    "\n",
    "# Get validation predictions and MAE\n",
    "preds_valid = model.predict(final_X_valid)\n",
    "print(\"MAE (Your approach):\")\n",
    "print(mean_absolute_error(y_valid, preds_valid))"
   ]
  },
  {
   "cell_type": "markdown",
   "id": "e4e1e758",
   "metadata": {
    "papermill": {
     "duration": 0.065009,
     "end_time": "2022-03-02T23:17:10.911692",
     "exception": false,
     "start_time": "2022-03-02T23:17:10.846683",
     "status": "completed"
    },
    "tags": []
   },
   "source": [
    "### Part B\n",
    "\n",
    "Use the next code cell to preprocess your test data.  Make sure that you use a method that agrees with how you preprocessed the training and validation data, and set the preprocessed test features to `final_X_test`.\n",
    "\n",
    "Then, use the preprocessed test features and the trained model to generate test predictions in `preds_test`.\n",
    "\n",
    "In order for this step to be marked correct, you need only ensure:\n",
    "- the preprocessed test DataFrame has no missing values, and\n",
    "- `final_X_test` has the same number of rows as `X_test`."
   ]
  },
  {
   "cell_type": "code",
   "execution_count": 26,
   "id": "46ddf336",
   "metadata": {
    "execution": {
     "iopub.execute_input": "2022-03-02T23:17:11.046967Z",
     "iopub.status.busy": "2022-03-02T23:17:11.046201Z",
     "iopub.status.idle": "2022-03-02T23:17:11.053231Z",
     "shell.execute_reply": "2022-03-02T23:17:11.053831Z",
     "shell.execute_reply.started": "2022-03-02T21:55:54.577061Z"
    },
    "papermill": {
     "duration": 0.076806,
     "end_time": "2022-03-02T23:17:11.054029",
     "exception": false,
     "start_time": "2022-03-02T23:17:10.977223",
     "status": "completed"
    },
    "tags": []
   },
   "outputs": [
    {
     "data": {
      "application/javascript": [
       "parent.postMessage({\"jupyterEvent\": \"custom.exercise_interaction\", \"data\": {\"outcomeType\": 4, \"interactionType\": 1, \"questionType\": 2, \"questionId\": \"4.2_PredsCodeB\", \"learnToolsVersion\": \"0.3.4\", \"valueTowardsCompletion\": 0.0, \"failureMessage\": \"\", \"exceptionClass\": \"\", \"trace\": \"\"}}, \"*\")"
      ],
      "text/plain": [
       "<IPython.core.display.Javascript object>"
      ]
     },
     "metadata": {},
     "output_type": "display_data"
    },
    {
     "data": {
      "text/markdown": [
       "<span style=\"color:#ccaa33\">Check:</span> When you've updated the starter code, `check()` will tell you whether your code is correct. You need to update the code that creates variables `final_X_test`, `preds_test`"
      ],
      "text/plain": [
       "Check: When you've updated the starter code, `check()` will tell you whether your code is correct. You need to update the code that creates variables `final_X_test`, `preds_test`"
      ]
     },
     "metadata": {},
     "output_type": "display_data"
    }
   ],
   "source": [
    "# Fill in the line below: preprocess test data\n",
    "final_X_test = ____\n",
    "\n",
    "# Fill in the line below: get test predictions\n",
    "preds_test = ____\n",
    "\n",
    "# Check your answers\n",
    "step_4.b.check()"
   ]
  },
  {
   "cell_type": "code",
   "execution_count": 27,
   "id": "466e6589",
   "metadata": {
    "execution": {
     "iopub.execute_input": "2022-03-02T23:17:11.193715Z",
     "iopub.status.busy": "2022-03-02T23:17:11.192983Z",
     "iopub.status.idle": "2022-03-02T23:17:11.196272Z",
     "shell.execute_reply": "2022-03-02T23:17:11.195559Z",
     "shell.execute_reply.started": "2022-03-02T21:55:54.578557Z"
    },
    "papermill": {
     "duration": 0.074266,
     "end_time": "2022-03-02T23:17:11.196430",
     "exception": false,
     "start_time": "2022-03-02T23:17:11.122164",
     "status": "completed"
    },
    "tags": []
   },
   "outputs": [],
   "source": [
    "# Lines below will give you a hint or solution code\n",
    "#step_4.b.hint()\n",
    "#step_4.b.solution()"
   ]
  },
  {
   "cell_type": "markdown",
   "id": "b0a9ebf2",
   "metadata": {
    "papermill": {
     "duration": 0.06608,
     "end_time": "2022-03-02T23:17:11.330532",
     "exception": false,
     "start_time": "2022-03-02T23:17:11.264452",
     "status": "completed"
    },
    "tags": []
   },
   "source": [
    "Run the next code cell without changes to save your results to a CSV file that can be submitted directly to the competition."
   ]
  },
  {
   "cell_type": "code",
   "execution_count": 28,
   "id": "e5794135",
   "metadata": {
    "execution": {
     "iopub.execute_input": "2022-03-02T23:17:11.465964Z",
     "iopub.status.busy": "2022-03-02T23:17:11.465207Z",
     "iopub.status.idle": "2022-03-02T23:17:11.480558Z",
     "shell.execute_reply": "2022-03-02T23:17:11.481128Z",
     "shell.execute_reply.started": "2022-03-02T21:55:54.580381Z"
    },
    "papermill": {
     "duration": 0.084251,
     "end_time": "2022-03-02T23:17:11.481357",
     "exception": false,
     "start_time": "2022-03-02T23:17:11.397106",
     "status": "completed"
    },
    "tags": []
   },
   "outputs": [],
   "source": [
    "# Save test predictions to file\n",
    "output = pd.DataFrame({'Id': X_test.index,\n",
    "                       'SalePrice': preds_test})\n",
    "output.to_csv('submission.csv', index=False)"
   ]
  },
  {
   "cell_type": "markdown",
   "id": "f0e901aa",
   "metadata": {
    "papermill": {
     "duration": 0.065517,
     "end_time": "2022-03-02T23:17:11.613132",
     "exception": false,
     "start_time": "2022-03-02T23:17:11.547615",
     "status": "completed"
    },
    "tags": []
   },
   "source": [
    "# Submit your results\n",
    "\n",
    "Once you have successfully completed Step 4, you're ready to submit your results to the leaderboard!  (_You also learned how to do this in the previous exercise.  If you need a reminder of how to do this, please use the instructions below._)  \n",
    "\n",
    "First, you'll need to join the competition if you haven't already.  So open a new window by clicking on [this link](https://www.kaggle.com/c/home-data-for-ml-course).  Then click on the **Join Competition** button.\n",
    "\n",
    "![join competition image](https://i.imgur.com/wLmFtH3.png)\n",
    "\n",
    "Next, follow the instructions below:\n",
    "1. Begin by clicking on the **Save Version** button in the top right corner of the window.  This will generate a pop-up window.  \n",
    "2. Ensure that the **Save and Run All** option is selected, and then click on the **Save** button.\n",
    "3. This generates a window in the bottom left corner of the notebook.  After it has finished running, click on the number to the right of the **Save Version** button.  This pulls up a list of versions on the right of the screen.  Click on the ellipsis **(...)** to the right of the most recent version, and select **Open in Viewer**.  This brings you into view mode of the same page. You will need to scroll down to get back to these instructions.\n",
    "4. Click on the **Output** tab on the right of the screen.  Then, click on the file you would like to submit, and click on the **Submit** button to submit your results to the leaderboard.\n",
    "\n",
    "You have now successfully submitted to the competition!\n",
    "\n",
    "If you want to keep working to improve your performance, select the **Edit** button in the top right of the screen. Then you can change your code and repeat the process. There's a lot of room to improve, and you will climb up the leaderboard as you work.\n",
    "\n",
    "\n",
    "# Keep going\n",
    "\n",
    "Move on to learn what **[categorical variables](https://www.kaggle.com/alexisbcook/categorical-variables)** are, along with how to incorporate them into your machine learning models.  Categorical variables are very common in real-world data, but you'll get an error if you try to plug them into your models without processing them first!"
   ]
  },
  {
   "cell_type": "markdown",
   "id": "3a35fc6b",
   "metadata": {
    "papermill": {
     "duration": 0.065633,
     "end_time": "2022-03-02T23:17:11.744766",
     "exception": false,
     "start_time": "2022-03-02T23:17:11.679133",
     "status": "completed"
    },
    "tags": []
   },
   "source": [
    "---\n",
    "\n",
    "\n",
    "\n",
    "\n",
    "*Have questions or comments? Visit the [course discussion forum](https://www.kaggle.com/learn/intermediate-machine-learning/discussion) to chat with other learners.*"
   ]
  }
 ],
 "metadata": {
  "kernelspec": {
   "display_name": "Python 3",
   "language": "python",
   "name": "python3"
  },
  "language_info": {
   "codemirror_mode": {
    "name": "ipython",
    "version": 3
   },
   "file_extension": ".py",
   "mimetype": "text/x-python",
   "name": "python",
   "nbconvert_exporter": "python",
   "pygments_lexer": "ipython3",
   "version": "3.7.12"
  },
  "papermill": {
   "default_parameters": {},
   "duration": 22.333228,
   "end_time": "2022-03-02T23:17:12.546473",
   "environment_variables": {},
   "exception": null,
   "input_path": "__notebook__.ipynb",
   "output_path": "__notebook__.ipynb",
   "parameters": {},
   "start_time": "2022-03-02T23:16:50.213245",
   "version": "2.3.3"
  }
 },
 "nbformat": 4,
 "nbformat_minor": 5
}
