{
 "cells": [
  {
   "cell_type": "markdown",
   "id": "faa58474",
   "metadata": {
    "papermill": {
     "duration": 0.018026,
     "end_time": "2022-03-02T23:46:23.588925",
     "exception": false,
     "start_time": "2022-03-02T23:46:23.570899",
     "status": "completed"
    },
    "tags": []
   },
   "source": [
    "**This notebook is an exercise in the [Pandas](https://www.kaggle.com/learn/pandas) course.  You can reference the tutorial at [this link](https://www.kaggle.com/residentmario/data-types-and-missing-values).**\n",
    "\n",
    "---\n"
   ]
  },
  {
   "cell_type": "markdown",
   "id": "6f6e3bf5",
   "metadata": {
    "papermill": {
     "duration": 0.015022,
     "end_time": "2022-03-02T23:46:23.620318",
     "exception": false,
     "start_time": "2022-03-02T23:46:23.605296",
     "status": "completed"
    },
    "tags": []
   },
   "source": [
    "# Introduction\n",
    "\n",
    "Run the following cell to load your data and some utility functions."
   ]
  },
  {
   "cell_type": "code",
   "execution_count": 1,
   "id": "b8e3042d",
   "metadata": {
    "execution": {
     "iopub.execute_input": "2022-03-02T23:46:23.656736Z",
     "iopub.status.busy": "2022-03-02T23:46:23.655678Z",
     "iopub.status.idle": "2022-03-02T23:46:26.300680Z",
     "shell.execute_reply": "2022-03-02T23:46:26.301087Z",
     "shell.execute_reply.started": "2022-02-10T20:54:45.980427Z"
    },
    "papermill": {
     "duration": 2.664731,
     "end_time": "2022-03-02T23:46:26.301379",
     "exception": false,
     "start_time": "2022-03-02T23:46:23.636648",
     "status": "completed"
    },
    "tags": []
   },
   "outputs": [
    {
     "name": "stdout",
     "output_type": "stream",
     "text": [
      "Setup complete.\n"
     ]
    }
   ],
   "source": [
    "import pandas as pd\n",
    "\n",
    "reviews = pd.read_csv(\"../input/wine-reviews/winemag-data-130k-v2.csv\", index_col=0)\n",
    "\n",
    "from learntools.core import binder; binder.bind(globals())\n",
    "from learntools.pandas.data_types_and_missing_data import *\n",
    "print(\"Setup complete.\")"
   ]
  },
  {
   "cell_type": "markdown",
   "id": "804f6566",
   "metadata": {
    "papermill": {
     "duration": 0.016523,
     "end_time": "2022-03-02T23:46:26.335153",
     "exception": false,
     "start_time": "2022-03-02T23:46:26.318630",
     "status": "completed"
    },
    "tags": []
   },
   "source": [
    "# Exercises"
   ]
  },
  {
   "cell_type": "markdown",
   "id": "1b694a88",
   "metadata": {
    "papermill": {
     "duration": 0.016784,
     "end_time": "2022-03-02T23:46:26.368697",
     "exception": false,
     "start_time": "2022-03-02T23:46:26.351913",
     "status": "completed"
    },
    "tags": []
   },
   "source": [
    "## 1. \n",
    "What is the data type of the `points` column in the dataset?"
   ]
  },
  {
   "cell_type": "code",
   "execution_count": 2,
   "id": "e4ff8d25",
   "metadata": {
    "execution": {
     "iopub.execute_input": "2022-03-02T23:46:26.405921Z",
     "iopub.status.busy": "2022-03-02T23:46:26.404973Z",
     "iopub.status.idle": "2022-03-02T23:46:26.414970Z",
     "shell.execute_reply": "2022-03-02T23:46:26.415553Z",
     "shell.execute_reply.started": "2022-02-10T20:55:24.032988Z"
    },
    "papermill": {
     "duration": 0.030026,
     "end_time": "2022-03-02T23:46:26.415707",
     "exception": false,
     "start_time": "2022-03-02T23:46:26.385681",
     "status": "completed"
    },
    "tags": []
   },
   "outputs": [
    {
     "data": {
      "application/javascript": [
       "parent.postMessage({\"jupyterEvent\": \"custom.exercise_interaction\", \"data\": {\"outcomeType\": 1, \"valueTowardsCompletion\": 0.25, \"interactionType\": 1, \"questionType\": 1, \"questionId\": \"1_PointsDtype\", \"learnToolsVersion\": \"0.3.4\", \"failureMessage\": \"\", \"exceptionClass\": \"\", \"trace\": \"\"}}, \"*\")"
      ],
      "text/plain": [
       "<IPython.core.display.Javascript object>"
      ]
     },
     "metadata": {},
     "output_type": "display_data"
    },
    {
     "data": {
      "text/markdown": [
       "<span style=\"color:#33cc33\">Correct</span>"
      ],
      "text/plain": [
       "Correct"
      ]
     },
     "metadata": {},
     "output_type": "display_data"
    }
   ],
   "source": [
    "# Your code here\n",
    "dtype = reviews.points.dtype\n",
    "\n",
    "# Check your answer\n",
    "q1.check()"
   ]
  },
  {
   "cell_type": "code",
   "execution_count": 3,
   "id": "d400ce64",
   "metadata": {
    "execution": {
     "iopub.execute_input": "2022-03-02T23:46:26.456436Z",
     "iopub.status.busy": "2022-03-02T23:46:26.455445Z",
     "iopub.status.idle": "2022-03-02T23:46:26.457473Z",
     "shell.execute_reply": "2022-03-02T23:46:26.457980Z"
    },
    "papermill": {
     "duration": 0.024255,
     "end_time": "2022-03-02T23:46:26.458116",
     "exception": false,
     "start_time": "2022-03-02T23:46:26.433861",
     "status": "completed"
    },
    "tags": []
   },
   "outputs": [],
   "source": [
    "#q1.hint()\n",
    "#q1.solution()"
   ]
  },
  {
   "cell_type": "markdown",
   "id": "19e3a205",
   "metadata": {
    "papermill": {
     "duration": 0.017595,
     "end_time": "2022-03-02T23:46:26.494040",
     "exception": false,
     "start_time": "2022-03-02T23:46:26.476445",
     "status": "completed"
    },
    "tags": []
   },
   "source": [
    "## 2. \n",
    "Create a Series from entries in the `points` column, but convert the entries to strings. Hint: strings are `str` in native Python."
   ]
  },
  {
   "cell_type": "code",
   "execution_count": 4,
   "id": "2b03a549",
   "metadata": {
    "execution": {
     "iopub.execute_input": "2022-03-02T23:46:26.536273Z",
     "iopub.status.busy": "2022-03-02T23:46:26.535363Z",
     "iopub.status.idle": "2022-03-02T23:46:26.676918Z",
     "shell.execute_reply": "2022-03-02T23:46:26.676438Z",
     "shell.execute_reply.started": "2022-02-10T20:56:11.88154Z"
    },
    "papermill": {
     "duration": 0.163668,
     "end_time": "2022-03-02T23:46:26.677052",
     "exception": false,
     "start_time": "2022-03-02T23:46:26.513384",
     "status": "completed"
    },
    "tags": []
   },
   "outputs": [
    {
     "data": {
      "application/javascript": [
       "parent.postMessage({\"jupyterEvent\": \"custom.exercise_interaction\", \"data\": {\"outcomeType\": 1, \"valueTowardsCompletion\": 0.25, \"interactionType\": 1, \"questionType\": 1, \"questionId\": \"2_StrPoints\", \"learnToolsVersion\": \"0.3.4\", \"failureMessage\": \"\", \"exceptionClass\": \"\", \"trace\": \"\"}}, \"*\")"
      ],
      "text/plain": [
       "<IPython.core.display.Javascript object>"
      ]
     },
     "metadata": {},
     "output_type": "display_data"
    },
    {
     "data": {
      "text/markdown": [
       "<span style=\"color:#33cc33\">Correct</span>"
      ],
      "text/plain": [
       "Correct"
      ]
     },
     "metadata": {},
     "output_type": "display_data"
    }
   ],
   "source": [
    "point_strings = reviews.points.astype('str')\n",
    "\n",
    "# Check your answer\n",
    "q2.check()"
   ]
  },
  {
   "cell_type": "code",
   "execution_count": 5,
   "id": "2d1b7bc2",
   "metadata": {
    "execution": {
     "iopub.execute_input": "2022-03-02T23:46:26.722338Z",
     "iopub.status.busy": "2022-03-02T23:46:26.721687Z",
     "iopub.status.idle": "2022-03-02T23:46:26.724024Z",
     "shell.execute_reply": "2022-03-02T23:46:26.724609Z"
    },
    "papermill": {
     "duration": 0.026346,
     "end_time": "2022-03-02T23:46:26.724771",
     "exception": false,
     "start_time": "2022-03-02T23:46:26.698425",
     "status": "completed"
    },
    "tags": []
   },
   "outputs": [],
   "source": [
    "#q2.hint()\n",
    "#q2.solution()"
   ]
  },
  {
   "cell_type": "code",
   "execution_count": 6,
   "id": "2b4d4623",
   "metadata": {
    "execution": {
     "iopub.execute_input": "2022-03-02T23:46:26.768212Z",
     "iopub.status.busy": "2022-03-02T23:46:26.767646Z",
     "iopub.status.idle": "2022-03-02T23:46:26.773771Z",
     "shell.execute_reply": "2022-03-02T23:46:26.774293Z",
     "shell.execute_reply.started": "2022-02-10T20:56:17.345786Z"
    },
    "papermill": {
     "duration": 0.029323,
     "end_time": "2022-03-02T23:46:26.774444",
     "exception": false,
     "start_time": "2022-03-02T23:46:26.745121",
     "status": "completed"
    },
    "tags": []
   },
   "outputs": [
    {
     "data": {
      "text/plain": [
       "0         87\n",
       "1         87\n",
       "2         87\n",
       "3         87\n",
       "4         87\n",
       "          ..\n",
       "129966    90\n",
       "129967    90\n",
       "129968    90\n",
       "129969    90\n",
       "129970    90\n",
       "Name: points, Length: 129971, dtype: object"
      ]
     },
     "execution_count": 6,
     "metadata": {},
     "output_type": "execute_result"
    }
   ],
   "source": [
    "point_strings"
   ]
  },
  {
   "cell_type": "markdown",
   "id": "f234a6ca",
   "metadata": {
    "papermill": {
     "duration": 0.020831,
     "end_time": "2022-03-02T23:46:26.815723",
     "exception": false,
     "start_time": "2022-03-02T23:46:26.794892",
     "status": "completed"
    },
    "tags": []
   },
   "source": [
    "## 3.\n",
    "Sometimes the price column is null. How many reviews in the dataset are missing a price?"
   ]
  },
  {
   "cell_type": "code",
   "execution_count": 7,
   "id": "decb01b2",
   "metadata": {
    "execution": {
     "iopub.execute_input": "2022-03-02T23:46:26.859822Z",
     "iopub.status.busy": "2022-03-02T23:46:26.859212Z",
     "iopub.status.idle": "2022-03-02T23:46:26.865903Z",
     "shell.execute_reply": "2022-03-02T23:46:26.866624Z",
     "shell.execute_reply.started": "2022-02-10T21:03:14.632715Z"
    },
    "papermill": {
     "duration": 0.030389,
     "end_time": "2022-03-02T23:46:26.866818",
     "exception": false,
     "start_time": "2022-03-02T23:46:26.836429",
     "status": "completed"
    },
    "tags": []
   },
   "outputs": [
    {
     "data": {
      "application/javascript": [
       "parent.postMessage({\"jupyterEvent\": \"custom.exercise_interaction\", \"data\": {\"outcomeType\": 1, \"valueTowardsCompletion\": 0.25, \"interactionType\": 1, \"questionType\": 1, \"questionId\": \"3_CountMissingPrices\", \"learnToolsVersion\": \"0.3.4\", \"failureMessage\": \"\", \"exceptionClass\": \"\", \"trace\": \"\"}}, \"*\")"
      ],
      "text/plain": [
       "<IPython.core.display.Javascript object>"
      ]
     },
     "metadata": {},
     "output_type": "display_data"
    },
    {
     "data": {
      "text/markdown": [
       "<span style=\"color:#33cc33\">Correct</span>"
      ],
      "text/plain": [
       "Correct"
      ]
     },
     "metadata": {},
     "output_type": "display_data"
    }
   ],
   "source": [
    "n_missing_prices = pd.isnull(reviews.price).sum()\n",
    "# Check your answer\n",
    "q3.check()"
   ]
  },
  {
   "cell_type": "code",
   "execution_count": 8,
   "id": "b3ebcbd1",
   "metadata": {
    "execution": {
     "iopub.execute_input": "2022-03-02T23:46:26.911367Z",
     "iopub.status.busy": "2022-03-02T23:46:26.910824Z",
     "iopub.status.idle": "2022-03-02T23:46:26.918833Z",
     "shell.execute_reply": "2022-03-02T23:46:26.919399Z",
     "shell.execute_reply.started": "2022-02-10T21:00:01.643996Z"
    },
    "papermill": {
     "duration": 0.031313,
     "end_time": "2022-03-02T23:46:26.919566",
     "exception": false,
     "start_time": "2022-03-02T23:46:26.888253",
     "status": "completed"
    },
    "tags": []
   },
   "outputs": [
    {
     "data": {
      "application/javascript": [
       "parent.postMessage({\"jupyterEvent\": \"custom.exercise_interaction\", \"data\": {\"interactionType\": 2, \"questionType\": 1, \"questionId\": \"3_CountMissingPrices\", \"learnToolsVersion\": \"0.3.4\", \"valueTowardsCompletion\": 0.0, \"failureMessage\": \"\", \"exceptionClass\": \"\", \"trace\": \"\", \"outcomeType\": 4}}, \"*\")"
      ],
      "text/plain": [
       "<IPython.core.display.Javascript object>"
      ]
     },
     "metadata": {},
     "output_type": "display_data"
    },
    {
     "data": {
      "text/markdown": [
       "<span style=\"color:#3366cc\">Hint:</span> Use `pd.isnull()`."
      ],
      "text/plain": [
       "Hint: Use `pd.isnull()`."
      ]
     },
     "metadata": {},
     "output_type": "display_data"
    },
    {
     "data": {
      "application/javascript": [
       "parent.postMessage({\"jupyterEvent\": \"custom.exercise_interaction\", \"data\": {\"interactionType\": 3, \"questionType\": 1, \"questionId\": \"3_CountMissingPrices\", \"learnToolsVersion\": \"0.3.4\", \"valueTowardsCompletion\": 0.0, \"failureMessage\": \"\", \"exceptionClass\": \"\", \"trace\": \"\", \"outcomeType\": 4}}, \"*\")"
      ],
      "text/plain": [
       "<IPython.core.display.Javascript object>"
      ]
     },
     "metadata": {},
     "output_type": "display_data"
    },
    {
     "data": {
      "text/markdown": [
       "<span style=\"color:#33cc99\">Solution:</span> \n",
       "```python\n",
       "missing_price_reviews = reviews[reviews.price.isnull()]\n",
       "n_missing_prices = len(missing_price_reviews)\n",
       "# Cute alternative solution: if we sum a boolean series, True is treated as 1 and False as 0\n",
       "n_missing_prices = reviews.price.isnull().sum()\n",
       "# or equivalently:\n",
       "n_missing_prices = pd.isnull(reviews.price).sum()\n",
       "\n",
       "```"
      ],
      "text/plain": [
       "Solution: \n",
       "```python\n",
       "missing_price_reviews = reviews[reviews.price.isnull()]\n",
       "n_missing_prices = len(missing_price_reviews)\n",
       "# Cute alternative solution: if we sum a boolean series, True is treated as 1 and False as 0\n",
       "n_missing_prices = reviews.price.isnull().sum()\n",
       "# or equivalently:\n",
       "n_missing_prices = pd.isnull(reviews.price).sum()\n",
       "\n",
       "```"
      ]
     },
     "metadata": {},
     "output_type": "display_data"
    }
   ],
   "source": [
    "q3.hint()\n",
    "q3.solution()"
   ]
  },
  {
   "cell_type": "code",
   "execution_count": 9,
   "id": "028fb2b5",
   "metadata": {
    "execution": {
     "iopub.execute_input": "2022-03-02T23:46:26.969910Z",
     "iopub.status.busy": "2022-03-02T23:46:26.969291Z",
     "iopub.status.idle": "2022-03-02T23:46:26.974989Z",
     "shell.execute_reply": "2022-03-02T23:46:26.975545Z",
     "shell.execute_reply.started": "2022-02-10T21:02:40.693259Z"
    },
    "papermill": {
     "duration": 0.031984,
     "end_time": "2022-03-02T23:46:26.975701",
     "exception": false,
     "start_time": "2022-03-02T23:46:26.943717",
     "status": "completed"
    },
    "tags": []
   },
   "outputs": [
    {
     "data": {
      "text/plain": [
       "8996"
      ]
     },
     "execution_count": 9,
     "metadata": {},
     "output_type": "execute_result"
    }
   ],
   "source": [
    "n_missing_prices = pd.isnull(reviews.price).sum()\n",
    "n_missing_prices"
   ]
  },
  {
   "cell_type": "markdown",
   "id": "5d7f1e8b",
   "metadata": {
    "papermill": {
     "duration": 0.023258,
     "end_time": "2022-03-02T23:46:27.022922",
     "exception": false,
     "start_time": "2022-03-02T23:46:26.999664",
     "status": "completed"
    },
    "tags": []
   },
   "source": [
    "## 4.\n",
    "What are the most common wine-producing regions? Create a Series counting the number of times each value occurs in the `region_1` field. This field is often missing data, so replace missing values with `Unknown`. Sort in descending order.  Your output should look something like this:\n",
    "\n",
    "```\n",
    "Unknown                    21247\n",
    "Napa Valley                 4480\n",
    "                           ...  \n",
    "Bardolino Superiore            1\n",
    "Primitivo del Tarantino        1\n",
    "Name: region_1, Length: 1230, dtype: int64\n",
    "```"
   ]
  },
  {
   "cell_type": "code",
   "execution_count": 10,
   "id": "25829c75",
   "metadata": {
    "execution": {
     "iopub.execute_input": "2022-03-02T23:46:27.073776Z",
     "iopub.status.busy": "2022-03-02T23:46:27.073138Z",
     "iopub.status.idle": "2022-03-02T23:46:27.141971Z",
     "shell.execute_reply": "2022-03-02T23:46:27.142541Z",
     "shell.execute_reply.started": "2022-02-10T21:20:00.86632Z"
    },
    "papermill": {
     "duration": 0.095589,
     "end_time": "2022-03-02T23:46:27.142701",
     "exception": false,
     "start_time": "2022-03-02T23:46:27.047112",
     "status": "completed"
    },
    "tags": []
   },
   "outputs": [
    {
     "data": {
      "application/javascript": [
       "parent.postMessage({\"jupyterEvent\": \"custom.exercise_interaction\", \"data\": {\"outcomeType\": 1, \"valueTowardsCompletion\": 0.25, \"interactionType\": 1, \"questionType\": 2, \"questionId\": \"4_ReviewsPerRegion\", \"learnToolsVersion\": \"0.3.4\", \"failureMessage\": \"\", \"exceptionClass\": \"\", \"trace\": \"\"}}, \"*\")"
      ],
      "text/plain": [
       "<IPython.core.display.Javascript object>"
      ]
     },
     "metadata": {},
     "output_type": "display_data"
    },
    {
     "data": {
      "text/markdown": [
       "<span style=\"color:#33cc33\">Correct</span>"
      ],
      "text/plain": [
       "Correct"
      ]
     },
     "metadata": {},
     "output_type": "display_data"
    }
   ],
   "source": [
    "reviews_per_region = reviews.region_1.fillna('Unknown').value_counts().sort_values(ascending=False)\n",
    "\n",
    "# Check your answer\n",
    "q4.check()"
   ]
  },
  {
   "cell_type": "code",
   "execution_count": 11,
   "id": "07a50341",
   "metadata": {
    "execution": {
     "iopub.execute_input": "2022-03-02T23:46:27.197487Z",
     "iopub.status.busy": "2022-03-02T23:46:27.196916Z",
     "iopub.status.idle": "2022-03-02T23:46:27.204686Z",
     "shell.execute_reply": "2022-03-02T23:46:27.205267Z",
     "shell.execute_reply.started": "2022-02-10T21:19:44.810152Z"
    },
    "papermill": {
     "duration": 0.036522,
     "end_time": "2022-03-02T23:46:27.205419",
     "exception": false,
     "start_time": "2022-03-02T23:46:27.168897",
     "status": "completed"
    },
    "tags": []
   },
   "outputs": [
    {
     "data": {
      "application/javascript": [
       "parent.postMessage({\"jupyterEvent\": \"custom.exercise_interaction\", \"data\": {\"interactionType\": 2, \"questionType\": 2, \"questionId\": \"4_ReviewsPerRegion\", \"learnToolsVersion\": \"0.3.4\", \"valueTowardsCompletion\": 0.0, \"failureMessage\": \"\", \"exceptionClass\": \"\", \"trace\": \"\", \"outcomeType\": 4}}, \"*\")"
      ],
      "text/plain": [
       "<IPython.core.display.Javascript object>"
      ]
     },
     "metadata": {},
     "output_type": "display_data"
    },
    {
     "data": {
      "text/markdown": [
       "<span style=\"color:#3366cc\">Hint:</span> Use `fillna()`, `value_counts()`, and `sort_values()`."
      ],
      "text/plain": [
       "Hint: Use `fillna()`, `value_counts()`, and `sort_values()`."
      ]
     },
     "metadata": {},
     "output_type": "display_data"
    },
    {
     "data": {
      "application/javascript": [
       "parent.postMessage({\"jupyterEvent\": \"custom.exercise_interaction\", \"data\": {\"interactionType\": 3, \"questionType\": 2, \"questionId\": \"4_ReviewsPerRegion\", \"learnToolsVersion\": \"0.3.4\", \"valueTowardsCompletion\": 0.0, \"failureMessage\": \"\", \"exceptionClass\": \"\", \"trace\": \"\", \"outcomeType\": 4}}, \"*\")"
      ],
      "text/plain": [
       "<IPython.core.display.Javascript object>"
      ]
     },
     "metadata": {},
     "output_type": "display_data"
    },
    {
     "data": {
      "text/markdown": [
       "<span style=\"color:#33cc99\">Solution:</span> \n",
       "```python\n",
       "reviews_per_region = reviews.region_1.fillna('Unknown').value_counts().sort_values(ascending=False)\n",
       "```"
      ],
      "text/plain": [
       "Solution: \n",
       "```python\n",
       "reviews_per_region = reviews.region_1.fillna('Unknown').value_counts().sort_values(ascending=False)\n",
       "```"
      ]
     },
     "metadata": {},
     "output_type": "display_data"
    }
   ],
   "source": [
    "q4.hint()\n",
    "q4.solution()"
   ]
  },
  {
   "cell_type": "code",
   "execution_count": 12,
   "id": "e06b1b40",
   "metadata": {
    "execution": {
     "iopub.execute_input": "2022-03-02T23:46:27.262513Z",
     "iopub.status.busy": "2022-03-02T23:46:27.261739Z",
     "iopub.status.idle": "2022-03-02T23:46:27.267728Z",
     "shell.execute_reply": "2022-03-02T23:46:27.268224Z",
     "shell.execute_reply.started": "2022-02-10T21:20:14.919596Z"
    },
    "papermill": {
     "duration": 0.035963,
     "end_time": "2022-03-02T23:46:27.268377",
     "exception": false,
     "start_time": "2022-03-02T23:46:27.232414",
     "status": "completed"
    },
    "tags": []
   },
   "outputs": [
    {
     "data": {
      "text/plain": [
       "Unknown                 21247\n",
       "Napa Valley              4480\n",
       "Columbia Valley (WA)     4124\n",
       "Russian River Valley     3091\n",
       "California               2629\n",
       "                        ...  \n",
       "Offida Rosso                1\n",
       "Corton Perrières            1\n",
       "Isle St. George             1\n",
       "Geelong                     1\n",
       "Paestum                     1\n",
       "Name: region_1, Length: 1230, dtype: int64"
      ]
     },
     "execution_count": 12,
     "metadata": {},
     "output_type": "execute_result"
    }
   ],
   "source": [
    "reviews_per_region"
   ]
  },
  {
   "cell_type": "markdown",
   "id": "a2049e71",
   "metadata": {
    "papermill": {
     "duration": 0.027353,
     "end_time": "2022-03-02T23:46:27.324444",
     "exception": false,
     "start_time": "2022-03-02T23:46:27.297091",
     "status": "completed"
    },
    "tags": []
   },
   "source": [
    "# Keep going\n",
    "\n",
    "Move on to **[renaming and combining](https://www.kaggle.com/residentmario/renaming-and-combining)**."
   ]
  },
  {
   "cell_type": "markdown",
   "id": "85c98e54",
   "metadata": {
    "papermill": {
     "duration": 0.026922,
     "end_time": "2022-03-02T23:46:27.379128",
     "exception": false,
     "start_time": "2022-03-02T23:46:27.352206",
     "status": "completed"
    },
    "tags": []
   },
   "source": [
    "---\n",
    "\n",
    "\n",
    "\n",
    "\n",
    "*Have questions or comments? Visit the [course discussion forum](https://www.kaggle.com/learn/pandas/discussion) to chat with other learners.*"
   ]
  }
 ],
 "metadata": {
  "kernelspec": {
   "display_name": "Python 3",
   "language": "python",
   "name": "python3"
  },
  "language_info": {
   "codemirror_mode": {
    "name": "ipython",
    "version": 3
   },
   "file_extension": ".py",
   "mimetype": "text/x-python",
   "name": "python",
   "nbconvert_exporter": "python",
   "pygments_lexer": "ipython3",
   "version": "3.7.12"
  },
  "papermill": {
   "default_parameters": {},
   "duration": 13.18817,
   "end_time": "2022-03-02T23:46:28.016120",
   "environment_variables": {},
   "exception": null,
   "input_path": "__notebook__.ipynb",
   "output_path": "__notebook__.ipynb",
   "parameters": {},
   "start_time": "2022-03-02T23:46:14.827950",
   "version": "2.3.3"
  }
 },
 "nbformat": 4,
 "nbformat_minor": 5
}
